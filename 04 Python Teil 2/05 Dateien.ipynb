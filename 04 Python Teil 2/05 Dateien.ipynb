{
 "cells": [
  {
   "cell_type": "markdown",
   "metadata": {},
   "source": [
    "# Dateien"
   ]
  },
  {
   "cell_type": "markdown",
   "metadata": {},
   "source": [
    "## Eine Textdatei lesen und ihren Inhalt ausgeben"
   ]
  },
  {
   "cell_type": "code",
   "execution_count": 14,
   "metadata": {},
   "outputs": [
    {
     "name": "stdout",
     "output_type": "stream",
     "text": [
      "Hallo Leute.\n",
      "Ich bin eine wunderschöne weitere Zeile.\n"
     ]
    }
   ],
   "source": [
    "# Wir öffnen die Datei lesen.txt zum Lesen (\"r\") und speichern ihren Inhalt in die Variable file\n",
    "file = open(\"lesen.txt\", \"r\")\n",
    "\n",
    "# Wir gehen alle Zeilen nacheinander durch\n",
    "# In der txt-Datei stehen für uns nicht sichtbare Zeilenumbruchszeichen, durch die jeweils das Ende einer Zeile markiert ist\n",
    "for line in file:\n",
    "    # Eine Zeile ohne Zeilenumbruch ausgeben\n",
    "    print(line.strip())\n",
    "file.close()"
   ]
  },
  {
   "cell_type": "markdown",
   "metadata": {},
   "source": [
    "## In eine Textdatei schreiben"
   ]
  },
  {
   "cell_type": "code",
   "execution_count": 3,
   "metadata": {},
   "outputs": [],
   "source": [
    "# Wir öffnen eine Datei zum Schreiben (\"w\": write)\n",
    "file = open(\"schreiben.txt\", \"w\")\n",
    "\n",
    "students = [\"Max\", \"Monika\", \"Erik\", \"Franziska\"]\n",
    "\n",
    "# Wir loopen mit einer for-Schleife durch die Liste students\n",
    "for student in students:\n",
    "    # Mit der write-Methode schreiben wir den aktuellen String student und einen Zeilenumbruch in das file-Objekt\n",
    "    file.write(student + \"\\n\")\n",
    "\n",
    "# Abschließend müssen wir die Datei wieder schließen\n",
    "file.close()"
   ]
  },
  {
   "cell_type": "markdown",
   "metadata": {},
   "source": [
    "## Dateien öffnen mit with\n",
    "Wenn wir Dateien mit einer with-Konstruktion öffnen, dann brauchen wir sie nicht mehr explizit mit der close()-Methode schließen."
   ]
  },
  {
   "cell_type": "code",
   "execution_count": 13,
   "metadata": {},
   "outputs": [
    {
     "name": "stdout",
     "output_type": "stream",
     "text": [
      "Hallo Leute.\n",
      "\n",
      "Ich bin eine wunderschöne weitere Zeile.\n"
     ]
    }
   ],
   "source": [
    "with open(\"lesen.txt\", \"r\") as file:\n",
    "    for line in file:\n",
    "        print(line)"
   ]
  },
  {
   "cell_type": "code",
   "execution_count": null,
   "metadata": {},
   "outputs": [],
   "source": []
  },
  {
   "cell_type": "markdown",
   "metadata": {},
   "source": [
    "## CSV-Datei lesen\n",
    "csv steht für comma separated values. Auch solche csv-Dateien können wir mit Python auslesen."
   ]
  },
  {
   "cell_type": "code",
   "execution_count": 6,
   "metadata": {},
   "outputs": [
    {
     "name": "stdout",
     "output_type": "stream",
     "text": [
      "Muenchen: 1800000\n",
      "Berlin: 3000000\n",
      "Budapest: 2000000\n"
     ]
    }
   ],
   "source": [
    "with open(\"datei.csv\") as file:\n",
    "    for line in file:\n",
    "        data = line.strip().split(\";\")\n",
    "        print(data[0] + \": \" + data[1])"
   ]
  },
  {
   "cell_type": "markdown",
   "metadata": {},
   "source": [
    "## CSV-Datei lesen (und Daten überspringen)\n",
    "\n",
    "In dieser Lektion lernst du:\n",
    "\n",
    "- Wie du eine CSV-Datei einliest, und Zeilen überspringen kannst."
   ]
  },
  {
   "cell_type": "code",
   "execution_count": 7,
   "metadata": {},
   "outputs": [
    {
     "name": "stdout",
     "output_type": "stream",
     "text": [
      "['Berlin', '3000000', 'BER']\n"
     ]
    }
   ],
   "source": [
    "with open(\"datei.csv\") as file:\n",
    "    for line in file:\n",
    "        data = line.strip().split(\";\")\n",
    "        \n",
    "        if int(data[1]) < 2000000:\n",
    "            continue\n",
    "        \n",
    "        if data[2] == \"BUD\":\n",
    "            continue\n",
    "        \n",
    "        print(data)\n",
    "        \n",
    "        #if data[2] == \"BER\" or data[2] == \"BUD\":\n",
    "        #    print(data[2])\n",
    "        #    print(data)"
   ]
  },
  {
   "cell_type": "markdown",
   "metadata": {},
   "source": [
    "## Übung\n",
    "- Besorgt euch die datei https://data.stadt-zuerich.ch/dataset/pd-stapo-hundenamen/resource/8bf2127d-c354-4834-8590-9666cbd6e160\n",
    "- Ihr findet sie auch im Ordner 20151001_hundenamen.csv\n",
    "- Findet heraus wie oft der Hundename \"Aaron\" zwischen 2000 - 2012 gebraucht wurde. "
   ]
  },
  {
   "cell_type": "code",
   "execution_count": 8,
   "metadata": {},
   "outputs": [
    {
     "name": "stdout",
     "output_type": "stream",
     "text": [
      "True\n"
     ]
    }
   ],
   "source": [
    "n = \"1975\"\n",
    "print(int(n) < 1990)"
   ]
  },
  {
   "cell_type": "code",
   "execution_count": 11,
   "metadata": {},
   "outputs": [
    {
     "name": "stdout",
     "output_type": "stream",
     "text": [
      "1990\n",
      "1992\n"
     ]
    }
   ],
   "source": [
    "jahre = [\"Year\", \"1990\", \"1992\"]\n",
    "\n",
    "for jahr in jahre:\n",
    "    if jahr == \"Year\":\n",
    "        continue\n",
    "    print(int(jahr))"
   ]
  },
  {
   "cell_type": "code",
   "execution_count": 12,
   "metadata": {},
   "outputs": [],
   "source": [
    "### Euer code hier"
   ]
  },
  {
   "cell_type": "code",
   "execution_count": null,
   "metadata": {},
   "outputs": [],
   "source": []
  }
 ],
 "metadata": {
  "kernelspec": {
   "display_name": "Python 3",
   "language": "python",
   "name": "python3"
  },
  "language_info": {
   "codemirror_mode": {
    "name": "ipython",
    "version": 3
   },
   "file_extension": ".py",
   "mimetype": "text/x-python",
   "name": "python",
   "nbconvert_exporter": "python",
   "pygments_lexer": "ipython3",
   "version": "3.6.5"
  }
 },
 "nbformat": 4,
 "nbformat_minor": 2
}
