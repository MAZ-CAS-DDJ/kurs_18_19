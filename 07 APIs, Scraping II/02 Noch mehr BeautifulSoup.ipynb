{
 "cells": [
  {
   "cell_type": "markdown",
   "metadata": {},
   "source": [
    "# Noch mehr BeautifulSoup"
   ]
  },
  {
   "cell_type": "markdown",
   "metadata": {},
   "source": [
    "Nehmen wir nochmals die Website-Beispiiele hervor, die ihr gestern angefangen habt. Damit wollen wir den Rest des Morgens und den ersten Teil des Nachmittags verbringen. Dazwischen wollen wir uns noch mit einer weiter Funktion von BeautifulSoup aufhalten."
   ]
  },
  {
   "cell_type": "markdown",
   "metadata": {},
   "source": [
    "Beginnen wir aber mit einer kleinen Übung. Beginnen wir damit, die Lehrstellen auf der Website https://www.berufsberatung.ch/ herunter zu ziehen. Die Site verlangt etwas Interaktion. Wir suchen für die Übung \"Bäcker/in-Konditor/in-Confiseur/MBA\". Und dieses mal arbeiten wir mit Funktionen, um die Inhalte raus zu ziehen."
   ]
  },
  {
   "cell_type": "markdown",
   "metadata": {},
   "source": [
    "Machen wir wie immer unsere Imports"
   ]
  },
  {
   "cell_type": "code",
   "execution_count": 1,
   "metadata": {
    "collapsed": true
   },
   "outputs": [],
   "source": [
    "import requests\n",
    "from bs4 import BeautifulSoup"
   ]
  },
  {
   "cell_type": "markdown",
   "metadata": {},
   "source": [
    "Ziehen wir die Website rein"
   ]
  },
  {
   "cell_type": "code",
   "execution_count": 2,
   "metadata": {
    "collapsed": true
   },
   "outputs": [],
   "source": [
    "r = requests.get('https://www.berufsberatung.ch/dyn/show/2930?lang=de&Idx=100&OrderBy=1&Order=0&PostBackOrder=0&postBack=true&CountResult=43&Total_Idx=41&CounterSearch=3&UrlAjaxWebSearch=%2FLenaWeb%2FAjaxWebSearch&sw_=7673&LocName=&LocId=&Area=10')\n",
    "soup = BeautifulSoup(r.text, 'lxml')"
   ]
  },
  {
   "cell_type": "code",
   "execution_count": 3,
   "metadata": {},
   "outputs": [
    {
     "data": {
      "text/plain": [
       "[<div class=\"display-table-cell table-col-3\">Aeschi b. Spiez (BE)</div>,\n",
       " <div class=\"display-table-cell table-col-3\">Affeltrangen (TG)</div>,\n",
       " <div class=\"display-table-cell table-col-3\">Bern (BE)</div>,\n",
       " <div class=\"display-table-cell table-col-3\">Buchrain (LU)</div>,\n",
       " <div class=\"display-table-cell table-col-3\">Davos Dorf (GR)</div>,\n",
       " <div class=\"display-table-cell table-col-3\">Flühli LU (LU)</div>,\n",
       " <div class=\"display-table-cell table-col-3\">Gwatt (Thun) (BE)</div>,\n",
       " <div class=\"display-table-cell table-col-3\">Heiden (AR)</div>,\n",
       " <div class=\"display-table-cell table-col-3\">Hochdorf (LU)</div>,\n",
       " <div class=\"display-table-cell table-col-3\">Illnau (ZH)</div>,\n",
       " <div class=\"display-table-cell table-col-3\">Islikon (TG)</div>,\n",
       " <div class=\"display-table-cell table-col-3\">Landquart (GR)</div>,\n",
       " <div class=\"display-table-cell table-col-3\">Lenk im Simmental (BE)</div>,\n",
       " <div class=\"display-table-cell table-col-3\">Lungern (OW)</div>,\n",
       " <div class=\"display-table-cell table-col-3\">Luzern (LU)</div>,\n",
       " <div class=\"display-table-cell table-col-3\">Luzern (LU)</div>,\n",
       " <div class=\"display-table-cell table-col-3\">Marthalen (ZH)</div>,\n",
       " <div class=\"display-table-cell table-col-3\">Nottwil (LU)</div>,\n",
       " <div class=\"display-table-cell table-col-3\">Oberriet SG (SG)</div>,\n",
       " <div class=\"display-table-cell table-col-3\">Obfelden (ZH)</div>,\n",
       " <div class=\"display-table-cell table-col-3\">Pfäffikon ZH (ZH)</div>,\n",
       " <div class=\"display-table-cell table-col-3\">Pfungen (ZH)</div>,\n",
       " <div class=\"display-table-cell table-col-3\">Prilly (VD)</div>,\n",
       " <div class=\"display-table-cell table-col-3\">Sargans (SG)</div>,\n",
       " <div class=\"display-table-cell table-col-3\">Schönried (BE)</div>,\n",
       " <div class=\"display-table-cell table-col-3\">Schüpfheim (LU)</div>,\n",
       " <div class=\"display-table-cell table-col-3\">Sedrun (GR)</div>,\n",
       " <div class=\"display-table-cell table-col-3\">Sempach (LU)</div>,\n",
       " <div class=\"display-table-cell table-col-3\">St. Gallen (SG)</div>,\n",
       " <div class=\"display-table-cell table-col-3\">St. Moritz (GR)</div>,\n",
       " <div class=\"display-table-cell table-col-3\">Steffisburg (BE)</div>,\n",
       " <div class=\"display-table-cell table-col-3\">Suhr (AG)</div>,\n",
       " <div class=\"display-table-cell table-col-3\">Tenero (TI)</div>,\n",
       " <div class=\"display-table-cell table-col-3\">Thun (BE)</div>,\n",
       " <div class=\"display-table-cell table-col-3\">Tiefencastel (GR)</div>,\n",
       " <div class=\"display-table-cell table-col-3\">Triengen (LU)</div>,\n",
       " <div class=\"display-table-cell table-col-3\">Wabern (BE)</div>,\n",
       " <div class=\"display-table-cell table-col-3\">Weggis (LU)</div>,\n",
       " <div class=\"display-table-cell table-col-3\">Zetzwil (AG)</div>,\n",
       " <div class=\"display-table-cell table-col-3\">Zuckenriet (SG)</div>]"
      ]
     },
     "execution_count": 3,
     "metadata": {},
     "output_type": "execute_result"
    }
   ],
   "source": [
    "#Die Ortschaften der Firmen\n",
    "soup.find('div', {'class':'resultpart result-body'}).find_all('div', {'class':'display-table-cell table-col-3'})"
   ]
  },
  {
   "cell_type": "code",
   "execution_count": 4,
   "metadata": {},
   "outputs": [
    {
     "data": {
      "text/plain": [
       "[<div class=\"display-table-cell bold company data-id table-col-1\" data-id=\"11651160\">Bäckerei-Konditorei Graber</div>,\n",
       " <div class=\"display-table-cell bold company data-id table-col-1\" data-id=\"11565832\">Kurt Schmid</div>,\n",
       " <div class=\"display-table-cell bold company data-id table-col-1\" data-id=\"11653081\">Tea-Room la Praline</div>,\n",
       " <div class=\"display-table-cell bold company data-id table-col-1\" data-id=\"11629674\">Macchi AG</div>,\n",
       " <div class=\"display-table-cell bold company data-id table-col-1\" data-id=\"11649663\">Bäckerei-Konditorei Café Weber AG</div>,\n",
       " <div class=\"display-table-cell bold company data-id table-col-1\" data-id=\"11616125\">Zum Poscht-Beck</div>,\n",
       " <div class=\"display-table-cell bold company data-id table-col-1\" data-id=\"11651107\">Peter Linder</div>,\n",
       " <div class=\"display-table-cell bold company data-id table-col-1\" data-id=\"11591116\">Bäckerei-Konditorei Rohner</div>,\n",
       " <div class=\"display-table-cell bold company data-id table-col-1\" data-id=\"11598566\">Ehliger</div>,\n",
       " <div class=\"display-table-cell bold company data-id table-col-1\" data-id=\"11646082\">Bäckerei-Konditorei Nüssli</div>,\n",
       " <div class=\"display-table-cell bold company data-id table-col-1\" data-id=\"11594937\">Mario Rigazzi</div>,\n",
       " <div class=\"display-table-cell bold company data-id table-col-1\" data-id=\"11649677\">Ziegler Bäckerei-Conditorei AG</div>,\n",
       " <div class=\"display-table-cell bold company data-id table-col-1\" data-id=\"11651197\">Bäckerei-Konditorei-Confiserie</div>,\n",
       " <div class=\"display-table-cell bold company data-id table-col-1\" data-id=\"11648757\">Sunnis AG</div>,\n",
       " <div class=\"display-table-cell bold company data-id table-col-1\" data-id=\"11645651\">Heini Conditorei AG</div>,\n",
       " <div class=\"display-table-cell bold company data-id table-col-1\" data-id=\"11557243\">Peter Müller</div>,\n",
       " <div class=\"display-table-cell bold company data-id table-col-1\" data-id=\"11600251\">Bäckerei-Konditorei Gut</div>,\n",
       " <div class=\"display-table-cell bold company data-id table-col-1\" data-id=\"11597615\">Bäckerei-Konditorei</div>,\n",
       " <div class=\"display-table-cell bold company data-id table-col-1\" data-id=\"11588426\">Beck Schegg AG</div>,\n",
       " <div class=\"display-table-cell bold company data-id table-col-1\" data-id=\"11621484\">Pöschtli Beck AG</div>,\n",
       " <div class=\"display-table-cell bold company data-id table-col-1\" data-id=\"11629956\">Schneiders Quer AG</div>,\n",
       " <div class=\"display-table-cell bold company data-id table-col-1\" data-id=\"11551351\">Urs Rössler</div>,\n",
       " <div class=\"display-table-cell bold company data-id table-col-1\" data-id=\"7769827\">Confiserie-Pâtisserie De Sousa</div>,\n",
       " <div class=\"display-table-cell bold company data-id table-col-1\" data-id=\"11606427\">Café Studio GmbH</div>,\n",
       " <div class=\"display-table-cell bold company data-id table-col-1\" data-id=\"11653186\">Chnusper-Becke AG</div>,\n",
       " <div class=\"display-table-cell bold company data-id table-col-1\" data-id=\"11597858\">Bäckerei Zihlmann AG</div>,\n",
       " <div class=\"display-table-cell bold company data-id table-col-1\" data-id=\"11649521\">Marcel Schmid GmbH</div>,\n",
       " <div class=\"display-table-cell bold company data-id table-col-1\" data-id=\"11558839\">Willi Beck AG</div>,\n",
       " <div class=\"display-table-cell bold company data-id table-col-1\" data-id=\"11630008\">Hans Dörig</div>,\n",
       " <div class=\"display-table-cell bold company data-id table-col-1\" data-id=\"11649249\">Bäckerei-Konditorei BAD</div>,\n",
       " <div class=\"display-table-cell bold company data-id table-col-1\" data-id=\"11651442\">Bäckerei-Confiserie Galli AG</div>,\n",
       " <div class=\"display-table-cell bold company data-id table-col-1\" data-id=\"11646048\">Bäckerei-Konditorei-Confiserie Leiser</div>,\n",
       " <div class=\"display-table-cell bold company data-id table-col-1\" data-id=\"11645365\">PHILIPONA SA</div>,\n",
       " <div class=\"display-table-cell bold company data-id table-col-1\" data-id=\"11651417\">Bäckerei-Konditorei Café Brötie</div>,\n",
       " <div class=\"display-table-cell bold company data-id table-col-1\" data-id=\"11649729\">Stgier ScRL</div>,\n",
       " <div class=\"display-table-cell bold company data-id table-col-1\" data-id=\"11630332\">Hunger AG</div>,\n",
       " <div class=\"display-table-cell bold company data-id table-col-1\" data-id=\"11653200\">Bäckerei-Konditorei Röthlisberger</div>,\n",
       " <div class=\"display-table-cell bold company data-id table-col-1\" data-id=\"11599093\">Wehren's</div>,\n",
       " <div class=\"display-table-cell bold company data-id table-col-1\" data-id=\"11646055\">Bäckerei-Konditorei Gysi AG</div>,\n",
       " <div class=\"display-table-cell bold company data-id table-col-1\" data-id=\"11589353\">Bernhard Näf</div>]"
      ]
     },
     "execution_count": 4,
     "metadata": {},
     "output_type": "execute_result"
    }
   ],
   "source": [
    "#Die Firma\n",
    "soup.find('div', {'class':'resultpart result-body'}).find_all('div', {'class':'display-table-cell bold company data-id table-col-1'})"
   ]
  },
  {
   "cell_type": "code",
   "execution_count": 5,
   "metadata": {},
   "outputs": [
    {
     "data": {
      "text/plain": [
       "[<div class=\"display-table-cell float-left-for-sd table-col-4\">2019</div>,\n",
       " <div class=\"display-table-cell float-left-for-sd table-col-4\">2018</div>,\n",
       " <div class=\"display-table-cell float-left-for-sd table-col-4\">2019</div>,\n",
       " <div class=\"display-table-cell float-left-for-sd table-col-4\">2018</div>,\n",
       " <div class=\"display-table-cell float-left-for-sd table-col-4\">2019</div>,\n",
       " <div class=\"display-table-cell float-left-for-sd table-col-4\">2018</div>,\n",
       " <div class=\"display-table-cell float-left-for-sd table-col-4\">2019</div>,\n",
       " <div class=\"display-table-cell float-left-for-sd table-col-4\">2018</div>,\n",
       " <div class=\"display-table-cell float-left-for-sd table-col-4\">2018</div>,\n",
       " <div class=\"display-table-cell float-left-for-sd table-col-4\">2018</div>,\n",
       " <div class=\"display-table-cell float-left-for-sd table-col-4\">2018</div>,\n",
       " <div class=\"display-table-cell float-left-for-sd table-col-4\">2019</div>,\n",
       " <div class=\"display-table-cell float-left-for-sd table-col-4\">2019</div>,\n",
       " <div class=\"display-table-cell float-left-for-sd table-col-4\">2018</div>,\n",
       " <div class=\"display-table-cell float-left-for-sd table-col-4\">2018</div>,\n",
       " <div class=\"display-table-cell float-left-for-sd table-col-4\">2018</div>,\n",
       " <div class=\"display-table-cell float-left-for-sd table-col-4\">2018</div>,\n",
       " <div class=\"display-table-cell float-left-for-sd table-col-4\">2018</div>,\n",
       " <div class=\"display-table-cell float-left-for-sd table-col-4\">2018</div>,\n",
       " <div class=\"display-table-cell float-left-for-sd table-col-4\">2018</div>,\n",
       " <div class=\"display-table-cell float-left-for-sd table-col-4\">2018</div>,\n",
       " <div class=\"display-table-cell float-left-for-sd table-col-4\">2018</div>,\n",
       " <div class=\"display-table-cell float-left-for-sd table-col-4\">2018</div>,\n",
       " <div class=\"display-table-cell float-left-for-sd table-col-4\">2018</div>,\n",
       " <div class=\"display-table-cell float-left-for-sd table-col-4\">2019</div>,\n",
       " <div class=\"display-table-cell float-left-for-sd table-col-4\">2018</div>,\n",
       " <div class=\"display-table-cell float-left-for-sd table-col-4\">2019</div>,\n",
       " <div class=\"display-table-cell float-left-for-sd table-col-4\">2018</div>,\n",
       " <div class=\"display-table-cell float-left-for-sd table-col-4\">2018</div>,\n",
       " <div class=\"display-table-cell float-left-for-sd table-col-4\">2019</div>,\n",
       " <div class=\"display-table-cell float-left-for-sd table-col-4\">2019</div>,\n",
       " <div class=\"display-table-cell float-left-for-sd table-col-4\">2018</div>,\n",
       " <div class=\"display-table-cell float-left-for-sd table-col-4\">2018</div>,\n",
       " <div class=\"display-table-cell float-left-for-sd table-col-4\">2019</div>,\n",
       " <div class=\"display-table-cell float-left-for-sd table-col-4\">2019</div>,\n",
       " <div class=\"display-table-cell float-left-for-sd table-col-4\">2018</div>,\n",
       " <div class=\"display-table-cell float-left-for-sd table-col-4\">2019</div>,\n",
       " <div class=\"display-table-cell float-left-for-sd table-col-4\">2018</div>,\n",
       " <div class=\"display-table-cell float-left-for-sd table-col-4\">2018</div>,\n",
       " <div class=\"display-table-cell float-left-for-sd table-col-4\">2018</div>]"
      ]
     },
     "execution_count": 5,
     "metadata": {},
     "output_type": "execute_result"
    }
   ],
   "source": [
    "#Das Jahr\n",
    "soup.find('div', {'class':'resultpart result-body'}).find_all('div', {'class':'display-table-cell float-left-for-sd table-col-4'})"
   ]
  },
  {
   "cell_type": "code",
   "execution_count": 6,
   "metadata": {},
   "outputs": [
    {
     "data": {
      "text/plain": [
       "[<div class=\"display-table-cell text-align-center float-left-for-sd table-col-5\">\n",
       " 1 <span class=\"show-for-sd\">Lehrstelle(n)</span>\n",
       " </div>,\n",
       " <div class=\"display-table-cell text-align-center float-left-for-sd table-col-5\">\n",
       " 1 <span class=\"show-for-sd\">Lehrstelle(n)</span>\n",
       " </div>,\n",
       " <div class=\"display-table-cell text-align-center float-left-for-sd table-col-5\">\n",
       " 2 <span class=\"show-for-sd\">Lehrstelle(n)</span>\n",
       " </div>,\n",
       " <div class=\"display-table-cell text-align-center float-left-for-sd table-col-5\">\n",
       " 1 <span class=\"show-for-sd\">Lehrstelle(n)</span>\n",
       " </div>,\n",
       " <div class=\"display-table-cell text-align-center float-left-for-sd table-col-5\">\n",
       " 1 <span class=\"show-for-sd\">Lehrstelle(n)</span>\n",
       " </div>,\n",
       " <div class=\"display-table-cell text-align-center float-left-for-sd table-col-5\">\n",
       " 1 <span class=\"show-for-sd\">Lehrstelle(n)</span>\n",
       " </div>,\n",
       " <div class=\"display-table-cell text-align-center float-left-for-sd table-col-5\">\n",
       " 1 <span class=\"show-for-sd\">Lehrstelle(n)</span>\n",
       " </div>,\n",
       " <div class=\"display-table-cell text-align-center float-left-for-sd table-col-5\">\n",
       " 1 <span class=\"show-for-sd\">Lehrstelle(n)</span>\n",
       " </div>,\n",
       " <div class=\"display-table-cell text-align-center float-left-for-sd table-col-5\">\n",
       " 1 <span class=\"show-for-sd\">Lehrstelle(n)</span>\n",
       " </div>,\n",
       " <div class=\"display-table-cell text-align-center float-left-for-sd table-col-5\">\n",
       " 1 <span class=\"show-for-sd\">Lehrstelle(n)</span>\n",
       " </div>,\n",
       " <div class=\"display-table-cell text-align-center float-left-for-sd table-col-5\">\n",
       " 1 <span class=\"show-for-sd\">Lehrstelle(n)</span>\n",
       " </div>,\n",
       " <div class=\"display-table-cell text-align-center float-left-for-sd table-col-5\">\n",
       " 1 <span class=\"show-for-sd\">Lehrstelle(n)</span>\n",
       " </div>,\n",
       " <div class=\"display-table-cell text-align-center float-left-for-sd table-col-5\">\n",
       " 1 <span class=\"show-for-sd\">Lehrstelle(n)</span>\n",
       " </div>,\n",
       " <div class=\"display-table-cell text-align-center float-left-for-sd table-col-5\">\n",
       " 1 <span class=\"show-for-sd\">Lehrstelle(n)</span>\n",
       " </div>,\n",
       " <div class=\"display-table-cell text-align-center float-left-for-sd table-col-5\">\n",
       " 1 <span class=\"show-for-sd\">Lehrstelle(n)</span>\n",
       " </div>,\n",
       " <div class=\"display-table-cell text-align-center float-left-for-sd table-col-5\">\n",
       " 1 <span class=\"show-for-sd\">Lehrstelle(n)</span>\n",
       " </div>,\n",
       " <div class=\"display-table-cell text-align-center float-left-for-sd table-col-5\">\n",
       " 1 <span class=\"show-for-sd\">Lehrstelle(n)</span>\n",
       " </div>,\n",
       " <div class=\"display-table-cell text-align-center float-left-for-sd table-col-5\">\n",
       " 1 <span class=\"show-for-sd\">Lehrstelle(n)</span>\n",
       " </div>,\n",
       " <div class=\"display-table-cell text-align-center float-left-for-sd table-col-5\">\n",
       " 1 <span class=\"show-for-sd\">Lehrstelle(n)</span>\n",
       " </div>,\n",
       " <div class=\"display-table-cell text-align-center float-left-for-sd table-col-5\">\n",
       " 1 <span class=\"show-for-sd\">Lehrstelle(n)</span>\n",
       " </div>,\n",
       " <div class=\"display-table-cell text-align-center float-left-for-sd table-col-5\">\n",
       " 1 <span class=\"show-for-sd\">Lehrstelle(n)</span>\n",
       " </div>,\n",
       " <div class=\"display-table-cell text-align-center float-left-for-sd table-col-5\">\n",
       " 1 <span class=\"show-for-sd\">Lehrstelle(n)</span>\n",
       " </div>,\n",
       " <div class=\"display-table-cell text-align-center float-left-for-sd table-col-5\">\n",
       " 1 <span class=\"show-for-sd\">Lehrstelle(n)</span>\n",
       " </div>,\n",
       " <div class=\"display-table-cell text-align-center float-left-for-sd table-col-5\">\n",
       " 1 <span class=\"show-for-sd\">Lehrstelle(n)</span>\n",
       " </div>,\n",
       " <div class=\"display-table-cell text-align-center float-left-for-sd table-col-5\">\n",
       " 1 <span class=\"show-for-sd\">Lehrstelle(n)</span>\n",
       " </div>,\n",
       " <div class=\"display-table-cell text-align-center float-left-for-sd table-col-5\">\n",
       " 1 <span class=\"show-for-sd\">Lehrstelle(n)</span>\n",
       " </div>,\n",
       " <div class=\"display-table-cell text-align-center float-left-for-sd table-col-5\">\n",
       " 1 <span class=\"show-for-sd\">Lehrstelle(n)</span>\n",
       " </div>,\n",
       " <div class=\"display-table-cell text-align-center float-left-for-sd table-col-5\">\n",
       " 1 <span class=\"show-for-sd\">Lehrstelle(n)</span>\n",
       " </div>,\n",
       " <div class=\"display-table-cell text-align-center float-left-for-sd table-col-5\">\n",
       " 1 <span class=\"show-for-sd\">Lehrstelle(n)</span>\n",
       " </div>,\n",
       " <div class=\"display-table-cell text-align-center float-left-for-sd table-col-5\">\n",
       " 1 <span class=\"show-for-sd\">Lehrstelle(n)</span>\n",
       " </div>,\n",
       " <div class=\"display-table-cell text-align-center float-left-for-sd table-col-5\">\n",
       " 1 <span class=\"show-for-sd\">Lehrstelle(n)</span>\n",
       " </div>,\n",
       " <div class=\"display-table-cell text-align-center float-left-for-sd table-col-5\">\n",
       " 1 <span class=\"show-for-sd\">Lehrstelle(n)</span>\n",
       " </div>,\n",
       " <div class=\"display-table-cell text-align-center float-left-for-sd table-col-5\">\n",
       " 2 <span class=\"show-for-sd\">Lehrstelle(n)</span>\n",
       " </div>,\n",
       " <div class=\"display-table-cell text-align-center float-left-for-sd table-col-5\">\n",
       " 1 <span class=\"show-for-sd\">Lehrstelle(n)</span>\n",
       " </div>,\n",
       " <div class=\"display-table-cell text-align-center float-left-for-sd table-col-5\">\n",
       " 1 <span class=\"show-for-sd\">Lehrstelle(n)</span>\n",
       " </div>,\n",
       " <div class=\"display-table-cell text-align-center float-left-for-sd table-col-5\">\n",
       " 1 <span class=\"show-for-sd\">Lehrstelle(n)</span>\n",
       " </div>,\n",
       " <div class=\"display-table-cell text-align-center float-left-for-sd table-col-5\">\n",
       " 1 <span class=\"show-for-sd\">Lehrstelle(n)</span>\n",
       " </div>,\n",
       " <div class=\"display-table-cell text-align-center float-left-for-sd table-col-5\">\n",
       " 1 <span class=\"show-for-sd\">Lehrstelle(n)</span>\n",
       " </div>,\n",
       " <div class=\"display-table-cell text-align-center float-left-for-sd table-col-5\">\n",
       " 1 <span class=\"show-for-sd\">Lehrstelle(n)</span>\n",
       " </div>,\n",
       " <div class=\"display-table-cell text-align-center float-left-for-sd table-col-5\">\n",
       " 1 <span class=\"show-for-sd\">Lehrstelle(n)</span>\n",
       " </div>]"
      ]
     },
     "execution_count": 6,
     "metadata": {},
     "output_type": "execute_result"
    }
   ],
   "source": [
    "# Anzahl\n",
    "soup.find('div', {'class':'resultpart result-body'}).find_all('div', {'class':'display-table-cell text-align-center float-left-for-sd table-col-5'})"
   ]
  },
  {
   "cell_type": "code",
   "execution_count": 7,
   "metadata": {
    "collapsed": true
   },
   "outputs": [],
   "source": [
    "def lehrstellen(url):\n",
    "    \n",
    "    r = requests.get(url)\n",
    "    soup = BeautifulSoup(r.text, 'lxml')\n",
    "    \n",
    "    ortsliste = soup.find('div', {'class':'resultpart result-body'})\\\n",
    "                    .find_all('div', {'class':'display-table-cell table-col-3'})\n",
    "    \n",
    "    firmenliste = soup.find('div', {'class':'resultpart result-body'})\\\n",
    "                    .find_all('div', {'class':'display-table-cell bold company data-id table-col-1'})\n",
    "    \n",
    "    jahresliste = soup.find('div', {'class':'resultpart result-body'})\\\n",
    "                    .find_all('div', {'class':'display-table-cell float-left-for-sd table-col-4'})\n",
    "        \n",
    "    anzahlliste = soup.find('div', {'class':'resultpart result-body'})\\\n",
    "                    .find_all('div', {'class':'display-table-cell text-align-center float-left-for-sd table-col-5'})\n",
    "    \n",
    "    lst = []\n",
    "    \n",
    "    for ort, firma, jahr, anzahl in zip(ortsliste,firmenliste,jahresliste, anzahlliste):\n",
    "        \n",
    "        mini_dict = {'Ort':ort.text,\n",
    "                     'Firma':firma.text,\n",
    "                     'Jahr':jahr.text,\n",
    "                     'Anzahl':int(anzahl.text.replace(' Lehrstelle(n)\\n','').replace('\\n',''))}\n",
    "        lst.append(mini_dict)\n",
    "    \n",
    "    return lst"
   ]
  },
  {
   "cell_type": "code",
   "execution_count": 8,
   "metadata": {},
   "outputs": [
    {
     "data": {
      "text/plain": [
       "[{'Anzahl': 1,\n",
       "  'Firma': 'Bäckerei-Konditorei Graber',\n",
       "  'Jahr': '2019',\n",
       "  'Ort': 'Aeschi b. Spiez (BE)'},\n",
       " {'Anzahl': 1,\n",
       "  'Firma': 'Kurt Schmid',\n",
       "  'Jahr': '2018',\n",
       "  'Ort': 'Affeltrangen (TG)'},\n",
       " {'Anzahl': 2,\n",
       "  'Firma': 'Tea-Room la Praline',\n",
       "  'Jahr': '2019',\n",
       "  'Ort': 'Bern (BE)'},\n",
       " {'Anzahl': 1, 'Firma': 'Macchi AG', 'Jahr': '2018', 'Ort': 'Buchrain (LU)'},\n",
       " {'Anzahl': 1,\n",
       "  'Firma': 'Bäckerei-Konditorei Café Weber AG',\n",
       "  'Jahr': '2019',\n",
       "  'Ort': 'Davos Dorf (GR)'},\n",
       " {'Anzahl': 1,\n",
       "  'Firma': 'Zum Poscht-Beck',\n",
       "  'Jahr': '2018',\n",
       "  'Ort': 'Flühli LU (LU)'},\n",
       " {'Anzahl': 1,\n",
       "  'Firma': 'Peter Linder',\n",
       "  'Jahr': '2019',\n",
       "  'Ort': 'Gwatt (Thun) (BE)'},\n",
       " {'Anzahl': 1,\n",
       "  'Firma': 'Bäckerei-Konditorei Rohner',\n",
       "  'Jahr': '2018',\n",
       "  'Ort': 'Heiden (AR)'},\n",
       " {'Anzahl': 1, 'Firma': 'Ehliger', 'Jahr': '2018', 'Ort': 'Hochdorf (LU)'},\n",
       " {'Anzahl': 1,\n",
       "  'Firma': 'Bäckerei-Konditorei Nüssli',\n",
       "  'Jahr': '2018',\n",
       "  'Ort': 'Illnau (ZH)'},\n",
       " {'Anzahl': 1,\n",
       "  'Firma': 'Mario Rigazzi',\n",
       "  'Jahr': '2018',\n",
       "  'Ort': 'Islikon (TG)'},\n",
       " {'Anzahl': 1,\n",
       "  'Firma': 'Ziegler Bäckerei-Conditorei AG',\n",
       "  'Jahr': '2019',\n",
       "  'Ort': 'Landquart (GR)'},\n",
       " {'Anzahl': 1,\n",
       "  'Firma': 'Bäckerei-Konditorei-Confiserie',\n",
       "  'Jahr': '2019',\n",
       "  'Ort': 'Lenk im Simmental (BE)'},\n",
       " {'Anzahl': 1, 'Firma': 'Sunnis AG', 'Jahr': '2018', 'Ort': 'Lungern (OW)'},\n",
       " {'Anzahl': 1,\n",
       "  'Firma': 'Heini Conditorei AG',\n",
       "  'Jahr': '2018',\n",
       "  'Ort': 'Luzern (LU)'},\n",
       " {'Anzahl': 1, 'Firma': 'Peter Müller', 'Jahr': '2018', 'Ort': 'Luzern (LU)'},\n",
       " {'Anzahl': 1,\n",
       "  'Firma': 'Bäckerei-Konditorei Gut',\n",
       "  'Jahr': '2018',\n",
       "  'Ort': 'Marthalen (ZH)'},\n",
       " {'Anzahl': 1,\n",
       "  'Firma': 'Bäckerei-Konditorei',\n",
       "  'Jahr': '2018',\n",
       "  'Ort': 'Nottwil (LU)'},\n",
       " {'Anzahl': 1,\n",
       "  'Firma': 'Beck Schegg AG',\n",
       "  'Jahr': '2018',\n",
       "  'Ort': 'Oberriet SG (SG)'},\n",
       " {'Anzahl': 1,\n",
       "  'Firma': 'Pöschtli Beck AG',\n",
       "  'Jahr': '2018',\n",
       "  'Ort': 'Obfelden (ZH)'},\n",
       " {'Anzahl': 1,\n",
       "  'Firma': 'Schneiders Quer AG',\n",
       "  'Jahr': '2018',\n",
       "  'Ort': 'Pfäffikon ZH (ZH)'},\n",
       " {'Anzahl': 1, 'Firma': 'Urs Rössler', 'Jahr': '2018', 'Ort': 'Pfungen (ZH)'},\n",
       " {'Anzahl': 1,\n",
       "  'Firma': 'Confiserie-Pâtisserie De Sousa',\n",
       "  'Jahr': '2018',\n",
       "  'Ort': 'Prilly (VD)'},\n",
       " {'Anzahl': 1,\n",
       "  'Firma': 'Café Studio GmbH',\n",
       "  'Jahr': '2018',\n",
       "  'Ort': 'Sargans (SG)'},\n",
       " {'Anzahl': 1,\n",
       "  'Firma': 'Chnusper-Becke AG',\n",
       "  'Jahr': '2019',\n",
       "  'Ort': 'Schönried (BE)'},\n",
       " {'Anzahl': 1,\n",
       "  'Firma': 'Bäckerei Zihlmann AG',\n",
       "  'Jahr': '2018',\n",
       "  'Ort': 'Schüpfheim (LU)'},\n",
       " {'Anzahl': 1,\n",
       "  'Firma': 'Marcel Schmid GmbH',\n",
       "  'Jahr': '2019',\n",
       "  'Ort': 'Sedrun (GR)'},\n",
       " {'Anzahl': 1,\n",
       "  'Firma': 'Willi Beck AG',\n",
       "  'Jahr': '2018',\n",
       "  'Ort': 'Sempach (LU)'},\n",
       " {'Anzahl': 1,\n",
       "  'Firma': 'Hans Dörig',\n",
       "  'Jahr': '2018',\n",
       "  'Ort': 'St. Gallen (SG)'},\n",
       " {'Anzahl': 1,\n",
       "  'Firma': 'Bäckerei-Konditorei BAD',\n",
       "  'Jahr': '2019',\n",
       "  'Ort': 'St. Moritz (GR)'},\n",
       " {'Anzahl': 1,\n",
       "  'Firma': 'Bäckerei-Confiserie Galli AG',\n",
       "  'Jahr': '2019',\n",
       "  'Ort': 'Steffisburg (BE)'},\n",
       " {'Anzahl': 1,\n",
       "  'Firma': 'Bäckerei-Konditorei-Confiserie Leiser',\n",
       "  'Jahr': '2018',\n",
       "  'Ort': 'Suhr (AG)'},\n",
       " {'Anzahl': 2, 'Firma': 'PHILIPONA SA', 'Jahr': '2018', 'Ort': 'Tenero (TI)'},\n",
       " {'Anzahl': 1,\n",
       "  'Firma': 'Bäckerei-Konditorei Café Brötie',\n",
       "  'Jahr': '2019',\n",
       "  'Ort': 'Thun (BE)'},\n",
       " {'Anzahl': 1,\n",
       "  'Firma': 'Stgier ScRL',\n",
       "  'Jahr': '2019',\n",
       "  'Ort': 'Tiefencastel (GR)'},\n",
       " {'Anzahl': 1, 'Firma': 'Hunger AG', 'Jahr': '2018', 'Ort': 'Triengen (LU)'},\n",
       " {'Anzahl': 1,\n",
       "  'Firma': 'Bäckerei-Konditorei Röthlisberger',\n",
       "  'Jahr': '2019',\n",
       "  'Ort': 'Wabern (BE)'},\n",
       " {'Anzahl': 1, 'Firma': \"Wehren's\", 'Jahr': '2018', 'Ort': 'Weggis (LU)'},\n",
       " {'Anzahl': 1,\n",
       "  'Firma': 'Bäckerei-Konditorei Gysi AG',\n",
       "  'Jahr': '2018',\n",
       "  'Ort': 'Zetzwil (AG)'},\n",
       " {'Anzahl': 1,\n",
       "  'Firma': 'Bernhard Näf',\n",
       "  'Jahr': '2018',\n",
       "  'Ort': 'Zuckenriet (SG)'}]"
      ]
     },
     "execution_count": 8,
     "metadata": {},
     "output_type": "execute_result"
    }
   ],
   "source": [
    "lehrstellen(\"https://www.berufsberatung.ch/dyn/show/2930?lang=de&Idx=100&OrderBy=1&Order=0&PostBackOrder=0&postBack=true&CountResult=43&Total_Idx=41&CounterSearch=3&UrlAjaxWebSearch=%2FLenaWeb%2FAjaxWebSearch&sw_=7673&LocName=&LocId=&Area=10\")"
   ]
  },
  {
   "cell_type": "markdown",
   "metadata": {},
   "source": [
    "Das Tolle daran, mit Funktionen zu arbeiten, ist, dass sie sich nun URLs anwenden lassen."
   ]
  },
  {
   "cell_type": "markdown",
   "metadata": {},
   "source": [
    "## Bauen wir alle URLs nach"
   ]
  },
  {
   "cell_type": "markdown",
   "metadata": {},
   "source": [
    "Schauen wir uns diese URLs genauer an, z.B. eine Suche nach Fleischfachmann im Kanton Zürich:\n",
    "https://www.berufsberatung.ch/dyn/show/2930?lang=de&Idx=200&OrderBy=1&Order=0&PostBackOrder=0&postBack=true&CountResult=100&Total_Idx=6&CounterSearch=18&UrlAjaxWebSearch=%2FLenaWeb%2FAjaxWebSearch&sw_=192&LocName=&LocId=&Area=10&cty_=26\n",
    "- Wir können die URL, wie wir das mit den APIs getan haben, folgendermassen aufsplitten: \"https://www.berufsberatung.ch/dyn/show/2930?lang=de&Idx=200&OrderBy=1&Order=0&PostBackOrder=0&postBack=true&CountResult=**100**\" Die Nummer 100 zeigt die maximale Anzahl Lehrstellen an, die gerade angezeigt werden.\n",
    "- Gehen wir weiter \"&Total_Idx=6&CounterSearch=18&UrlAjaxWebSearch=%2FLenaWeb%2FAjaxWebSearch&sw_=**192**\" Diese Nummer ist die ID des Berufs. \n",
    "- Und das Ende: \"&LocName=&LocId=&Area=10&cty_=**26**\" diese Nummer ist der Kanton. "
   ]
  },
  {
   "cell_type": "markdown",
   "metadata": {},
   "source": [
    "Die Kantonsnummer ist einfach. Sie zählt einfach von 1 bis 26. Schwieriger ist es mit der Nummer der Berufe. Sie müssen wir herausziehen. Wenn wir das können, dann können wir alle Links generieren. Ein Restrisiko bleibt: Gibt es Jobs, die Kantone mehr als 100 Angebote haben? Wir werden alle Ergebnisse also am Ende mit der Totalzahl von 15000+ abgleichen müssen."
   ]
  },
  {
   "cell_type": "markdown",
   "metadata": {},
   "source": [
    "## Bekommen wir die Nummern raus?"
   ]
  },
  {
   "cell_type": "code",
   "execution_count": 9,
   "metadata": {},
   "outputs": [
    {
     "data": {
      "text/plain": [
       "'453'"
      ]
     },
     "execution_count": 9,
     "metadata": {},
     "output_type": "execute_result"
    }
   ],
   "source": [
    "soup.find('ul',{'class':'ui-autocomplete full-list '}).find_all('a')[0]['data-id']"
   ]
  },
  {
   "cell_type": "code",
   "execution_count": 10,
   "metadata": {},
   "outputs": [
    {
     "data": {
      "text/plain": [
       "'Abdichter/in EFZ'"
      ]
     },
     "execution_count": 10,
     "metadata": {},
     "output_type": "execute_result"
    }
   ],
   "source": [
    "soup.find('ul',{'class':'ui-autocomplete full-list '}).find_all('a')[0]['data-value']"
   ]
  },
  {
   "cell_type": "code",
   "execution_count": 11,
   "metadata": {
    "collapsed": true
   },
   "outputs": [],
   "source": [
    "ids = []\n",
    "for elem in soup.find('ul',{'class':'ui-autocomplete full-list '}).find_all('a'):\n",
    "    ids.append(elem['data-id'])"
   ]
  },
  {
   "cell_type": "code",
   "execution_count": 12,
   "metadata": {},
   "outputs": [
    {
     "data": {
      "text/plain": [
       "541"
      ]
     },
     "execution_count": 12,
     "metadata": {},
     "output_type": "execute_result"
    }
   ],
   "source": [
    "len(ids)"
   ]
  },
  {
   "cell_type": "code",
   "execution_count": 13,
   "metadata": {
    "collapsed": true
   },
   "outputs": [],
   "source": [
    "str_ids = []\n",
    "for elem in ids:\n",
    "    elem =str(elem)\n",
    "    str_ids.append(elem)"
   ]
  },
  {
   "cell_type": "markdown",
   "metadata": {},
   "source": [
    "## Kantone"
   ]
  },
  {
   "cell_type": "code",
   "execution_count": 14,
   "metadata": {
    "collapsed": true
   },
   "outputs": [],
   "source": [
    "kantone = list(range(27))\n",
    "kantone = kantone[1:]\n",
    "k = []\n",
    "for elem in kantone:\n",
    "    elem = str(elem)\n",
    "    k.append(elem)"
   ]
  },
  {
   "cell_type": "markdown",
   "metadata": {},
   "source": [
    "## URLS Bauen"
   ]
  },
  {
   "cell_type": "code",
   "execution_count": 15,
   "metadata": {},
   "outputs": [
    {
     "data": {
      "text/plain": [
       "'https://www.berufsberatung.ch/dyn/show/2930?lang=de&Idx=200&OrderBy=1&Order=0&PostBackOrder=0&postBack=true&CountResult=100&Total_Idx=6&CounterSearch=18&UrlAjaxWebSearch=%2FLenaWeb%2FAjaxWebSearch&sw_=453&LocName=&LocId=&Area=10&cty_=1'"
      ]
     },
     "execution_count": 15,
     "metadata": {},
     "output_type": "execute_result"
    }
   ],
   "source": [
    "base = \"https://www.berufsberatung.ch/dyn/show/2930?lang=de&Idx=200&OrderBy=1&Order=0&PostBackOrder=0&postBack=true&CountResult=100&Total_Idx=6&CounterSearch=18&UrlAjaxWebSearch=%2FLenaWeb%2FAjaxWebSearch&sw_=\"\n",
    "base2 = \"&LocName=&LocId=&Area=10&cty_=\"\n",
    "base + str_ids[0] + base2 + str(kantone[0])"
   ]
  },
  {
   "cell_type": "code",
   "execution_count": 16,
   "metadata": {
    "collapsed": true
   },
   "outputs": [],
   "source": [
    "def lehrstellen(url):\n",
    "    \n",
    "    r = requests.get(url)\n",
    "    soup = BeautifulSoup(r.text, 'lxml')\n",
    "    try:\n",
    "        ortsliste = soup.find('div', {'class':'resultpart result-body'})\\\n",
    "                    .find_all('div', {'class':'display-table-cell table-col-3'})\n",
    "    \n",
    "        firmenliste = soup.find('div', {'class':'resultpart result-body'})\\\n",
    "                    .find_all('div', {'class':'display-table-cell bold company data-id table-col-1'})\n",
    "    \n",
    "        jahresliste = soup.find('div', {'class':'resultpart result-body'})\\\n",
    "                    .find_all('div', {'class':'display-table-cell float-left-for-sd table-col-4'})\n",
    "        \n",
    "        anzahlliste = soup.find('div', {'class':'resultpart result-body'})\\\n",
    "                    .find_all('div', {'class':'display-table-cell text-align-center float-left-for-sd table-col-5'})\n",
    "    \n",
    "        lehrstelle = soup.find('ul',{'class':'ui-autocomplete full-list '})\\\n",
    "                    .find_all('a')\n",
    "        lst = []\n",
    "    \n",
    "        for ort, firma, jahr, anzahl,lehr in zip(ortsliste,firmenliste,jahresliste, anzahlliste,lehrstelle):\n",
    "        \n",
    "            mini_dict = {'Ort':ort.text,\n",
    "                     'Firma':firma.text,\n",
    "                     'Jahr':jahr.text,\n",
    "                     'Anzahl':int(anzahl.text.replace(' Lehrstelle(n)\\n','').replace('\\n','')),\n",
    "                     'Lehrstelle':lehr['data-value']}\n",
    "            lst.append(mini_dict)\n",
    "    \n",
    "        return lst\n",
    "    \n",
    "    except:\n",
    "        return [{'Ort':'Keine Treffer',\n",
    "                'Firma':'Keine Treffer',\n",
    "                'Jahr':'Keine Treffer',\n",
    "                'Anzahl':'Keine Treffer'}]"
   ]
  },
  {
   "cell_type": "code",
   "execution_count": null,
   "metadata": {
    "scrolled": true
   },
   "outputs": [
    {
     "name": "stdout",
     "output_type": "stream",
     "text": [
      "https://www.berufsberatung.ch/dyn/show/2930?lang=de&Idx=200&OrderBy=1&Order=0&PostBackOrder=0&postBack=true&CountResult=100&Total_Idx=6&CounterSearch=18&UrlAjaxWebSearch=%2FLenaWeb%2FAjaxWebSearch&sw_=453&LocName=&LocId=&Area=10&cty_=\n",
      "https://www.berufsberatung.ch/dyn/show/2930?lang=de&Idx=200&OrderBy=1&Order=0&PostBackOrder=0&postBack=true&CountResult=100&Total_Idx=6&CounterSearch=18&UrlAjaxWebSearch=%2FLenaWeb%2FAjaxWebSearch&sw_=452&LocName=&LocId=&Area=10&cty_=\n",
      "https://www.berufsberatung.ch/dyn/show/2930?lang=de&Idx=200&OrderBy=1&Order=0&PostBackOrder=0&postBack=true&CountResult=100&Total_Idx=6&CounterSearch=18&UrlAjaxWebSearch=%2FLenaWeb%2FAjaxWebSearch&sw_=55&LocName=&LocId=&Area=10&cty_=\n",
      "https://www.berufsberatung.ch/dyn/show/2930?lang=de&Idx=200&OrderBy=1&Order=0&PostBackOrder=0&postBack=true&CountResult=100&Total_Idx=6&CounterSearch=18&UrlAjaxWebSearch=%2FLenaWeb%2FAjaxWebSearch&sw_=7617&LocName=&LocId=&Area=10&cty_=\n",
      "https://www.berufsberatung.ch/dyn/show/2930?lang=de&Idx=200&OrderBy=1&Order=0&PostBackOrder=0&postBack=true&CountResult=100&Total_Idx=6&CounterSearch=18&UrlAjaxWebSearch=%2FLenaWeb%2FAjaxWebSearch&sw_=7618&LocName=&LocId=&Area=10&cty_=\n",
      "https://www.berufsberatung.ch/dyn/show/2930?lang=de&Idx=200&OrderBy=1&Order=0&PostBackOrder=0&postBack=true&CountResult=100&Total_Idx=6&CounterSearch=18&UrlAjaxWebSearch=%2FLenaWeb%2FAjaxWebSearch&sw_=7619&LocName=&LocId=&Area=10&cty_=\n",
      "https://www.berufsberatung.ch/dyn/show/2930?lang=de&Idx=200&OrderBy=1&Order=0&PostBackOrder=0&postBack=true&CountResult=100&Total_Idx=6&CounterSearch=18&UrlAjaxWebSearch=%2FLenaWeb%2FAjaxWebSearch&sw_=902&LocName=&LocId=&Area=10&cty_=\n",
      "https://www.berufsberatung.ch/dyn/show/2930?lang=de&Idx=200&OrderBy=1&Order=0&PostBackOrder=0&postBack=true&CountResult=100&Total_Idx=6&CounterSearch=18&UrlAjaxWebSearch=%2FLenaWeb%2FAjaxWebSearch&sw_=11320&LocName=&LocId=&Area=10&cty_=\n",
      "https://www.berufsberatung.ch/dyn/show/2930?lang=de&Idx=200&OrderBy=1&Order=0&PostBackOrder=0&postBack=true&CountResult=100&Total_Idx=6&CounterSearch=18&UrlAjaxWebSearch=%2FLenaWeb%2FAjaxWebSearch&sw_=413&LocName=&LocId=&Area=10&cty_=\n",
      "https://www.berufsberatung.ch/dyn/show/2930?lang=de&Idx=200&OrderBy=1&Order=0&PostBackOrder=0&postBack=true&CountResult=100&Total_Idx=6&CounterSearch=18&UrlAjaxWebSearch=%2FLenaWeb%2FAjaxWebSearch&sw_=8082&LocName=&LocId=&Area=10&cty_=\n",
      "https://www.berufsberatung.ch/dyn/show/2930?lang=de&Idx=200&OrderBy=1&Order=0&PostBackOrder=0&postBack=true&CountResult=100&Total_Idx=6&CounterSearch=18&UrlAjaxWebSearch=%2FLenaWeb%2FAjaxWebSearch&sw_=1978&LocName=&LocId=&Area=10&cty_=\n",
      "https://www.berufsberatung.ch/dyn/show/2930?lang=de&Idx=200&OrderBy=1&Order=0&PostBackOrder=0&postBack=true&CountResult=100&Total_Idx=6&CounterSearch=18&UrlAjaxWebSearch=%2FLenaWeb%2FAjaxWebSearch&sw_=946&LocName=&LocId=&Area=10&cty_=\n",
      "https://www.berufsberatung.ch/dyn/show/2930?lang=de&Idx=200&OrderBy=1&Order=0&PostBackOrder=0&postBack=true&CountResult=100&Total_Idx=6&CounterSearch=18&UrlAjaxWebSearch=%2FLenaWeb%2FAjaxWebSearch&sw_=982&LocName=&LocId=&Area=10&cty_=\n",
      "https://www.berufsberatung.ch/dyn/show/2930?lang=de&Idx=200&OrderBy=1&Order=0&PostBackOrder=0&postBack=true&CountResult=100&Total_Idx=6&CounterSearch=18&UrlAjaxWebSearch=%2FLenaWeb%2FAjaxWebSearch&sw_=1135&LocName=&LocId=&Area=10&cty_=\n",
      "https://www.berufsberatung.ch/dyn/show/2930?lang=de&Idx=200&OrderBy=1&Order=0&PostBackOrder=0&postBack=true&CountResult=100&Total_Idx=6&CounterSearch=18&UrlAjaxWebSearch=%2FLenaWeb%2FAjaxWebSearch&sw_=1130&LocName=&LocId=&Area=10&cty_=\n",
      "https://www.berufsberatung.ch/dyn/show/2930?lang=de&Idx=200&OrderBy=1&Order=0&PostBackOrder=0&postBack=true&CountResult=100&Total_Idx=6&CounterSearch=18&UrlAjaxWebSearch=%2FLenaWeb%2FAjaxWebSearch&sw_=1132&LocName=&LocId=&Area=10&cty_=\n",
      "https://www.berufsberatung.ch/dyn/show/2930?lang=de&Idx=200&OrderBy=1&Order=0&PostBackOrder=0&postBack=true&CountResult=100&Total_Idx=6&CounterSearch=18&UrlAjaxWebSearch=%2FLenaWeb%2FAjaxWebSearch&sw_=1131&LocName=&LocId=&Area=10&cty_=\n",
      "https://www.berufsberatung.ch/dyn/show/2930?lang=de&Idx=200&OrderBy=1&Order=0&PostBackOrder=0&postBack=true&CountResult=100&Total_Idx=6&CounterSearch=18&UrlAjaxWebSearch=%2FLenaWeb%2FAjaxWebSearch&sw_=1123&LocName=&LocId=&Area=10&cty_=\n",
      "https://www.berufsberatung.ch/dyn/show/2930?lang=de&Idx=200&OrderBy=1&Order=0&PostBackOrder=0&postBack=true&CountResult=100&Total_Idx=6&CounterSearch=18&UrlAjaxWebSearch=%2FLenaWeb%2FAjaxWebSearch&sw_=1125&LocName=&LocId=&Area=10&cty_=\n",
      "https://www.berufsberatung.ch/dyn/show/2930?lang=de&Idx=200&OrderBy=1&Order=0&PostBackOrder=0&postBack=true&CountResult=100&Total_Idx=6&CounterSearch=18&UrlAjaxWebSearch=%2FLenaWeb%2FAjaxWebSearch&sw_=1124&LocName=&LocId=&Area=10&cty_=\n",
      "https://www.berufsberatung.ch/dyn/show/2930?lang=de&Idx=200&OrderBy=1&Order=0&PostBackOrder=0&postBack=true&CountResult=100&Total_Idx=6&CounterSearch=18&UrlAjaxWebSearch=%2FLenaWeb%2FAjaxWebSearch&sw_=7673&LocName=&LocId=&Area=10&cty_=\n",
      "https://www.berufsberatung.ch/dyn/show/2930?lang=de&Idx=200&OrderBy=1&Order=0&PostBackOrder=0&postBack=true&CountResult=100&Total_Idx=6&CounterSearch=18&UrlAjaxWebSearch=%2FLenaWeb%2FAjaxWebSearch&sw_=217&LocName=&LocId=&Area=10&cty_=\n",
      "https://www.berufsberatung.ch/dyn/show/2930?lang=de&Idx=200&OrderBy=1&Order=0&PostBackOrder=0&postBack=true&CountResult=100&Total_Idx=6&CounterSearch=18&UrlAjaxWebSearch=%2FLenaWeb%2FAjaxWebSearch&sw_=8212&LocName=&LocId=&Area=10&cty_=\n",
      "https://www.berufsberatung.ch/dyn/show/2930?lang=de&Idx=200&OrderBy=1&Order=0&PostBackOrder=0&postBack=true&CountResult=100&Total_Idx=6&CounterSearch=18&UrlAjaxWebSearch=%2FLenaWeb%2FAjaxWebSearch&sw_=8213&LocName=&LocId=&Area=10&cty_=\n",
      "https://www.berufsberatung.ch/dyn/show/2930?lang=de&Idx=200&OrderBy=1&Order=0&PostBackOrder=0&postBack=true&CountResult=100&Total_Idx=6&CounterSearch=18&UrlAjaxWebSearch=%2FLenaWeb%2FAjaxWebSearch&sw_=1074&LocName=&LocId=&Area=10&cty_=\n",
      "https://www.berufsberatung.ch/dyn/show/2930?lang=de&Idx=200&OrderBy=1&Order=0&PostBackOrder=0&postBack=true&CountResult=100&Total_Idx=6&CounterSearch=18&UrlAjaxWebSearch=%2FLenaWeb%2FAjaxWebSearch&sw_=7659&LocName=&LocId=&Area=10&cty_=\n",
      "https://www.berufsberatung.ch/dyn/show/2930?lang=de&Idx=200&OrderBy=1&Order=0&PostBackOrder=0&postBack=true&CountResult=100&Total_Idx=6&CounterSearch=18&UrlAjaxWebSearch=%2FLenaWeb%2FAjaxWebSearch&sw_=442&LocName=&LocId=&Area=10&cty_=\n",
      "https://www.berufsberatung.ch/dyn/show/2930?lang=de&Idx=200&OrderBy=1&Order=0&PostBackOrder=0&postBack=true&CountResult=100&Total_Idx=6&CounterSearch=18&UrlAjaxWebSearch=%2FLenaWeb%2FAjaxWebSearch&sw_=323&LocName=&LocId=&Area=10&cty_=\n",
      "https://www.berufsberatung.ch/dyn/show/2930?lang=de&Idx=200&OrderBy=1&Order=0&PostBackOrder=0&postBack=true&CountResult=100&Total_Idx=6&CounterSearch=18&UrlAjaxWebSearch=%2FLenaWeb%2FAjaxWebSearch&sw_=11208&LocName=&LocId=&Area=10&cty_=\n",
      "https://www.berufsberatung.ch/dyn/show/2930?lang=de&Idx=200&OrderBy=1&Order=0&PostBackOrder=0&postBack=true&CountResult=100&Total_Idx=6&CounterSearch=18&UrlAjaxWebSearch=%2FLenaWeb%2FAjaxWebSearch&sw_=11204&LocName=&LocId=&Area=10&cty_=\n",
      "https://www.berufsberatung.ch/dyn/show/2930?lang=de&Idx=200&OrderBy=1&Order=0&PostBackOrder=0&postBack=true&CountResult=100&Total_Idx=6&CounterSearch=18&UrlAjaxWebSearch=%2FLenaWeb%2FAjaxWebSearch&sw_=11205&LocName=&LocId=&Area=10&cty_=\n",
      "https://www.berufsberatung.ch/dyn/show/2930?lang=de&Idx=200&OrderBy=1&Order=0&PostBackOrder=0&postBack=true&CountResult=100&Total_Idx=6&CounterSearch=18&UrlAjaxWebSearch=%2FLenaWeb%2FAjaxWebSearch&sw_=11207&LocName=&LocId=&Area=10&cty_=\n",
      "https://www.berufsberatung.ch/dyn/show/2930?lang=de&Idx=200&OrderBy=1&Order=0&PostBackOrder=0&postBack=true&CountResult=100&Total_Idx=6&CounterSearch=18&UrlAjaxWebSearch=%2FLenaWeb%2FAjaxWebSearch&sw_=11206&LocName=&LocId=&Area=10&cty_=\n",
      "https://www.berufsberatung.ch/dyn/show/2930?lang=de&Idx=200&OrderBy=1&Order=0&PostBackOrder=0&postBack=true&CountResult=100&Total_Idx=6&CounterSearch=18&UrlAjaxWebSearch=%2FLenaWeb%2FAjaxWebSearch&sw_=9663&LocName=&LocId=&Area=10&cty_=\n",
      "https://www.berufsberatung.ch/dyn/show/2930?lang=de&Idx=200&OrderBy=1&Order=0&PostBackOrder=0&postBack=true&CountResult=100&Total_Idx=6&CounterSearch=18&UrlAjaxWebSearch=%2FLenaWeb%2FAjaxWebSearch&sw_=5&LocName=&LocId=&Area=10&cty_=\n"
     ]
    },
    {
     "name": "stdout",
     "output_type": "stream",
     "text": [
      "https://www.berufsberatung.ch/dyn/show/2930?lang=de&Idx=200&OrderBy=1&Order=0&PostBackOrder=0&postBack=true&CountResult=100&Total_Idx=6&CounterSearch=18&UrlAjaxWebSearch=%2FLenaWeb%2FAjaxWebSearch&sw_=592&LocName=&LocId=&Area=10&cty_=\n",
      "https://www.berufsberatung.ch/dyn/show/2930?lang=de&Idx=200&OrderBy=1&Order=0&PostBackOrder=0&postBack=true&CountResult=100&Total_Idx=6&CounterSearch=18&UrlAjaxWebSearch=%2FLenaWeb%2FAjaxWebSearch&sw_=595&LocName=&LocId=&Area=10&cty_=\n",
      "https://www.berufsberatung.ch/dyn/show/2930?lang=de&Idx=200&OrderBy=1&Order=0&PostBackOrder=0&postBack=true&CountResult=100&Total_Idx=6&CounterSearch=18&UrlAjaxWebSearch=%2FLenaWeb%2FAjaxWebSearch&sw_=594&LocName=&LocId=&Area=10&cty_=\n",
      "https://www.berufsberatung.ch/dyn/show/2930?lang=de&Idx=200&OrderBy=1&Order=0&PostBackOrder=0&postBack=true&CountResult=100&Total_Idx=6&CounterSearch=18&UrlAjaxWebSearch=%2FLenaWeb%2FAjaxWebSearch&sw_=11278&LocName=&LocId=&Area=10&cty_=\n",
      "https://www.berufsberatung.ch/dyn/show/2930?lang=de&Idx=200&OrderBy=1&Order=0&PostBackOrder=0&postBack=true&CountResult=100&Total_Idx=6&CounterSearch=18&UrlAjaxWebSearch=%2FLenaWeb%2FAjaxWebSearch&sw_=11280&LocName=&LocId=&Area=10&cty_=\n",
      "https://www.berufsberatung.ch/dyn/show/2930?lang=de&Idx=200&OrderBy=1&Order=0&PostBackOrder=0&postBack=true&CountResult=100&Total_Idx=6&CounterSearch=18&UrlAjaxWebSearch=%2FLenaWeb%2FAjaxWebSearch&sw_=1298&LocName=&LocId=&Area=10&cty_=\n",
      "https://www.berufsberatung.ch/dyn/show/2930?lang=de&Idx=200&OrderBy=1&Order=0&PostBackOrder=0&postBack=true&CountResult=100&Total_Idx=6&CounterSearch=18&UrlAjaxWebSearch=%2FLenaWeb%2FAjaxWebSearch&sw_=1149&LocName=&LocId=&Area=10&cty_=\n",
      "https://www.berufsberatung.ch/dyn/show/2930?lang=de&Idx=200&OrderBy=1&Order=0&PostBackOrder=0&postBack=true&CountResult=100&Total_Idx=6&CounterSearch=18&UrlAjaxWebSearch=%2FLenaWeb%2FAjaxWebSearch&sw_=2459&LocName=&LocId=&Area=10&cty_=\n",
      "https://www.berufsberatung.ch/dyn/show/2930?lang=de&Idx=200&OrderBy=1&Order=0&PostBackOrder=0&postBack=true&CountResult=100&Total_Idx=6&CounterSearch=18&UrlAjaxWebSearch=%2FLenaWeb%2FAjaxWebSearch&sw_=7048&LocName=&LocId=&Area=10&cty_=\n",
      "https://www.berufsberatung.ch/dyn/show/2930?lang=de&Idx=200&OrderBy=1&Order=0&PostBackOrder=0&postBack=true&CountResult=100&Total_Idx=6&CounterSearch=18&UrlAjaxWebSearch=%2FLenaWeb%2FAjaxWebSearch&sw_=7047&LocName=&LocId=&Area=10&cty_=\n",
      "https://www.berufsberatung.ch/dyn/show/2930?lang=de&Idx=200&OrderBy=1&Order=0&PostBackOrder=0&postBack=true&CountResult=100&Total_Idx=6&CounterSearch=18&UrlAjaxWebSearch=%2FLenaWeb%2FAjaxWebSearch&sw_=1253&LocName=&LocId=&Area=10&cty_=\n",
      "https://www.berufsberatung.ch/dyn/show/2930?lang=de&Idx=200&OrderBy=1&Order=0&PostBackOrder=0&postBack=true&CountResult=100&Total_Idx=6&CounterSearch=18&UrlAjaxWebSearch=%2FLenaWeb%2FAjaxWebSearch&sw_=1097&LocName=&LocId=&Area=10&cty_=\n",
      "https://www.berufsberatung.ch/dyn/show/2930?lang=de&Idx=200&OrderBy=1&Order=0&PostBackOrder=0&postBack=true&CountResult=100&Total_Idx=6&CounterSearch=18&UrlAjaxWebSearch=%2FLenaWeb%2FAjaxWebSearch&sw_=1079&LocName=&LocId=&Area=10&cty_=\n",
      "https://www.berufsberatung.ch/dyn/show/2930?lang=de&Idx=200&OrderBy=1&Order=0&PostBackOrder=0&postBack=true&CountResult=100&Total_Idx=6&CounterSearch=18&UrlAjaxWebSearch=%2FLenaWeb%2FAjaxWebSearch&sw_=11639&LocName=&LocId=&Area=10&cty_=\n",
      "https://www.berufsberatung.ch/dyn/show/2930?lang=de&Idx=200&OrderBy=1&Order=0&PostBackOrder=0&postBack=true&CountResult=100&Total_Idx=6&CounterSearch=18&UrlAjaxWebSearch=%2FLenaWeb%2FAjaxWebSearch&sw_=7054&LocName=&LocId=&Area=10&cty_=\n",
      "https://www.berufsberatung.ch/dyn/show/2930?lang=de&Idx=200&OrderBy=1&Order=0&PostBackOrder=0&postBack=true&CountResult=100&Total_Idx=6&CounterSearch=18&UrlAjaxWebSearch=%2FLenaWeb%2FAjaxWebSearch&sw_=8038&LocName=&LocId=&Area=10&cty_=\n",
      "https://www.berufsberatung.ch/dyn/show/2930?lang=de&Idx=200&OrderBy=1&Order=0&PostBackOrder=0&postBack=true&CountResult=100&Total_Idx=6&CounterSearch=18&UrlAjaxWebSearch=%2FLenaWeb%2FAjaxWebSearch&sw_=373&LocName=&LocId=&Area=10&cty_=\n",
      "https://www.berufsberatung.ch/dyn/show/2930?lang=de&Idx=200&OrderBy=1&Order=0&PostBackOrder=0&postBack=true&CountResult=100&Total_Idx=6&CounterSearch=18&UrlAjaxWebSearch=%2FLenaWeb%2FAjaxWebSearch&sw_=11451&LocName=&LocId=&Area=10&cty_=\n",
      "https://www.berufsberatung.ch/dyn/show/2930?lang=de&Idx=200&OrderBy=1&Order=0&PostBackOrder=0&postBack=true&CountResult=100&Total_Idx=6&CounterSearch=18&UrlAjaxWebSearch=%2FLenaWeb%2FAjaxWebSearch&sw_=11443&LocName=&LocId=&Area=10&cty_=\n",
      "https://www.berufsberatung.ch/dyn/show/2930?lang=de&Idx=200&OrderBy=1&Order=0&PostBackOrder=0&postBack=true&CountResult=100&Total_Idx=6&CounterSearch=18&UrlAjaxWebSearch=%2FLenaWeb%2FAjaxWebSearch&sw_=7672&LocName=&LocId=&Area=10&cty_=\n",
      "https://www.berufsberatung.ch/dyn/show/2930?lang=de&Idx=200&OrderBy=1&Order=0&PostBackOrder=0&postBack=true&CountResult=100&Total_Idx=6&CounterSearch=18&UrlAjaxWebSearch=%2FLenaWeb%2FAjaxWebSearch&sw_=1981&LocName=&LocId=&Area=10&cty_=\n",
      "https://www.berufsberatung.ch/dyn/show/2930?lang=de&Idx=200&OrderBy=1&Order=0&PostBackOrder=0&postBack=true&CountResult=100&Total_Idx=6&CounterSearch=18&UrlAjaxWebSearch=%2FLenaWeb%2FAjaxWebSearch&sw_=1351&LocName=&LocId=&Area=10&cty_=\n",
      "https://www.berufsberatung.ch/dyn/show/2930?lang=de&Idx=200&OrderBy=1&Order=0&PostBackOrder=0&postBack=true&CountResult=100&Total_Idx=6&CounterSearch=18&UrlAjaxWebSearch=%2FLenaWeb%2FAjaxWebSearch&sw_=1363&LocName=&LocId=&Area=10&cty_=\n",
      "https://www.berufsberatung.ch/dyn/show/2930?lang=de&Idx=200&OrderBy=1&Order=0&PostBackOrder=0&postBack=true&CountResult=100&Total_Idx=6&CounterSearch=18&UrlAjaxWebSearch=%2FLenaWeb%2FAjaxWebSearch&sw_=1354&LocName=&LocId=&Area=10&cty_=\n",
      "https://www.berufsberatung.ch/dyn/show/2930?lang=de&Idx=200&OrderBy=1&Order=0&PostBackOrder=0&postBack=true&CountResult=100&Total_Idx=6&CounterSearch=18&UrlAjaxWebSearch=%2FLenaWeb%2FAjaxWebSearch&sw_=1379&LocName=&LocId=&Area=10&cty_=\n",
      "https://www.berufsberatung.ch/dyn/show/2930?lang=de&Idx=200&OrderBy=1&Order=0&PostBackOrder=0&postBack=true&CountResult=100&Total_Idx=6&CounterSearch=18&UrlAjaxWebSearch=%2FLenaWeb%2FAjaxWebSearch&sw_=1373&LocName=&LocId=&Area=10&cty_=\n",
      "https://www.berufsberatung.ch/dyn/show/2930?lang=de&Idx=200&OrderBy=1&Order=0&PostBackOrder=0&postBack=true&CountResult=100&Total_Idx=6&CounterSearch=18&UrlAjaxWebSearch=%2FLenaWeb%2FAjaxWebSearch&sw_=1362&LocName=&LocId=&Area=10&cty_=\n",
      "https://www.berufsberatung.ch/dyn/show/2930?lang=de&Idx=200&OrderBy=1&Order=0&PostBackOrder=0&postBack=true&CountResult=100&Total_Idx=6&CounterSearch=18&UrlAjaxWebSearch=%2FLenaWeb%2FAjaxWebSearch&sw_=1375&LocName=&LocId=&Area=10&cty_=\n",
      "https://www.berufsberatung.ch/dyn/show/2930?lang=de&Idx=200&OrderBy=1&Order=0&PostBackOrder=0&postBack=true&CountResult=100&Total_Idx=6&CounterSearch=18&UrlAjaxWebSearch=%2FLenaWeb%2FAjaxWebSearch&sw_=1378&LocName=&LocId=&Area=10&cty_=\n",
      "https://www.berufsberatung.ch/dyn/show/2930?lang=de&Idx=200&OrderBy=1&Order=0&PostBackOrder=0&postBack=true&CountResult=100&Total_Idx=6&CounterSearch=18&UrlAjaxWebSearch=%2FLenaWeb%2FAjaxWebSearch&sw_=1355&LocName=&LocId=&Area=10&cty_=\n",
      "https://www.berufsberatung.ch/dyn/show/2930?lang=de&Idx=200&OrderBy=1&Order=0&PostBackOrder=0&postBack=true&CountResult=100&Total_Idx=6&CounterSearch=18&UrlAjaxWebSearch=%2FLenaWeb%2FAjaxWebSearch&sw_=1368&LocName=&LocId=&Area=10&cty_=\n",
      "https://www.berufsberatung.ch/dyn/show/2930?lang=de&Idx=200&OrderBy=1&Order=0&PostBackOrder=0&postBack=true&CountResult=100&Total_Idx=6&CounterSearch=18&UrlAjaxWebSearch=%2FLenaWeb%2FAjaxWebSearch&sw_=1369&LocName=&LocId=&Area=10&cty_=\n",
      "https://www.berufsberatung.ch/dyn/show/2930?lang=de&Idx=200&OrderBy=1&Order=0&PostBackOrder=0&postBack=true&CountResult=100&Total_Idx=6&CounterSearch=18&UrlAjaxWebSearch=%2FLenaWeb%2FAjaxWebSearch&sw_=1374&LocName=&LocId=&Area=10&cty_=\n",
      "https://www.berufsberatung.ch/dyn/show/2930?lang=de&Idx=200&OrderBy=1&Order=0&PostBackOrder=0&postBack=true&CountResult=100&Total_Idx=6&CounterSearch=18&UrlAjaxWebSearch=%2FLenaWeb%2FAjaxWebSearch&sw_=1356&LocName=&LocId=&Area=10&cty_=\n",
      "https://www.berufsberatung.ch/dyn/show/2930?lang=de&Idx=200&OrderBy=1&Order=0&PostBackOrder=0&postBack=true&CountResult=100&Total_Idx=6&CounterSearch=18&UrlAjaxWebSearch=%2FLenaWeb%2FAjaxWebSearch&sw_=1370&LocName=&LocId=&Area=10&cty_=\n"
     ]
    },
    {
     "name": "stdout",
     "output_type": "stream",
     "text": [
      "https://www.berufsberatung.ch/dyn/show/2930?lang=de&Idx=200&OrderBy=1&Order=0&PostBackOrder=0&postBack=true&CountResult=100&Total_Idx=6&CounterSearch=18&UrlAjaxWebSearch=%2FLenaWeb%2FAjaxWebSearch&sw_=1361&LocName=&LocId=&Area=10&cty_=\n",
      "https://www.berufsberatung.ch/dyn/show/2930?lang=de&Idx=200&OrderBy=1&Order=0&PostBackOrder=0&postBack=true&CountResult=100&Total_Idx=6&CounterSearch=18&UrlAjaxWebSearch=%2FLenaWeb%2FAjaxWebSearch&sw_=1372&LocName=&LocId=&Area=10&cty_=\n",
      "https://www.berufsberatung.ch/dyn/show/2930?lang=de&Idx=200&OrderBy=1&Order=0&PostBackOrder=0&postBack=true&CountResult=100&Total_Idx=6&CounterSearch=18&UrlAjaxWebSearch=%2FLenaWeb%2FAjaxWebSearch&sw_=1364&LocName=&LocId=&Area=10&cty_=\n",
      "https://www.berufsberatung.ch/dyn/show/2930?lang=de&Idx=200&OrderBy=1&Order=0&PostBackOrder=0&postBack=true&CountResult=100&Total_Idx=6&CounterSearch=18&UrlAjaxWebSearch=%2FLenaWeb%2FAjaxWebSearch&sw_=1353&LocName=&LocId=&Area=10&cty_=\n",
      "https://www.berufsberatung.ch/dyn/show/2930?lang=de&Idx=200&OrderBy=1&Order=0&PostBackOrder=0&postBack=true&CountResult=100&Total_Idx=6&CounterSearch=18&UrlAjaxWebSearch=%2FLenaWeb%2FAjaxWebSearch&sw_=11396&LocName=&LocId=&Area=10&cty_=\n",
      "https://www.berufsberatung.ch/dyn/show/2930?lang=de&Idx=200&OrderBy=1&Order=0&PostBackOrder=0&postBack=true&CountResult=100&Total_Idx=6&CounterSearch=18&UrlAjaxWebSearch=%2FLenaWeb%2FAjaxWebSearch&sw_=1366&LocName=&LocId=&Area=10&cty_=\n",
      "https://www.berufsberatung.ch/dyn/show/2930?lang=de&Idx=200&OrderBy=1&Order=0&PostBackOrder=0&postBack=true&CountResult=100&Total_Idx=6&CounterSearch=18&UrlAjaxWebSearch=%2FLenaWeb%2FAjaxWebSearch&sw_=1360&LocName=&LocId=&Area=10&cty_=\n",
      "https://www.berufsberatung.ch/dyn/show/2930?lang=de&Idx=200&OrderBy=1&Order=0&PostBackOrder=0&postBack=true&CountResult=100&Total_Idx=6&CounterSearch=18&UrlAjaxWebSearch=%2FLenaWeb%2FAjaxWebSearch&sw_=1352&LocName=&LocId=&Area=10&cty_=\n",
      "https://www.berufsberatung.ch/dyn/show/2930?lang=de&Idx=200&OrderBy=1&Order=0&PostBackOrder=0&postBack=true&CountResult=100&Total_Idx=6&CounterSearch=18&UrlAjaxWebSearch=%2FLenaWeb%2FAjaxWebSearch&sw_=1358&LocName=&LocId=&Area=10&cty_=\n",
      "https://www.berufsberatung.ch/dyn/show/2930?lang=de&Idx=200&OrderBy=1&Order=0&PostBackOrder=0&postBack=true&CountResult=100&Total_Idx=6&CounterSearch=18&UrlAjaxWebSearch=%2FLenaWeb%2FAjaxWebSearch&sw_=1367&LocName=&LocId=&Area=10&cty_=\n",
      "https://www.berufsberatung.ch/dyn/show/2930?lang=de&Idx=200&OrderBy=1&Order=0&PostBackOrder=0&postBack=true&CountResult=100&Total_Idx=6&CounterSearch=18&UrlAjaxWebSearch=%2FLenaWeb%2FAjaxWebSearch&sw_=1359&LocName=&LocId=&Area=10&cty_=\n",
      "https://www.berufsberatung.ch/dyn/show/2930?lang=de&Idx=200&OrderBy=1&Order=0&PostBackOrder=0&postBack=true&CountResult=100&Total_Idx=6&CounterSearch=18&UrlAjaxWebSearch=%2FLenaWeb%2FAjaxWebSearch&sw_=1377&LocName=&LocId=&Area=10&cty_=\n",
      "https://www.berufsberatung.ch/dyn/show/2930?lang=de&Idx=200&OrderBy=1&Order=0&PostBackOrder=0&postBack=true&CountResult=100&Total_Idx=6&CounterSearch=18&UrlAjaxWebSearch=%2FLenaWeb%2FAjaxWebSearch&sw_=1357&LocName=&LocId=&Area=10&cty_=\n",
      "https://www.berufsberatung.ch/dyn/show/2930?lang=de&Idx=200&OrderBy=1&Order=0&PostBackOrder=0&postBack=true&CountResult=100&Total_Idx=6&CounterSearch=18&UrlAjaxWebSearch=%2FLenaWeb%2FAjaxWebSearch&sw_=1376&LocName=&LocId=&Area=10&cty_=\n",
      "https://www.berufsberatung.ch/dyn/show/2930?lang=de&Idx=200&OrderBy=1&Order=0&PostBackOrder=0&postBack=true&CountResult=100&Total_Idx=6&CounterSearch=18&UrlAjaxWebSearch=%2FLenaWeb%2FAjaxWebSearch&sw_=1371&LocName=&LocId=&Area=10&cty_=\n",
      "https://www.berufsberatung.ch/dyn/show/2930?lang=de&Idx=200&OrderBy=1&Order=0&PostBackOrder=0&postBack=true&CountResult=100&Total_Idx=6&CounterSearch=18&UrlAjaxWebSearch=%2FLenaWeb%2FAjaxWebSearch&sw_=1380&LocName=&LocId=&Area=10&cty_=\n",
      "https://www.berufsberatung.ch/dyn/show/2930?lang=de&Idx=200&OrderBy=1&Order=0&PostBackOrder=0&postBack=true&CountResult=100&Total_Idx=6&CounterSearch=18&UrlAjaxWebSearch=%2FLenaWeb%2FAjaxWebSearch&sw_=1393&LocName=&LocId=&Area=10&cty_=\n",
      "https://www.berufsberatung.ch/dyn/show/2930?lang=de&Idx=200&OrderBy=1&Order=0&PostBackOrder=0&postBack=true&CountResult=100&Total_Idx=6&CounterSearch=18&UrlAjaxWebSearch=%2FLenaWeb%2FAjaxWebSearch&sw_=1382&LocName=&LocId=&Area=10&cty_=\n",
      "https://www.berufsberatung.ch/dyn/show/2930?lang=de&Idx=200&OrderBy=1&Order=0&PostBackOrder=0&postBack=true&CountResult=100&Total_Idx=6&CounterSearch=18&UrlAjaxWebSearch=%2FLenaWeb%2FAjaxWebSearch&sw_=1410&LocName=&LocId=&Area=10&cty_=\n",
      "https://www.berufsberatung.ch/dyn/show/2930?lang=de&Idx=200&OrderBy=1&Order=0&PostBackOrder=0&postBack=true&CountResult=100&Total_Idx=6&CounterSearch=18&UrlAjaxWebSearch=%2FLenaWeb%2FAjaxWebSearch&sw_=1392&LocName=&LocId=&Area=10&cty_=\n",
      "https://www.berufsberatung.ch/dyn/show/2930?lang=de&Idx=200&OrderBy=1&Order=0&PostBackOrder=0&postBack=true&CountResult=100&Total_Idx=6&CounterSearch=18&UrlAjaxWebSearch=%2FLenaWeb%2FAjaxWebSearch&sw_=1381&LocName=&LocId=&Area=10&cty_=\n",
      "https://www.berufsberatung.ch/dyn/show/2930?lang=de&Idx=200&OrderBy=1&Order=0&PostBackOrder=0&postBack=true&CountResult=100&Total_Idx=6&CounterSearch=18&UrlAjaxWebSearch=%2FLenaWeb%2FAjaxWebSearch&sw_=1403&LocName=&LocId=&Area=10&cty_=\n",
      "https://www.berufsberatung.ch/dyn/show/2930?lang=de&Idx=200&OrderBy=1&Order=0&PostBackOrder=0&postBack=true&CountResult=100&Total_Idx=6&CounterSearch=18&UrlAjaxWebSearch=%2FLenaWeb%2FAjaxWebSearch&sw_=1409&LocName=&LocId=&Area=10&cty_=\n",
      "https://www.berufsberatung.ch/dyn/show/2930?lang=de&Idx=200&OrderBy=1&Order=0&PostBackOrder=0&postBack=true&CountResult=100&Total_Idx=6&CounterSearch=18&UrlAjaxWebSearch=%2FLenaWeb%2FAjaxWebSearch&sw_=1384&LocName=&LocId=&Area=10&cty_=\n",
      "https://www.berufsberatung.ch/dyn/show/2930?lang=de&Idx=200&OrderBy=1&Order=0&PostBackOrder=0&postBack=true&CountResult=100&Total_Idx=6&CounterSearch=18&UrlAjaxWebSearch=%2FLenaWeb%2FAjaxWebSearch&sw_=1398&LocName=&LocId=&Area=10&cty_=\n"
     ]
    }
   ],
   "source": [
    "base = \"https://www.berufsberatung.ch/dyn/show/2930?lang=de&Idx=200&OrderBy=1&Order=0&PostBackOrder=0&postBack=true&CountResult=100&Total_Idx=6&CounterSearch=18&UrlAjaxWebSearch=%2FLenaWeb%2FAjaxWebSearch&sw_=\"\n",
    "base2 = \"&LocName=&LocId=&Area=10&cty_=\"\n",
    "whole_lst = []\n",
    "\n",
    "#for kanton in k:\n",
    "for str_id in str_ids:\n",
    "    url = base + str(str_id) + base2# + str(kanton)\n",
    "    print(url)\n",
    "    whole_lst = whole_lst + lehrstellen(url)\n",
    "    "
   ]
  },
  {
   "cell_type": "code",
   "execution_count": null,
   "metadata": {
    "collapsed": true
   },
   "outputs": [],
   "source": [
    "import pandas as pd"
   ]
  },
  {
   "cell_type": "code",
   "execution_count": null,
   "metadata": {
    "collapsed": true
   },
   "outputs": [],
   "source": [
    "df = pd.DataFrame(whole_lst)"
   ]
  },
  {
   "cell_type": "code",
   "execution_count": null,
   "metadata": {
    "collapsed": true
   },
   "outputs": [],
   "source": [
    "df.csv('lehren.csv')"
   ]
  },
  {
   "cell_type": "code",
   "execution_count": null,
   "metadata": {},
   "outputs": [],
   "source": [
    "df.info()"
   ]
  },
  {
   "cell_type": "code",
   "execution_count": null,
   "metadata": {
    "collapsed": true
   },
   "outputs": [],
   "source": [
    "df = df[df['Anzahl']!='Keine Treffer']"
   ]
  },
  {
   "cell_type": "code",
   "execution_count": null,
   "metadata": {
    "collapsed": true
   },
   "outputs": [],
   "source": [
    "df['Anzahl'] = df['Anzahl'].astype('int')"
   ]
  },
  {
   "cell_type": "code",
   "execution_count": null,
   "metadata": {},
   "outputs": [],
   "source": [
    "df['Anzahl'].sum()"
   ]
  }
 ],
 "metadata": {
  "kernelspec": {
   "display_name": "Python 3",
   "language": "python",
   "name": "python3"
  },
  "language_info": {
   "codemirror_mode": {
    "name": "ipython",
    "version": 3
   },
   "file_extension": ".py",
   "mimetype": "text/x-python",
   "name": "python",
   "nbconvert_exporter": "python",
   "pygments_lexer": "ipython3",
   "version": "3.5.1"
  }
 },
 "nbformat": 4,
 "nbformat_minor": 2
}
