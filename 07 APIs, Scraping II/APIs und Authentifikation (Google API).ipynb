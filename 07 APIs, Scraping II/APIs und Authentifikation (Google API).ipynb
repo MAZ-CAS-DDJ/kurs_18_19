{
 "cells": [
  {
   "cell_type": "markdown",
   "metadata": {},
   "source": [
    "# APIs und Authentifikation (Google API)"
   ]
  },
  {
   "cell_type": "markdown",
   "metadata": {},
   "source": [
    "Gestern haben wir uns die Erdbeben-Applikation angeschaut. Die Nutzung ist zwar begrenzt, doch es für deren Nutzung keine weitere Zulassung notwendig. Das ist bei den meisten anderen APIs nicht der Fall. In der Regel verlangen die Besitzer einer API Authentifikation der Nutzer. So können sie kontrollieren, wer wieviel nutzt. Denn auch eine API-Abfrage beansprucht Rechenkraft. Bei Millionen Abfragen kann das schnell ins Geld gehen. Es gibt dabei verschiedene API-Typen: REST, SOAP, XML-RCP oder JSON-RPC. Was die verschiedenen Vorteile dieser API-Technologien sind, schlägt ihr am besten nach. Die gängigsten sind heute REST und SOAP. Die trifft man immer wieder. "
   ]
  },
  {
   "cell_type": "markdown",
   "metadata": {},
   "source": [
    "Wie man sich authentifiziert, wollen wir uns nun gemeinsam anschauen. Wir tun das anhang der Google Maps API. Zu allererst müssen wir eine Key kreieren. Dafür brauchen wir eine Gmail-Konto und eine Kreditkarte. Wir werden keinen Rappen ausgeben, die erste 100'000 Aufrufe sind gratis. Die Kredit"
   ]
  },
  {
   "cell_type": "code",
   "execution_count": null,
   "metadata": {
    "collapsed": true
   },
   "outputs": [],
   "source": []
  },
  {
   "cell_type": "code",
   "execution_count": null,
   "metadata": {
    "collapsed": true
   },
   "outputs": [],
   "source": []
  },
  {
   "cell_type": "code",
   "execution_count": null,
   "metadata": {
    "collapsed": true
   },
   "outputs": [],
   "source": []
  },
  {
   "cell_type": "code",
   "execution_count": null,
   "metadata": {
    "collapsed": true
   },
   "outputs": [],
   "source": []
  },
  {
   "cell_type": "code",
   "execution_count": null,
   "metadata": {
    "collapsed": true
   },
   "outputs": [],
   "source": []
  }
 ],
 "metadata": {
  "kernelspec": {
   "display_name": "Python 3",
   "language": "python",
   "name": "python3"
  },
  "language_info": {
   "codemirror_mode": {
    "name": "ipython",
    "version": 3
   },
   "file_extension": ".py",
   "mimetype": "text/x-python",
   "name": "python",
   "nbconvert_exporter": "python",
   "pygments_lexer": "ipython3",
   "version": "3.5.1"
  }
 },
 "nbformat": 4,
 "nbformat_minor": 2
}
