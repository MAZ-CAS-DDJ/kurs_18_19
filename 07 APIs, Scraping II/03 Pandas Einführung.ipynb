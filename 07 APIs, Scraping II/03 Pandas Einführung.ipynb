{
 "cells": [
  {
   "cell_type": "markdown",
   "metadata": {},
   "source": [
    "# Pandas Einführung\n",
    "Wir haben nun mehrmals Pandas importiert und ihr habt Sachen gemacht, die ihr vielleicht nicht wirklich verstanden habt. Ich möchte euch hier einen kleinen Einblick von Pandas geben, weil die Library wirklich sehr im Zentrum der Arbeit mit grossen Datenmengen steht. Er kann dazu benutzt werden grosse Datenmengen zu reinigen, aber auch diese zu visualisieren. Und nicht zuletzt ist er ein statististes Werkzeug. Entwickelt wurde die Library für Banker an der Wall Street. Doch mittlerweile wird das Werkzeug sehr breit in der Wissenschaft verwendet. "
   ]
  },
  {
   "cell_type": "markdown",
   "metadata": {},
   "source": [
    "Hier geht es [zur Dokumentation](https://pandas.pydata.org). Wie ihr sehr, wird die Library wirklich konstant weiter entwickelt. "
   ]
  },
  {
   "cell_type": "markdown",
   "metadata": {},
   "source": [
    "Bei diesem Kennenlernen werden wir uns die Daten anschauen, die wir von der Lehrenangebotswebsite angeschaut haben."
   ]
  },
  {
   "cell_type": "markdown",
   "metadata": {},
   "source": [
    "Aber machen wir zuerst unsere Imports."
   ]
  },
  {
   "cell_type": "code",
   "execution_count": 2,
   "metadata": {
    "collapsed": true
   },
   "outputs": [],
   "source": [
    "import pandas as pd"
   ]
  },
  {
   "cell_type": "markdown",
   "metadata": {},
   "source": [
    "Und dann importieren wir die Daten."
   ]
  },
  {
   "cell_type": "code",
   "execution_count": null,
   "metadata": {
    "collapsed": true
   },
   "outputs": [],
   "source": []
  }
 ],
 "metadata": {
  "kernelspec": {
   "display_name": "Python 3",
   "language": "python",
   "name": "python3"
  },
  "language_info": {
   "codemirror_mode": {
    "name": "ipython",
    "version": 3
   },
   "file_extension": ".py",
   "mimetype": "text/x-python",
   "name": "python",
   "nbconvert_exporter": "python",
   "pygments_lexer": "ipython3",
   "version": "3.5.1"
  }
 },
 "nbformat": 4,
 "nbformat_minor": 2
}
