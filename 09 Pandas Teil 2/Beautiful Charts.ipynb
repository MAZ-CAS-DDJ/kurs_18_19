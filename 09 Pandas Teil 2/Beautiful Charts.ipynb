{
 "cells": [
  {
   "cell_type": "markdown",
   "metadata": {},
   "source": [
    "# Beautiful Charts"
   ]
  },
  {
   "cell_type": "markdown",
   "metadata": {},
   "source": [
    "**Inhalt:** Etwas Chart-Formatierung\n",
    "\n",
    "**Nötige Skills:** Erste Schritte mit Pandas\n",
    "\n",
    "**Lernziele:**\n",
    "- Basic Parameter in der Plot-Funktion kennenlernen\n",
    "- Intro für Ready-Made Styles und Custom Styles\n",
    "- Lernen, wo man sich weiter informieren kann"
   ]
  },
  {
   "cell_type": "markdown",
   "metadata": {},
   "source": [
    "## Charts in Pandas\n",
    "\n",
    "Eine Reihe von Basic Chart-Funktionalitäten haben wir bereits kennengelernt:\n",
    "- Line Plots\n",
    "- Bar Charts\n",
    "- Histogramme\n",
    "- etc.\n",
    "\n",
    "Wenn wir darüber hinausgehen wollen, kann es sehr schnell kompliziert werden.\n",
    "\n",
    "Es gibt zig verschiedene Arten, wie man auf die Funktionen zugreifen kann und Charts formatieren kann."
   ]
  },
  {
   "cell_type": "markdown",
   "metadata": {},
   "source": [
    "Die Funktion, die wir bereits kennen, heisst `plot()`. Wir können sie ausgehend von einem Dataframe oder einer Serie verwenden.\n",
    "\n",
    "Hier die offizielle Referenz dazu: https://pandas.pydata.org/pandas-docs/stable/generated/pandas.DataFrame.plot.html\n",
    "\n",
    "Eine genauere Erklärung, was `plot()` macht, je nach dem, woher man sie startet: http://jonathansoma.com/lede/algorithms-2017/classes/fuzziness-matplotlib/understand-df-plot-in-pandas/\n",
    "\n",
    "Wichtig zu wissen: die `plot()`-Funktion baut auf der Matplotlib-Bibliothek auf:  https://matplotlib.org/index.html\n",
    "\n",
    "Man kann diese Bibliothek auch anders verwenden - das schauen wir uns ein anderes Mal an."
   ]
  },
  {
   "cell_type": "markdown",
   "metadata": {},
   "source": [
    "## Setup"
   ]
  },
  {
   "cell_type": "markdown",
   "metadata": {},
   "source": [
    "Wir importieren dieses Mal diverse Libraries:\n",
    "\n",
    "- Pandas"
   ]
  },
  {
   "cell_type": "code",
   "execution_count": null,
   "metadata": {
    "collapsed": true
   },
   "outputs": [],
   "source": [
    "import pandas as pd"
   ]
  },
  {
   "cell_type": "markdown",
   "metadata": {},
   "source": [
    "- und Matplotlib, um auf einige Spezialfunktionen zugreifen zu können"
   ]
  },
  {
   "cell_type": "code",
   "execution_count": null,
   "metadata": {
    "collapsed": true
   },
   "outputs": [],
   "source": [
    "import matplotlib"
   ]
  },
  {
   "cell_type": "code",
   "execution_count": null,
   "metadata": {
    "collapsed": true
   },
   "outputs": [],
   "source": [
    "import matplotlib.pyplot as plt"
   ]
  },
  {
   "cell_type": "code",
   "execution_count": null,
   "metadata": {
    "collapsed": true
   },
   "outputs": [],
   "source": [
    "import matplotlib.patches as mpatches"
   ]
  },
  {
   "cell_type": "code",
   "execution_count": null,
   "metadata": {},
   "outputs": [],
   "source": [
    "import matplotlib.image as mpimg"
   ]
  },
  {
   "cell_type": "markdown",
   "metadata": {},
   "source": [
    "Wie immer geben wir den Befehl, den Output der plot-Funktion direkt als Bild anzuzeigen"
   ]
  },
  {
   "cell_type": "code",
   "execution_count": null,
   "metadata": {
    "collapsed": true
   },
   "outputs": [],
   "source": [
    "%matplotlib inline"
   ]
  },
  {
   "cell_type": "markdown",
   "metadata": {},
   "source": [
    "## das Beispiel\n",
    "\n",
    "Eine Liste von Ländern mit ihrer Grösse, BIP pro Kopf und Lebenserwartung"
   ]
  },
  {
   "cell_type": "code",
   "execution_count": null,
   "metadata": {
    "collapsed": true
   },
   "outputs": [],
   "source": [
    "path = \"dataprojects/countries/countries.csv\""
   ]
  },
  {
   "cell_type": "code",
   "execution_count": null,
   "metadata": {
    "collapsed": true
   },
   "outputs": [],
   "source": [
    "df = pd.read_csv(path)"
   ]
  },
  {
   "cell_type": "code",
   "execution_count": null,
   "metadata": {},
   "outputs": [],
   "source": [
    "df.head(3)"
   ]
  },
  {
   "cell_type": "markdown",
   "metadata": {},
   "source": [
    "## Elemente eines Charts"
   ]
  },
  {
   "cell_type": "markdown",
   "metadata": {},
   "source": [
    "Ein Chart besteht aus überraschend vielen Elementen.\n",
    "\n",
    "Die meisten Programmiersprachen verwenden ähnliche Namen dafür.\n",
    "\n",
    "Hier die Bezeichnungen bei Pandas / Matplotlib:\n",
    "\n",
    "(Quelle: https://matplotlib.org/tutorials/introductory/usage.html#sphx-glr-tutorials-introductory-usage-py)"
   ]
  },
  {
   "cell_type": "code",
   "execution_count": null,
   "metadata": {
    "collapsed": true
   },
   "outputs": [],
   "source": [
    "from IPython.display import display, Image"
   ]
  },
  {
   "cell_type": "code",
   "execution_count": null,
   "metadata": {},
   "outputs": [],
   "source": [
    "img = Image(filename='anatomy.png')\n",
    "display(img)"
   ]
  },
  {
   "cell_type": "markdown",
   "metadata": {},
   "source": [
    "## Ein simpler Scatterplot"
   ]
  },
  {
   "cell_type": "markdown",
   "metadata": {},
   "source": [
    "Das hier kennen wir bereits:"
   ]
  },
  {
   "cell_type": "code",
   "execution_count": null,
   "metadata": {},
   "outputs": [],
   "source": [
    "df.plot(kind='scatter', \n",
    "        x='gdp_per_capita', \n",
    "        y='life_expectancy',\n",
    "        figsize=(10,7))"
   ]
  },
  {
   "cell_type": "markdown",
   "metadata": {},
   "source": [
    "## Den Chart verschönern\n",
    "\n",
    "(oder verschlimmern, je nach dem, wie man es nimmt...)"
   ]
  },
  {
   "cell_type": "markdown",
   "metadata": {},
   "source": [
    "In der Plot-Funktion selbst hat es bereits einige Parameter, mit denen wir etwas jspielen können:"
   ]
  },
  {
   "cell_type": "code",
   "execution_count": null,
   "metadata": {},
   "outputs": [],
   "source": [
    "df.plot(kind='scatter', \n",
    "        x='gdp_per_capita', \n",
    "        y='life_expectancy', \n",
    "        alpha=0.5,\n",
    "        s=40,\n",
    "        color='purple',\n",
    "        linewidth=2,\n",
    "        xlim=(-2000,52000),\n",
    "        ylim=(38, 82),\n",
    "        xticks=[0,10000,20000,30000,40000,50000],\n",
    "        yticks=[0,40,50,60,70,80],\n",
    "        figsize=(11,8),\n",
    "        grid=True,\n",
    "        fontsize=14, #applies to tick labels\n",
    "        title='Ab einem BIP pro Kopf von 20000 steigt die Lebenserwartug nicht mehr')"
   ]
  },
  {
   "cell_type": "markdown",
   "metadata": {},
   "source": [
    "Dazu gibt es noch zig weitere Einstellungen, die man im Nachhinein vornehmen kann.\n",
    "\n",
    "Wir müssen dazu den Output der `plot()`-Funktion in einer eigenen Variable speichern."
   ]
  },
  {
   "cell_type": "code",
   "execution_count": null,
   "metadata": {},
   "outputs": [],
   "source": [
    "#Was man mit der Pandas-Funktion alles machen kann\n",
    "fig = df.plot(kind='scatter', \n",
    "        x='gdp_per_capita', \n",
    "        y='life_expectancy', \n",
    "        alpha=0.5,\n",
    "        s=40,\n",
    "        color='purple',\n",
    "        linewidth=2,\n",
    "        xlim=(-2000,52000),\n",
    "        ylim=(38, 82),\n",
    "        xticks=[0,10000,20000,30000,40000,50000],\n",
    "        yticks=[0,40,50,60,70,80],\n",
    "        figsize=(11,8),\n",
    "        grid=True,\n",
    "        fontsize=14, #applies to tick labels\n",
    "        title='Ab einem BIP pro Kopf von 20000 steigt die Lebenserwartug nicht mehr')\n",
    "\n",
    "#Was man separat einstellen kann: - Titel\n",
    "fig.set_title('Ab einem BIP pro Kopf von 20000 steigt die Lebenserwartug nicht mehr', fontsize=18)\n",
    "\n",
    "# - Achsenbeschriftungen\n",
    "fig.set_ylabel(\"Lebenserwartung, in Jahren\", fontsize=14)\n",
    "fig.set_xlabel(\"BIP pro Kopf, in US-Dollar\", fontsize=14)\n",
    "\n",
    "# - Ticks ausschalten\n",
    "fig.xaxis.set_ticks_position('none')\n",
    "fig.yaxis.set_ticks_position('none')\n",
    "\n",
    "# - Rahmenlinien\n",
    "fig.spines['right'].set_visible(False)\n",
    "fig.spines['left'].set_visible(False)\n",
    "fig.spines['top'].set_visible(False)\n",
    "fig.spines['bottom'].set_visible(False)\n",
    "\n",
    "# - Hintergrundfarbe\n",
    "fig.set_facecolor('#EEEEEE')"
   ]
  },
  {
   "cell_type": "markdown",
   "metadata": {},
   "source": [
    "## Legende und Farben\n",
    "\n",
    "Matplotlib/Pandas ist teils ziemlich kompliziert. Wie vorgehen, wenn wir die einzelnen Punkte entsprechend einer Kategorie einfärben wollen, zB nach dem Kontinent? Hier eine Lösung."
   ]
  },
  {
   "cell_type": "markdown",
   "metadata": {},
   "source": [
    "### Für die Farben"
   ]
  },
  {
   "cell_type": "code",
   "execution_count": null,
   "metadata": {},
   "outputs": [],
   "source": [
    "df['continent'].unique()"
   ]
  },
  {
   "cell_type": "code",
   "execution_count": null,
   "metadata": {
    "collapsed": true
   },
   "outputs": [],
   "source": [
    "colors = {\n",
    "    'Asia': 'green',\n",
    "    'Europe': 'blue',\n",
    "    'Africa': 'brown',\n",
    "    'N. America': 'yellow',\n",
    "    'S. America': 'red',\n",
    "    'Oceania': 'purple'\n",
    "}"
   ]
  },
  {
   "cell_type": "code",
   "execution_count": null,
   "metadata": {},
   "outputs": [],
   "source": [
    "colorlist = df['continent'].apply(lambda continent: colors[continent])"
   ]
  },
  {
   "cell_type": "markdown",
   "metadata": {},
   "source": [
    "### Für die Legende"
   ]
  },
  {
   "cell_type": "code",
   "execution_count": null,
   "metadata": {},
   "outputs": [],
   "source": [
    "patches = []\n",
    "for continent, color in colors.items():\n",
    "    this_patch = mpatches.Patch(color=color, label=continent, alpha=0.5)\n",
    "    patches.append(this_patch)"
   ]
  },
  {
   "cell_type": "markdown",
   "metadata": {},
   "source": [
    "### Für die Punktegrösse"
   ]
  },
  {
   "cell_type": "code",
   "execution_count": null,
   "metadata": {
    "collapsed": true
   },
   "outputs": [],
   "source": [
    "area = df['population'] / 400000"
   ]
  },
  {
   "cell_type": "markdown",
   "metadata": {},
   "source": [
    "### Plotten"
   ]
  },
  {
   "cell_type": "code",
   "execution_count": null,
   "metadata": {},
   "outputs": [],
   "source": [
    "#Was man mit der Pandas-Funktion alles machen kann\n",
    "fig = df.plot(kind='scatter', \n",
    "        x='gdp_per_capita', \n",
    "        y='life_expectancy', \n",
    "        alpha=0.5,\n",
    "        s=area,\n",
    "        color=colorlist,\n",
    "        linewidth=2,\n",
    "        xlim=(-2000,52000),\n",
    "        ylim=(38, 82),\n",
    "        xticks=[0,10000,20000,30000,40000,50000],\n",
    "        yticks=[0,40,50,60,70,80],\n",
    "        figsize=(11,8),\n",
    "        grid=True,\n",
    "        fontsize=14, #applies to tick labels\n",
    "        title='Ab einem BIP pro Kopf von 20000 steigt die Lebenserwartug nicht mehr')\n",
    "\n",
    "#Was man separat einstellen kann: - Titel\n",
    "fig.set_title('Ab einem BIP pro Kopf von 20000 steigt die Lebenserwartug nicht mehr', fontsize=18)\n",
    "\n",
    "# - Achsenbeschriftungen\n",
    "fig.set_ylabel(\"Lebenserwartung, in Jahren\", fontsize=14)\n",
    "fig.set_xlabel(\"BIP pro Kopf, in US-Dollar\", fontsize=14)\n",
    "\n",
    "# - Ticks ausschalten\n",
    "fig.xaxis.set_ticks_position('none')\n",
    "fig.yaxis.set_ticks_position('none')\n",
    "\n",
    "# - Rahmenlinien\n",
    "fig.spines['right'].set_visible(False)\n",
    "fig.spines['left'].set_visible(False)\n",
    "fig.spines['top'].set_visible(False)\n",
    "fig.spines['bottom'].set_visible(False)\n",
    "\n",
    "# - Hintergrundfarbe\n",
    "fig.set_facecolor('#EEEEEE')\n",
    "\n",
    "# - Legende (this is really an ugly way to do this)\n",
    "plt.legend(handles=patches, frameon=False, fontsize=14)"
   ]
  },
  {
   "cell_type": "markdown",
   "metadata": {},
   "source": [
    "Hans Rosling would be so proud!! https://www.ted.com/playlists/474/the_best_hans_rosling_talks_yo"
   ]
  },
  {
   "cell_type": "markdown",
   "metadata": {},
   "source": [
    "### Wichtig\n",
    "\n",
    "Eine genaue und vollständige Liste der Parameter zu kriegen, ist so gut wie unmöglich (tell me if you find one!).\n",
    "\n",
    "Daher, und nicht nur daher, lohnt es sich im allgemeinen nicht, allzu viel Zeit für die Formatierung von Charts aufzuwenden. Besser: Daten oder pdf evportieren und anderswo weiterbearbeiten.\n",
    "\n",
    "Eine andere Option ist, mit einem prädefinierten Stil zu arbeiten"
   ]
  },
  {
   "cell_type": "markdown",
   "metadata": {},
   "source": [
    "## Prädefinierte Stile"
   ]
  },
  {
   "cell_type": "markdown",
   "metadata": {},
   "source": [
    "Diese Stile sind ziemlich praktisch. Man kann sich eine Liste davon anzeigen lassen:"
   ]
  },
  {
   "cell_type": "code",
   "execution_count": null,
   "metadata": {},
   "outputs": [],
   "source": [
    "print(plt.style.available)"
   ]
  },
  {
   "cell_type": "markdown",
   "metadata": {},
   "source": [
    "Um einen bestimmten Stil zu verwenden:"
   ]
  },
  {
   "cell_type": "code",
   "execution_count": null,
   "metadata": {},
   "outputs": [],
   "source": [
    "plt.style.use('seaborn')"
   ]
  },
  {
   "cell_type": "markdown",
   "metadata": {},
   "source": [
    "Umgesetzt sieht das dann so aus:"
   ]
  },
  {
   "cell_type": "code",
   "execution_count": null,
   "metadata": {},
   "outputs": [],
   "source": [
    "df.plot(kind='scatter', \n",
    "        x='gdp_per_capita', \n",
    "        y='life_expectancy',\n",
    "        title='Lebenserwartung und Wohlstand')"
   ]
  },
  {
   "cell_type": "markdown",
   "metadata": {},
   "source": [
    "Der neue Style bleibt so lange gespeichert, bis wir ihn wieder zurücksetzen."
   ]
  },
  {
   "cell_type": "code",
   "execution_count": null,
   "metadata": {
    "collapsed": true
   },
   "outputs": [],
   "source": [
    "plt.style.use('default')"
   ]
  },
  {
   "cell_type": "markdown",
   "metadata": {},
   "source": [
    "## Custom Style Sheets"
   ]
  },
  {
   "cell_type": "markdown",
   "metadata": {},
   "source": [
    "Wer es mit den Matplotlib wirklich wissen will, kann sich auch sein eigenes Stylesheet erstellen."
   ]
  },
  {
   "cell_type": "markdown",
   "metadata": {},
   "source": [
    "Schritt1: Erstelle eine Datei mit diesem Namen (oder irgendeinem anderen Namen):\n",
    "\n",
    "`my_style.mplstyle`\n",
    "\n",
    "In die Datei, schreibe die eigenen Default-Werte für bestimmte Stil-Elemente rein:\n",
    "\n",
    "`axes.titlesize : 24\n",
    "axes.labelsize : 20\n",
    "lines.linewidth : 3\n",
    "lines.markersize : 10\n",
    "xtick.labelsize : 16\n",
    "ytick.labelsize : 16\n",
    "grid.color : red`\n",
    "\n",
    "etc.\n",
    "\n",
    "Die Dokumentation über alle möglichen Parameter gibt es hier: https://matplotlib.org/tutorials/introductory/customizing.html#sphx-glr-tutorials-introductory-customizing-py"
   ]
  },
  {
   "cell_type": "markdown",
   "metadata": {},
   "source": [
    "Style laden:"
   ]
  },
  {
   "cell_type": "code",
   "execution_count": null,
   "metadata": {
    "collapsed": true
   },
   "outputs": [],
   "source": [
    "plt.style.use('my_style.mplstyle')"
   ]
  },
  {
   "cell_type": "markdown",
   "metadata": {},
   "source": [
    "Test:"
   ]
  },
  {
   "cell_type": "code",
   "execution_count": null,
   "metadata": {},
   "outputs": [],
   "source": [
    "df.plot(kind='scatter', \n",
    "        x='gdp_per_capita', \n",
    "        y='life_expectancy',\n",
    "        title='Lebenserwartung und Wohlstand')"
   ]
  },
  {
   "cell_type": "code",
   "execution_count": null,
   "metadata": {
    "collapsed": true
   },
   "outputs": [],
   "source": []
  },
  {
   "cell_type": "markdown",
   "metadata": {},
   "source": [
    "## Exportieren"
   ]
  },
  {
   "cell_type": "markdown",
   "metadata": {},
   "source": [
    "Wir können einzelne Plots als Dateien exportieren. Dazu 1x diese Einstellung ausführen:"
   ]
  },
  {
   "cell_type": "code",
   "execution_count": null,
   "metadata": {},
   "outputs": [],
   "source": [
    "matplotlib.rcParams['pdf.fonttype'] = 42 #important for the fonts"
   ]
  },
  {
   "cell_type": "markdown",
   "metadata": {},
   "source": [
    "Und dann exportieren.\n",
    "- als pdf"
   ]
  },
  {
   "cell_type": "code",
   "execution_count": null,
   "metadata": {},
   "outputs": [],
   "source": [
    "df.plot(kind='scatter', \n",
    "        x='gdp_per_capita', \n",
    "        y='life_expectancy',\n",
    "        title='Lebenserwartung und Wohlstand')\n",
    "plt.savefig(\"Lebenserwartung-Wohlstand.pdf\")"
   ]
  },
  {
   "cell_type": "markdown",
   "metadata": {},
   "source": [
    "- als svg-Vektorgrafik"
   ]
  },
  {
   "cell_type": "code",
   "execution_count": null,
   "metadata": {},
   "outputs": [],
   "source": [
    "df.plot(kind='scatter', \n",
    "        x='gdp_per_capita', \n",
    "        y='life_expectancy',\n",
    "        title='Lebenserwartung und Wohlstand')\n",
    "plt.savefig(\"Lebenserwartung-Wohlstand.svg\")"
   ]
  },
  {
   "cell_type": "code",
   "execution_count": null,
   "metadata": {
    "collapsed": true
   },
   "outputs": [],
   "source": []
  }
 ],
 "metadata": {
  "kernelspec": {
   "display_name": "Python 3",
   "language": "python",
   "name": "python3"
  },
  "language_info": {
   "codemirror_mode": {
    "name": "ipython",
    "version": 3
   },
   "file_extension": ".py",
   "mimetype": "text/x-python",
   "name": "python",
   "nbconvert_exporter": "python",
   "pygments_lexer": "ipython3",
   "version": "3.6.1"
  }
 },
 "nbformat": 4,
 "nbformat_minor": 2
}
