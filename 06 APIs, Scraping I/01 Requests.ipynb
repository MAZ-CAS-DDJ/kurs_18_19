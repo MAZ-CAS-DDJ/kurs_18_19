{
 "cells": [
  {
   "cell_type": "markdown",
   "metadata": {},
   "source": [
    "# Einführung in Request"
   ]
  },
  {
   "cell_type": "markdown",
   "metadata": {},
   "source": [
    "Die Python-Library erlaubt es, automatisiert URLs zu besuchen und gezielt Inhalte herauszulesen. Der Untertitel in [der Dokumentation](http://docs.python-requests.org/en/master/) fasst eigentlich am besten zusammen, was ```requests``` ist: \"HTTP for Humans.\" HTTP steht für Hyper Text Transfer Protocol und ist die Technologie, die Tim Berners-Lee im Jahr 1990 erfunden hat. Ohne HTTP kein Internet. Mit ```Requests```können wir Websites viel genauer befragen, als wir das mit Wget letzte Woche kennengelernt haben. "
   ]
  },
  {
   "cell_type": "markdown",
   "metadata": {},
   "source": [
    "Als erstes müssen wir es installieren. Das tun wir auf der Commandline mit dem Befehl ```pip install requests```. Wir können es mit einem kleinen Trick auch direkt bei Jupyter Notebook installieren ```!pip install requests```."
   ]
  },
  {
   "cell_type": "markdown",
   "metadata": {},
   "source": [
    "# Import\n",
    "Als Erstes müssen wir ```requests``` importieren. Das ist in jedem neuen Notebook immer der erste Schritt. "
   ]
  },
  {
   "cell_type": "code",
   "execution_count": 1,
   "metadata": {
    "collapsed": true
   },
   "outputs": [],
   "source": [
    "import requests"
   ]
  },
  {
   "cell_type": "code",
   "execution_count": null,
   "metadata": {
    "collapsed": true
   },
   "outputs": [],
   "source": []
  },
  {
   "cell_type": "markdown",
   "metadata": {},
   "source": [
    "Bauen "
   ]
  },
  {
   "cell_type": "code",
   "execution_count": null,
   "metadata": {
    "collapsed": true
   },
   "outputs": [],
   "source": [
    "r = requests.get('https://www.srf.ch/')"
   ]
  }
 ],
 "metadata": {
  "kernelspec": {
   "display_name": "Python 3",
   "language": "python",
   "name": "python3"
  },
  "language_info": {
   "codemirror_mode": {
    "name": "ipython",
    "version": 3
   },
   "file_extension": ".py",
   "mimetype": "text/x-python",
   "name": "python",
   "nbconvert_exporter": "python",
   "pygments_lexer": "ipython3",
   "version": "3.5.1"
  }
 },
 "nbformat": 4,
 "nbformat_minor": 2
}
