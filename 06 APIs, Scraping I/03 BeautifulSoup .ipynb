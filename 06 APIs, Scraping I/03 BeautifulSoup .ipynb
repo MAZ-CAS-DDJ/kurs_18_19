{
 "cells": [
  {
   "cell_type": "markdown",
   "metadata": {},
   "source": [
    "# Einführung in BeautifulSoup, einlesen von Files"
   ]
  },
  {
   "cell_type": "markdown",
   "metadata": {},
   "source": [
    "Und als aller Erstes wollen wir die Developer Tools kennenlernen:\n",
    "\n",
    "- Gehen wir auf: www.srf.ch.\n",
    "- Öffnen den Chrome Browser. Die Developer Tools findest DU im Menü unter More Tools -> Developer Tools. Shortcuts: F12, Str-Ctr-I oder Cmd + Opt + I (alle Browser die Dev Tools, wir fokussieren hier auf den Chrome Browser) \n",
    "- Der Reiter, der uns interessiert, ist: “Elements”. Steuere ihn an.\n",
    "- Wir können hier zwischen Mobilansicht und Desktop wechseln\n",
    "- Oder Elemente auf der Website suchen. Wähle den Pfeil an. Und suche nun etwas auf der Website. \n",
    "- Hier können wir auch Texte manipulieren, teste es auf www.srf.ch. \n",
    "- Aber das interessiert uns nicht. Wir wollen die Struktur der Website kennenlernen. Vertiefen wir uns eine Weile in diese Struktur. Je besser wir sie kennen, desto einfacher ist es, Daten auszulesen.\n",
    "- Das sollte euch nun etwas bekannter vorkommen. Ihr habt eben selber solche Zeilen geschrieben. "
   ]
  },
  {
   "cell_type": "markdown",
   "metadata": {},
   "source": [
    "Gehen wir zurück zu dem File, den ihr eben selber bearbeitet habt. Zuerst müssen wir das File einlesen."
   ]
  },
  {
   "cell_type": "code",
   "execution_count": 101,
   "metadata": {},
   "outputs": [],
   "source": [
    "file = open('02 HTML Code.htm', 'r')"
   ]
  },
  {
   "cell_type": "markdown",
   "metadata": {},
   "source": [
    "```open``` ist eine eingebaute Funktion von Python. Ihr findet hier [eine Zusammenstellung](https://docs.python.org/2/library/functions.html) all dieser Funktionen. Es gibt neben ```r```und ```w``` noch die Binary modi. ```rb```und ```wb```. Binary heisst, dass der Computer sich die Buchstaben im Format abspeichert, der ihm am besten liegt. 0 und 1. E = 01000101, F = 01000110, ihr findet mehr [hier](http://sticksandstones.kstrom.com/appen.html) (allerdings Python 2) und mehr [hier](https://docs.python.org/3/tutorial/inputoutput.html)."
   ]
  },
  {
   "cell_type": "code",
   "execution_count": 102,
   "metadata": {
    "collapsed": true
   },
   "outputs": [],
   "source": [
    "file2 = open('testingopen.txt', 'w')"
   ]
  },
  {
   "cell_type": "markdown",
   "metadata": {},
   "source": [
    "Oben seht ihr das Ergebnis, wenn ihr ein File schreibt. Im selben Ordner wie dieses Jupyter Notebook erscheint nun eben dieses file2. Das einfach der vollständigkeitshalber."
   ]
  },
  {
   "cell_type": "code",
   "execution_count": 103,
   "metadata": {},
   "outputs": [
    {
     "data": {
      "text/plain": [
       "'<h1> Anatomie einer Website</h1>\\n\\n<!doctype html>\\n<html lang=\"de\">\\n\\n<head>\\n    <title>Hier steht mein Titel</title>\\n</head>\\n\\n<body style=\"color:blue;\">\\n    <h2>Das ist die erste Überschrift</h2>\\n    <p>Hier steht der Einleitungstext meiner Website. </p>\\n    <ul>\\n    <li>Erster Listenpunkt</li>\\n    <li>Zweiter Listenpunkt</li>\\n    <li>Dritter Listenpunkt</li>\\n    <li>Vierter Listenpunkt</li>\\n</body style=\"color:blue;\">\\n</ul>\\n<body>\\n<h2>Das ist die zweite Überschrift</h2>\\n<p style=\"color:red;\">Hier steht der Einleitungstext meiner Website. </p>\\n<ul>\\n<li>Erster Listenpunkt</li>\\n<li>Zweiter Listenpunkt</li>\\n<li>Dritter Listenpunkt</li>\\n<li>Vierter Listenpunkt</li>\\n</body>\\n<body style=\"color:red;\">\\n</ul>\\n<h2>Das ist die dritte Überschrift</h2>\\n<p>Hier steht der Einleitungstext meiner Website. </p>\\n<ul>\\n<li>Erster Listenpunkt</li>\\n<li>Zweiter Listenpunkt</li>\\n<li>Dritter Listenpunkt</li>\\n<li>Vierter Listenpunkt</li>\\n</body>\\n'"
      ]
     },
     "execution_count": 103,
     "metadata": {},
     "output_type": "execute_result"
    }
   ],
   "source": [
    "file.read()"
   ]
  },
  {
   "cell_type": "code",
   "execution_count": 104,
   "metadata": {},
   "outputs": [],
   "source": [
    "text = file.read()"
   ]
  },
  {
   "cell_type": "code",
   "execution_count": 105,
   "metadata": {},
   "outputs": [],
   "source": [
    "file = open('02 HTML Code.htm', 'r')"
   ]
  },
  {
   "cell_type": "code",
   "execution_count": 106,
   "metadata": {},
   "outputs": [
    {
     "data": {
      "text/plain": [
       "'<h1> Anatomie einer Website</h1>\\n'"
      ]
     },
     "execution_count": 106,
     "metadata": {},
     "output_type": "execute_result"
    }
   ],
   "source": [
    "file.readline()"
   ]
  },
  {
   "cell_type": "code",
   "execution_count": 107,
   "metadata": {},
   "outputs": [
    {
     "data": {
      "text/plain": [
       "'<h1> Anatomie einer Website</h1>\\n\\n<!doctype html>\\n<html lang=\"de\">\\n\\n<head>\\n    <title>Hier steht mein Titel</title>\\n</head>\\n\\n<body style=\"color:blue;\">\\n    <h2>Das ist die erste Überschrift</h2>\\n    <p>Hier steht der Einleitungstext meiner Website. </p>\\n    <ul>\\n    <li>Erster Listenpunkt</li>\\n    <li>Zweiter Listenpunkt</li>\\n    <li>Dritter Listenpunkt</li>\\n    <li>Vierter Listenpunkt</li>\\n</body style=\"color:blue;\">\\n</ul>\\n<body>\\n<h2>Das ist die zweite Überschrift</h2>\\n<p style=\"color:red;\">Hier steht der Einleitungstext meiner Website. </p>\\n<ul>\\n<li>Erster Listenpunkt</li>\\n<li>Zweiter Listenpunkt</li>\\n<li>Dritter Listenpunkt</li>\\n<li>Vierter Listenpunkt</li>\\n</body>\\n<body style=\"color:red;\">\\n</ul>\\n<h2>Das ist die dritte Überschrift</h2>\\n<p>Hier steht der Einleitungstext meiner Website. </p>\\n<ul>\\n<li>Erster Listenpunkt</li>\\n<li>Zweiter Listenpunkt</li>\\n<li>Dritter Listenpunkt</li>\\n<li>Vierter Listenpunkt</li>\\n</body>\\n'"
      ]
     },
     "execution_count": 107,
     "metadata": {},
     "output_type": "execute_result"
    }
   ],
   "source": [
    "#Das sieht aber nicht sehr schön aus\n",
    "file = open('02 HTML Code.htm', 'r')\n",
    "text = file.read()\n",
    "text"
   ]
  },
  {
   "cell_type": "markdown",
   "metadata": {},
   "source": [
    "Mit BeautifulSoup kann man HTML-Sites in eine Form bringen, die es uns Menschen wieder einfacher macht, die Inhalte zu lesen. Wir beginnne wir immer, indem wir die Library installieren. Wie mit ```!pip import BS4```falls ihr das nicht schon getan habt. Und dann importieren wir die Library."
   ]
  },
  {
   "cell_type": "code",
   "execution_count": 109,
   "metadata": {},
   "outputs": [],
   "source": [
    "from bs4 import BeautifulSoup"
   ]
  },
  {
   "cell_type": "code",
   "execution_count": 110,
   "metadata": {},
   "outputs": [],
   "source": [
    "soup = BeautifulSoup(text, 'lxml')"
   ]
  },
  {
   "cell_type": "code",
   "execution_count": 111,
   "metadata": {},
   "outputs": [
    {
     "data": {
      "text/plain": [
       "<h2>Das ist die erste Überschrift</h2>"
      ]
     },
     "execution_count": 111,
     "metadata": {},
     "output_type": "execute_result"
    }
   ],
   "source": [
    "soup.find('h2')"
   ]
  },
  {
   "cell_type": "code",
   "execution_count": 112,
   "metadata": {},
   "outputs": [
    {
     "data": {
      "text/plain": [
       "[<h2>Das ist die erste Überschrift</h2>,\n",
       " <h2>Das ist die zweite Überschrift</h2>,\n",
       " <h2>Das ist die dritte Überschrift</h2>]"
      ]
     },
     "execution_count": 112,
     "metadata": {},
     "output_type": "execute_result"
    }
   ],
   "source": [
    "soup.find_all('h2')"
   ]
  },
  {
   "cell_type": "code",
   "execution_count": 113,
   "metadata": {
    "collapsed": true
   },
   "outputs": [],
   "source": [
    "#Bauen wir eine neue Liste\n",
    "new_lst = []\n",
    "for elem in soup.find_all('h2'):\n",
    "    new_lst.append(elem.text)"
   ]
  },
  {
   "cell_type": "code",
   "execution_count": 114,
   "metadata": {},
   "outputs": [
    {
     "data": {
      "text/plain": [
       "['Das ist die erste Überschrift',\n",
       " 'Das ist die zweite Überschrift',\n",
       " 'Das ist die dritte Überschrift']"
      ]
     },
     "execution_count": 114,
     "metadata": {},
     "output_type": "execute_result"
    }
   ],
   "source": [
    "new_lst"
   ]
  },
  {
   "cell_type": "code",
   "execution_count": 115,
   "metadata": {
    "collapsed": true
   },
   "outputs": [],
   "source": [
    "#Bauen wir eine Liste von Dictionaries\n",
    "new_lst = []\n",
    "for elem in soup.find_all('h2'):\n",
    "    mini_dict = {'Überschrift':elem.text}\n",
    "    new_lst.append(mini_dict)"
   ]
  },
  {
   "cell_type": "code",
   "execution_count": 116,
   "metadata": {
    "collapsed": true
   },
   "outputs": [],
   "source": [
    "import pandas as pd"
   ]
  },
  {
   "cell_type": "code",
   "execution_count": 117,
   "metadata": {},
   "outputs": [
    {
     "data": {
      "text/html": [
       "<div>\n",
       "<style scoped>\n",
       "    .dataframe tbody tr th:only-of-type {\n",
       "        vertical-align: middle;\n",
       "    }\n",
       "\n",
       "    .dataframe tbody tr th {\n",
       "        vertical-align: top;\n",
       "    }\n",
       "\n",
       "    .dataframe thead th {\n",
       "        text-align: right;\n",
       "    }\n",
       "</style>\n",
       "<table border=\"1\" class=\"dataframe\">\n",
       "  <thead>\n",
       "    <tr style=\"text-align: right;\">\n",
       "      <th></th>\n",
       "      <th>Überschrift</th>\n",
       "    </tr>\n",
       "  </thead>\n",
       "  <tbody>\n",
       "    <tr>\n",
       "      <th>0</th>\n",
       "      <td>Das ist die erste Überschrift</td>\n",
       "    </tr>\n",
       "    <tr>\n",
       "      <th>1</th>\n",
       "      <td>Das ist die zweite Überschrift</td>\n",
       "    </tr>\n",
       "    <tr>\n",
       "      <th>2</th>\n",
       "      <td>Das ist die dritte Überschrift</td>\n",
       "    </tr>\n",
       "  </tbody>\n",
       "</table>\n",
       "</div>"
      ],
      "text/plain": [
       "                      Überschrift\n",
       "0   Das ist die erste Überschrift\n",
       "1  Das ist die zweite Überschrift\n",
       "2  Das ist die dritte Überschrift"
      ]
     },
     "execution_count": 117,
     "metadata": {},
     "output_type": "execute_result"
    }
   ],
   "source": [
    "pd.DataFrame(new_lst)"
   ]
  },
  {
   "cell_type": "markdown",
   "metadata": {},
   "source": [
    "## Gehen wir zu etwas komplexerem Inhalt: Ein RSS-Feed\n",
    "Was wir hier haben, ist die aktuelle Ausbuchung der Parkplätze in der Stadt Zürich. Sie werden von der Stadt in einem RSS Feed abgeboten. Schauen wir uns den [Link einmal an](http://www.plszh.ch/plsFeed/rss). Nicht sehr lesbar, aber äusserst strukturiert. Lesen wir die Plätze aus."
   ]
  },
  {
   "cell_type": "code",
   "execution_count": 119,
   "metadata": {
    "collapsed": true
   },
   "outputs": [],
   "source": [
    "import requests"
   ]
  },
  {
   "cell_type": "code",
   "execution_count": 120,
   "metadata": {},
   "outputs": [],
   "source": [
    "r = requests.get('http://www.plszh.ch/plsFeed/rss') #Besuchen wir die URL"
   ]
  },
  {
   "cell_type": "code",
   "execution_count": 121,
   "metadata": {},
   "outputs": [
    {
     "data": {
      "text/plain": [
       "37"
      ]
     },
     "execution_count": 121,
     "metadata": {},
     "output_type": "execute_result"
    }
   ],
   "source": [
    "contents = r.text #Wandeln wir den Text in ein Format um, mit dem BeautifulSoup umgehen kann.\n",
    "soup = BeautifulSoup(contents,'xml') #Geben wir das an BeautifulSoup weiter\n",
    "titles = soup.find_all('title') #Nun lesen wir Titel aus.\n",
    "len(titles) #Schauen wir, wie lange die Titel sind."
   ]
  },
  {
   "cell_type": "code",
   "execution_count": 122,
   "metadata": {},
   "outputs": [
    {
     "data": {
      "text/plain": [
       "<title>FEED Parkleitsystem Stadt Zürich</title>"
      ]
     },
     "execution_count": 122,
     "metadata": {},
     "output_type": "execute_result"
    }
   ],
   "source": [
    "titles[0] "
   ]
  },
  {
   "cell_type": "code",
   "execution_count": 123,
   "metadata": {},
   "outputs": [
    {
     "data": {
      "text/plain": [
       "<title>Parkgarage am Central / Seilergraben</title>"
      ]
     },
     "execution_count": 123,
     "metadata": {},
     "output_type": "execute_result"
    }
   ],
   "source": [
    "titles[1]"
   ]
  },
  {
   "cell_type": "code",
   "execution_count": 124,
   "metadata": {},
   "outputs": [
    {
     "data": {
      "text/plain": [
       "'Parkgarage am Central / Seilergraben'"
      ]
     },
     "execution_count": 124,
     "metadata": {},
     "output_type": "execute_result"
    }
   ],
   "source": [
    "titles[1].text"
   ]
  },
  {
   "cell_type": "code",
   "execution_count": 126,
   "metadata": {},
   "outputs": [
    {
     "data": {
      "text/plain": [
       "<description>open /   37</description>"
      ]
     },
     "execution_count": 126,
     "metadata": {},
     "output_type": "execute_result"
    }
   ],
   "source": [
    "descr = soup.find_all('description')\n",
    "descr[1]"
   ]
  },
  {
   "cell_type": "code",
   "execution_count": 133,
   "metadata": {
    "collapsed": true
   },
   "outputs": [],
   "source": [
    "#Bauen wir die eigene Liste\n",
    "lst = []\n",
    "for garage,url,b in zip(titles,links,descr):\n",
    "    \n",
    "    mini_dict = {'Parkgarage':garage.text,\n",
    "                 'Descr':b.text}\n",
    "    \n",
    "    lst.append(mini_dict)"
   ]
  },
  {
   "cell_type": "code",
   "execution_count": 134,
   "metadata": {},
   "outputs": [
    {
     "data": {
      "text/plain": [
       "[{'Descr': 'http://www.plszh.ch/plsFeed/rss?type=rss_0.92 | rss_0.93 | rss_0.94 | rss_1.0 | rss_2.0 (=default) | atom_0.3 | atom_1.0',\n",
       "  'Parkgarage': 'FEED Parkleitsystem Stadt Zürich'},\n",
       " {'Descr': 'open /   37',\n",
       "  'Parkgarage': 'Parkgarage am Central / Seilergraben'},\n",
       " {'Descr': 'open /  162', 'Parkgarage': 'Parkhaus Accu / Otto-Schütz-Weg'},\n",
       " {'Descr': 'open /   61',\n",
       "  'Parkgarage': 'Parkhaus Albisriederplatz / Badenerstrasse 380'},\n",
       " {'Descr': 'open /  102',\n",
       "  'Parkgarage': 'Parkhaus Bleicherweg / Beethovenstrasse 35'},\n",
       " {'Descr': 'open /  305',\n",
       "  'Parkgarage': 'Parkhaus Center Eleven / Sophie-Täuber-Strasse 4'},\n",
       " {'Descr': 'open /  243',\n",
       "  'Parkgarage': 'Parkhaus City Parking / Gessnerallee 14'},\n",
       " {'Descr': 'open /  101',\n",
       "  'Parkgarage': 'Parkhaus Cityport / Affolternstrasse 56'},\n",
       " {'Descr': 'open /  302',\n",
       "  'Parkgarage': 'Parkhaus Crowne Plaza / Badenerstrasse 420'},\n",
       " {'Descr': 'open /   42',\n",
       "  'Parkgarage': 'Parkhaus Dorflinde / Schwamendingenstrasse 31'},\n",
       " {'Descr': 'open /  120',\n",
       "  'Parkgarage': 'Parkhaus Feldegg / Riesbachstrasse 7'},\n",
       " {'Descr': 'open /  119', 'Parkgarage': 'Parkhaus Globus / Löwenstrasse 50'},\n",
       " {'Descr': 'open /  108',\n",
       "  'Parkgarage': 'Parkhaus Hardau II / Bullingerstrasse 73'},\n",
       " {'Descr': 'open /  145', 'Parkgarage': 'Parkhaus Hauptbahnhof / Sihlquai 41'},\n",
       " {'Descr': 'open /  410',\n",
       "  'Parkgarage': 'Parkhaus Hohe Promenade / Rämistrasse 22a'},\n",
       " {'Descr': 'open /  186',\n",
       "  'Parkgarage': 'Parkhaus Jelmoli / Steinmühleplatz 1'},\n",
       " {'Descr': 'open /  127',\n",
       "  'Parkgarage': 'Parkhaus Jungholz / Jungholzstrasse 19'},\n",
       " {'Descr': 'open /   73',\n",
       "  'Parkgarage': 'Parkhaus Max-Bill-Platz / Armin-Bollinger-Weg'},\n",
       " {'Descr': 'open /  999',\n",
       "  'Parkgarage': 'Parkhaus Messe Zürich AG / Andreasstrasse 65'},\n",
       " {'Descr': 'open /   99',\n",
       "  'Parkgarage': 'Parkhaus Nordhaus / Siewerdtstrasse 8'},\n",
       " {'Descr': 'open /   87',\n",
       "  'Parkgarage': 'Parkhaus Octavo / Brown-Boveri-Strasse 2'},\n",
       " {'Descr': 'open /  244', 'Parkgarage': 'Parkhaus Opéra / Schillerstrasse 5'},\n",
       " {'Descr': 'open /  368',\n",
       "  'Parkgarage': 'Parkhaus P West / Förrlibuckstrasse 151'},\n",
       " {'Descr': 'open /  207',\n",
       "  'Parkgarage': 'Parkhaus Park Hyatt / Beethovenstrasse 21'},\n",
       " {'Descr': 'open /    9',\n",
       "  'Parkgarage': 'Parkhaus Parkside / Sophie-Täuber-Strasse 10'},\n",
       " {'Descr': 'open /  166',\n",
       "  'Parkgarage': 'Parkhaus Pfingstweid / Pfingstweidstrasse 1'},\n",
       " {'Descr': 'open /  154',\n",
       "  'Parkgarage': 'Parkhaus Stampfenbach / Niklausstrasse 1'},\n",
       " {'Descr': 'open /   61',\n",
       "  'Parkgarage': 'Parkhaus Talgarten / Nüschelerstrasse 31'},\n",
       " {'Descr': 'open /  102',\n",
       "  'Parkgarage': 'Parkhaus USZ Nord / Frauenklinikstrasse'},\n",
       " {'Descr': '???? / ???',\n",
       "  'Parkgarage': 'Parkhaus Uni Irchel / Winterthurerstrasse 181'},\n",
       " {'Descr': 'open /  327', 'Parkgarage': 'Parkhaus Urania / Uraniastrasse 3'},\n",
       " {'Descr': 'open /   50', 'Parkgarage': 'Parkhaus Utoquai / Färberstrasse 6'},\n",
       " {'Descr': 'open /   48',\n",
       "  'Parkgarage': 'Parkhaus Züri 11 Shopping / Nansenstrasse 5/7'},\n",
       " {'Descr': 'open /   61',\n",
       "  'Parkgarage': 'Parkhaus Zürichhorn / Dufourstrasse 142'},\n",
       " {'Descr': 'open /   39',\n",
       "  'Parkgarage': 'Parkplatz Eisfeld / Thurgauerstrasse 54'},\n",
       " {'Descr': 'open /  153',\n",
       "  'Parkgarage': 'Parkplatz Theater 11 / Dörfli-/Thurgauerstrasse'},\n",
       " {'Descr': 'open /   48', 'Parkgarage': 'Parkplatz USZ Süd / Gloriastrasse'}]"
      ]
     },
     "execution_count": 134,
     "metadata": {},
     "output_type": "execute_result"
    }
   ],
   "source": [
    "lst"
   ]
  },
  {
   "cell_type": "code",
   "execution_count": 130,
   "metadata": {},
   "outputs": [
    {
     "data": {
      "text/html": [
       "<div>\n",
       "<style scoped>\n",
       "    .dataframe tbody tr th:only-of-type {\n",
       "        vertical-align: middle;\n",
       "    }\n",
       "\n",
       "    .dataframe tbody tr th {\n",
       "        vertical-align: top;\n",
       "    }\n",
       "\n",
       "    .dataframe thead th {\n",
       "        text-align: right;\n",
       "    }\n",
       "</style>\n",
       "<table border=\"1\" class=\"dataframe\">\n",
       "  <thead>\n",
       "    <tr style=\"text-align: right;\">\n",
       "      <th></th>\n",
       "      <th>Descr</th>\n",
       "      <th>Parkgarage</th>\n",
       "      <th>URL</th>\n",
       "    </tr>\n",
       "  </thead>\n",
       "  <tbody>\n",
       "    <tr>\n",
       "      <th>0</th>\n",
       "      <td>http://www.plszh.ch/plsFeed/rss?type=rss_0.92 ...</td>\n",
       "      <td>FEED Parkleitsystem Stadt Zürich</td>\n",
       "      <td>http://www.plszh.ch</td>\n",
       "    </tr>\n",
       "    <tr>\n",
       "      <th>1</th>\n",
       "      <td>open /   37</td>\n",
       "      <td>Parkgarage am Central / Seilergraben</td>\n",
       "      <td>http://www.plszh.ch/parkhaus/central.jsp?pid=c...</td>\n",
       "    </tr>\n",
       "    <tr>\n",
       "      <th>2</th>\n",
       "      <td>open /  162</td>\n",
       "      <td>Parkhaus Accu / Otto-Schütz-Weg</td>\n",
       "      <td>http://www.plszh.ch/parkhaus/accu.jsp?pid=accu</td>\n",
       "    </tr>\n",
       "    <tr>\n",
       "      <th>3</th>\n",
       "      <td>open /   61</td>\n",
       "      <td>Parkhaus Albisriederplatz / Badenerstrasse 380</td>\n",
       "      <td>http://www.plszh.ch/parkhaus/albisriederplatz....</td>\n",
       "    </tr>\n",
       "    <tr>\n",
       "      <th>4</th>\n",
       "      <td>open /  102</td>\n",
       "      <td>Parkhaus Bleicherweg / Beethovenstrasse 35</td>\n",
       "      <td>http://www.plszh.ch/parkhaus/bleicherweg.jsp?p...</td>\n",
       "    </tr>\n",
       "  </tbody>\n",
       "</table>\n",
       "</div>"
      ],
      "text/plain": [
       "                                               Descr  \\\n",
       "0  http://www.plszh.ch/plsFeed/rss?type=rss_0.92 ...   \n",
       "1                                        open /   37   \n",
       "2                                        open /  162   \n",
       "3                                        open /   61   \n",
       "4                                        open /  102   \n",
       "\n",
       "                                       Parkgarage  \\\n",
       "0                FEED Parkleitsystem Stadt Zürich   \n",
       "1            Parkgarage am Central / Seilergraben   \n",
       "2                 Parkhaus Accu / Otto-Schütz-Weg   \n",
       "3  Parkhaus Albisriederplatz / Badenerstrasse 380   \n",
       "4      Parkhaus Bleicherweg / Beethovenstrasse 35   \n",
       "\n",
       "                                                 URL  \n",
       "0                                http://www.plszh.ch  \n",
       "1  http://www.plszh.ch/parkhaus/central.jsp?pid=c...  \n",
       "2     http://www.plszh.ch/parkhaus/accu.jsp?pid=accu  \n",
       "3  http://www.plszh.ch/parkhaus/albisriederplatz....  \n",
       "4  http://www.plszh.ch/parkhaus/bleicherweg.jsp?p...  "
      ]
     },
     "execution_count": 130,
     "metadata": {},
     "output_type": "execute_result"
    }
   ],
   "source": [
    "pd.DataFrame(lst).head()"
   ]
  },
  {
   "cell_type": "code",
   "execution_count": 131,
   "metadata": {},
   "outputs": [
    {
     "data": {
      "text/html": [
       "<div>\n",
       "<style scoped>\n",
       "    .dataframe tbody tr th:only-of-type {\n",
       "        vertical-align: middle;\n",
       "    }\n",
       "\n",
       "    .dataframe tbody tr th {\n",
       "        vertical-align: top;\n",
       "    }\n",
       "\n",
       "    .dataframe thead th {\n",
       "        text-align: right;\n",
       "    }\n",
       "</style>\n",
       "<table border=\"1\" class=\"dataframe\">\n",
       "  <thead>\n",
       "    <tr style=\"text-align: right;\">\n",
       "      <th></th>\n",
       "      <th>Descr</th>\n",
       "      <th>Parkgarage</th>\n",
       "      <th>URL</th>\n",
       "    </tr>\n",
       "  </thead>\n",
       "  <tbody>\n",
       "    <tr>\n",
       "      <th>1</th>\n",
       "      <td>open /   37</td>\n",
       "      <td>Parkgarage am Central / Seilergraben</td>\n",
       "      <td>http://www.plszh.ch/parkhaus/central.jsp?pid=c...</td>\n",
       "    </tr>\n",
       "    <tr>\n",
       "      <th>2</th>\n",
       "      <td>open /  162</td>\n",
       "      <td>Parkhaus Accu / Otto-Schütz-Weg</td>\n",
       "      <td>http://www.plszh.ch/parkhaus/accu.jsp?pid=accu</td>\n",
       "    </tr>\n",
       "    <tr>\n",
       "      <th>3</th>\n",
       "      <td>open /   61</td>\n",
       "      <td>Parkhaus Albisriederplatz / Badenerstrasse 380</td>\n",
       "      <td>http://www.plszh.ch/parkhaus/albisriederplatz....</td>\n",
       "    </tr>\n",
       "    <tr>\n",
       "      <th>4</th>\n",
       "      <td>open /  102</td>\n",
       "      <td>Parkhaus Bleicherweg / Beethovenstrasse 35</td>\n",
       "      <td>http://www.plszh.ch/parkhaus/bleicherweg.jsp?p...</td>\n",
       "    </tr>\n",
       "    <tr>\n",
       "      <th>5</th>\n",
       "      <td>open /  305</td>\n",
       "      <td>Parkhaus Center Eleven / Sophie-Täuber-Strasse 4</td>\n",
       "      <td>http://www.plszh.ch/parkhaus/center_11.jsp?pid...</td>\n",
       "    </tr>\n",
       "    <tr>\n",
       "      <th>6</th>\n",
       "      <td>open /  243</td>\n",
       "      <td>Parkhaus City Parking / Gessnerallee 14</td>\n",
       "      <td>http://www.plszh.ch/parkhaus/cp.jsp?pid=cp</td>\n",
       "    </tr>\n",
       "    <tr>\n",
       "      <th>7</th>\n",
       "      <td>open /  101</td>\n",
       "      <td>Parkhaus Cityport / Affolternstrasse 56</td>\n",
       "      <td>http://www.plszh.ch/parkhaus/cityport.jsp?pid=...</td>\n",
       "    </tr>\n",
       "    <tr>\n",
       "      <th>8</th>\n",
       "      <td>open /  302</td>\n",
       "      <td>Parkhaus Crowne Plaza / Badenerstrasse 420</td>\n",
       "      <td>http://www.plszh.ch/parkhaus/crowne_plaza.jsp?...</td>\n",
       "    </tr>\n",
       "    <tr>\n",
       "      <th>9</th>\n",
       "      <td>open /   42</td>\n",
       "      <td>Parkhaus Dorflinde / Schwamendingenstrasse 31</td>\n",
       "      <td>http://www.plszh.ch/parkhaus/dorflinde.jsp?pid...</td>\n",
       "    </tr>\n",
       "    <tr>\n",
       "      <th>10</th>\n",
       "      <td>open /  120</td>\n",
       "      <td>Parkhaus Feldegg / Riesbachstrasse 7</td>\n",
       "      <td>http://www.plszh.ch/parkhaus/feldegg.jsp?pid=f...</td>\n",
       "    </tr>\n",
       "    <tr>\n",
       "      <th>11</th>\n",
       "      <td>open /  119</td>\n",
       "      <td>Parkhaus Globus / Löwenstrasse 50</td>\n",
       "      <td>http://www.plszh.ch/parkhaus/globus.jsp?pid=gl...</td>\n",
       "    </tr>\n",
       "    <tr>\n",
       "      <th>12</th>\n",
       "      <td>open /  108</td>\n",
       "      <td>Parkhaus Hardau II / Bullingerstrasse 73</td>\n",
       "      <td>http://www.plszh.ch/parkhaus/hardau.jsp?pid=ha...</td>\n",
       "    </tr>\n",
       "    <tr>\n",
       "      <th>13</th>\n",
       "      <td>open /  145</td>\n",
       "      <td>Parkhaus Hauptbahnhof / Sihlquai 41</td>\n",
       "      <td>http://www.plszh.ch/parkhaus/hb.jsp?pid=hb</td>\n",
       "    </tr>\n",
       "    <tr>\n",
       "      <th>14</th>\n",
       "      <td>open /  410</td>\n",
       "      <td>Parkhaus Hohe Promenade / Rämistrasse 22a</td>\n",
       "      <td>http://www.plszh.ch/parkhaus/promenade.jsp?pid...</td>\n",
       "    </tr>\n",
       "    <tr>\n",
       "      <th>15</th>\n",
       "      <td>open /  186</td>\n",
       "      <td>Parkhaus Jelmoli / Steinmühleplatz 1</td>\n",
       "      <td>http://www.plszh.ch/parkhaus/jelmoli.jsp?pid=j...</td>\n",
       "    </tr>\n",
       "    <tr>\n",
       "      <th>16</th>\n",
       "      <td>open /  127</td>\n",
       "      <td>Parkhaus Jungholz / Jungholzstrasse 19</td>\n",
       "      <td>http://www.plszh.ch/parkhaus/jungholz.jsp?pid=...</td>\n",
       "    </tr>\n",
       "    <tr>\n",
       "      <th>17</th>\n",
       "      <td>open /   73</td>\n",
       "      <td>Parkhaus Max-Bill-Platz / Armin-Bollinger-Weg</td>\n",
       "      <td>http://www.plszh.ch/parkhaus/max_bill_platz.js...</td>\n",
       "    </tr>\n",
       "    <tr>\n",
       "      <th>18</th>\n",
       "      <td>open /  999</td>\n",
       "      <td>Parkhaus Messe Zürich AG / Andreasstrasse 65</td>\n",
       "      <td>http://www.plszh.ch/parkhaus/messe.jsp?pid=messe</td>\n",
       "    </tr>\n",
       "    <tr>\n",
       "      <th>19</th>\n",
       "      <td>open /   99</td>\n",
       "      <td>Parkhaus Nordhaus / Siewerdtstrasse 8</td>\n",
       "      <td>http://www.plszh.ch/parkhaus/nordhaus.jsp?pid=...</td>\n",
       "    </tr>\n",
       "    <tr>\n",
       "      <th>20</th>\n",
       "      <td>open /   87</td>\n",
       "      <td>Parkhaus Octavo / Brown-Boveri-Strasse 2</td>\n",
       "      <td>http://www.plszh.ch/parkhaus/octavo.jsp?pid=oc...</td>\n",
       "    </tr>\n",
       "    <tr>\n",
       "      <th>21</th>\n",
       "      <td>open /  244</td>\n",
       "      <td>Parkhaus Opéra / Schillerstrasse 5</td>\n",
       "      <td>http://www.plszh.ch/parkhaus/opera.jsp?pid=opera</td>\n",
       "    </tr>\n",
       "    <tr>\n",
       "      <th>22</th>\n",
       "      <td>open /  368</td>\n",
       "      <td>Parkhaus P West / Förrlibuckstrasse 151</td>\n",
       "      <td>http://www.plszh.ch/parkhaus/p_west.jsp?pid=p_...</td>\n",
       "    </tr>\n",
       "    <tr>\n",
       "      <th>23</th>\n",
       "      <td>open /  207</td>\n",
       "      <td>Parkhaus Park Hyatt / Beethovenstrasse 21</td>\n",
       "      <td>http://www.plszh.ch/parkhaus/park_hyatt.jsp?pi...</td>\n",
       "    </tr>\n",
       "    <tr>\n",
       "      <th>24</th>\n",
       "      <td>open /    9</td>\n",
       "      <td>Parkhaus Parkside / Sophie-Täuber-Strasse 10</td>\n",
       "      <td>http://www.plszh.ch/parkhaus/parkside.jsp?pid=...</td>\n",
       "    </tr>\n",
       "    <tr>\n",
       "      <th>25</th>\n",
       "      <td>open /  166</td>\n",
       "      <td>Parkhaus Pfingstweid / Pfingstweidstrasse 1</td>\n",
       "      <td>http://www.plszh.ch/parkhaus/pfingstweid.jsp?p...</td>\n",
       "    </tr>\n",
       "    <tr>\n",
       "      <th>26</th>\n",
       "      <td>open /  154</td>\n",
       "      <td>Parkhaus Stampfenbach / Niklausstrasse 1</td>\n",
       "      <td>http://www.plszh.ch/parkhaus/stampfenbach.jsp?...</td>\n",
       "    </tr>\n",
       "    <tr>\n",
       "      <th>27</th>\n",
       "      <td>open /   61</td>\n",
       "      <td>Parkhaus Talgarten / Nüschelerstrasse 31</td>\n",
       "      <td>http://www.plszh.ch/parkhaus/talgarten.jsp?pid...</td>\n",
       "    </tr>\n",
       "    <tr>\n",
       "      <th>28</th>\n",
       "      <td>open /  102</td>\n",
       "      <td>Parkhaus USZ Nord / Frauenklinikstrasse</td>\n",
       "      <td>http://www.plszh.ch/parkhaus/unispital_nord.js...</td>\n",
       "    </tr>\n",
       "    <tr>\n",
       "      <th>29</th>\n",
       "      <td>???? / ???</td>\n",
       "      <td>Parkhaus Uni Irchel / Winterthurerstrasse 181</td>\n",
       "      <td>http://www.plszh.ch/parkhaus/uni_irchel.jsp?pi...</td>\n",
       "    </tr>\n",
       "    <tr>\n",
       "      <th>30</th>\n",
       "      <td>open /  327</td>\n",
       "      <td>Parkhaus Urania / Uraniastrasse 3</td>\n",
       "      <td>http://www.plszh.ch/parkhaus/urania.jsp?pid=ur...</td>\n",
       "    </tr>\n",
       "    <tr>\n",
       "      <th>31</th>\n",
       "      <td>open /   50</td>\n",
       "      <td>Parkhaus Utoquai / Färberstrasse 6</td>\n",
       "      <td>http://www.plszh.ch/parkhaus/utoquai.jsp?pid=u...</td>\n",
       "    </tr>\n",
       "    <tr>\n",
       "      <th>32</th>\n",
       "      <td>open /   48</td>\n",
       "      <td>Parkhaus Züri 11 Shopping / Nansenstrasse 5/7</td>\n",
       "      <td>http://www.plszh.ch/parkhaus/zueri11.jsp?pid=z...</td>\n",
       "    </tr>\n",
       "    <tr>\n",
       "      <th>33</th>\n",
       "      <td>open /   61</td>\n",
       "      <td>Parkhaus Zürichhorn / Dufourstrasse 142</td>\n",
       "      <td>http://www.plszh.ch/parkhaus/zuerichhorn.jsp?p...</td>\n",
       "    </tr>\n",
       "    <tr>\n",
       "      <th>34</th>\n",
       "      <td>open /   39</td>\n",
       "      <td>Parkplatz Eisfeld / Thurgauerstrasse 54</td>\n",
       "      <td>http://www.plszh.ch/parkhaus/eisfeld.jsp?pid=e...</td>\n",
       "    </tr>\n",
       "    <tr>\n",
       "      <th>35</th>\n",
       "      <td>open /  153</td>\n",
       "      <td>Parkplatz Theater 11 / Dörfli-/Thurgauerstrasse</td>\n",
       "      <td>http://www.plszh.ch/parkhaus/theater_11.jsp?pi...</td>\n",
       "    </tr>\n",
       "    <tr>\n",
       "      <th>36</th>\n",
       "      <td>open /   48</td>\n",
       "      <td>Parkplatz USZ Süd / Gloriastrasse</td>\n",
       "      <td>http://www.plszh.ch/parkhaus/unispital_sued.js...</td>\n",
       "    </tr>\n",
       "  </tbody>\n",
       "</table>\n",
       "</div>"
      ],
      "text/plain": [
       "          Descr                                        Parkgarage  \\\n",
       "1   open /   37              Parkgarage am Central / Seilergraben   \n",
       "2   open /  162                   Parkhaus Accu / Otto-Schütz-Weg   \n",
       "3   open /   61    Parkhaus Albisriederplatz / Badenerstrasse 380   \n",
       "4   open /  102        Parkhaus Bleicherweg / Beethovenstrasse 35   \n",
       "5   open /  305  Parkhaus Center Eleven / Sophie-Täuber-Strasse 4   \n",
       "6   open /  243           Parkhaus City Parking / Gessnerallee 14   \n",
       "7   open /  101           Parkhaus Cityport / Affolternstrasse 56   \n",
       "8   open /  302        Parkhaus Crowne Plaza / Badenerstrasse 420   \n",
       "9   open /   42     Parkhaus Dorflinde / Schwamendingenstrasse 31   \n",
       "10  open /  120              Parkhaus Feldegg / Riesbachstrasse 7   \n",
       "11  open /  119                 Parkhaus Globus / Löwenstrasse 50   \n",
       "12  open /  108          Parkhaus Hardau II / Bullingerstrasse 73   \n",
       "13  open /  145               Parkhaus Hauptbahnhof / Sihlquai 41   \n",
       "14  open /  410         Parkhaus Hohe Promenade / Rämistrasse 22a   \n",
       "15  open /  186              Parkhaus Jelmoli / Steinmühleplatz 1   \n",
       "16  open /  127            Parkhaus Jungholz / Jungholzstrasse 19   \n",
       "17  open /   73     Parkhaus Max-Bill-Platz / Armin-Bollinger-Weg   \n",
       "18  open /  999      Parkhaus Messe Zürich AG / Andreasstrasse 65   \n",
       "19  open /   99             Parkhaus Nordhaus / Siewerdtstrasse 8   \n",
       "20  open /   87          Parkhaus Octavo / Brown-Boveri-Strasse 2   \n",
       "21  open /  244                Parkhaus Opéra / Schillerstrasse 5   \n",
       "22  open /  368           Parkhaus P West / Förrlibuckstrasse 151   \n",
       "23  open /  207         Parkhaus Park Hyatt / Beethovenstrasse 21   \n",
       "24  open /    9      Parkhaus Parkside / Sophie-Täuber-Strasse 10   \n",
       "25  open /  166       Parkhaus Pfingstweid / Pfingstweidstrasse 1   \n",
       "26  open /  154          Parkhaus Stampfenbach / Niklausstrasse 1   \n",
       "27  open /   61          Parkhaus Talgarten / Nüschelerstrasse 31   \n",
       "28  open /  102           Parkhaus USZ Nord / Frauenklinikstrasse   \n",
       "29   ???? / ???     Parkhaus Uni Irchel / Winterthurerstrasse 181   \n",
       "30  open /  327                 Parkhaus Urania / Uraniastrasse 3   \n",
       "31  open /   50                Parkhaus Utoquai / Färberstrasse 6   \n",
       "32  open /   48     Parkhaus Züri 11 Shopping / Nansenstrasse 5/7   \n",
       "33  open /   61           Parkhaus Zürichhorn / Dufourstrasse 142   \n",
       "34  open /   39           Parkplatz Eisfeld / Thurgauerstrasse 54   \n",
       "35  open /  153   Parkplatz Theater 11 / Dörfli-/Thurgauerstrasse   \n",
       "36  open /   48                 Parkplatz USZ Süd / Gloriastrasse   \n",
       "\n",
       "                                                  URL  \n",
       "1   http://www.plszh.ch/parkhaus/central.jsp?pid=c...  \n",
       "2      http://www.plszh.ch/parkhaus/accu.jsp?pid=accu  \n",
       "3   http://www.plszh.ch/parkhaus/albisriederplatz....  \n",
       "4   http://www.plszh.ch/parkhaus/bleicherweg.jsp?p...  \n",
       "5   http://www.plszh.ch/parkhaus/center_11.jsp?pid...  \n",
       "6          http://www.plszh.ch/parkhaus/cp.jsp?pid=cp  \n",
       "7   http://www.plszh.ch/parkhaus/cityport.jsp?pid=...  \n",
       "8   http://www.plszh.ch/parkhaus/crowne_plaza.jsp?...  \n",
       "9   http://www.plszh.ch/parkhaus/dorflinde.jsp?pid...  \n",
       "10  http://www.plszh.ch/parkhaus/feldegg.jsp?pid=f...  \n",
       "11  http://www.plszh.ch/parkhaus/globus.jsp?pid=gl...  \n",
       "12  http://www.plszh.ch/parkhaus/hardau.jsp?pid=ha...  \n",
       "13         http://www.plszh.ch/parkhaus/hb.jsp?pid=hb  \n",
       "14  http://www.plszh.ch/parkhaus/promenade.jsp?pid...  \n",
       "15  http://www.plszh.ch/parkhaus/jelmoli.jsp?pid=j...  \n",
       "16  http://www.plszh.ch/parkhaus/jungholz.jsp?pid=...  \n",
       "17  http://www.plszh.ch/parkhaus/max_bill_platz.js...  \n",
       "18   http://www.plszh.ch/parkhaus/messe.jsp?pid=messe  \n",
       "19  http://www.plszh.ch/parkhaus/nordhaus.jsp?pid=...  \n",
       "20  http://www.plszh.ch/parkhaus/octavo.jsp?pid=oc...  \n",
       "21   http://www.plszh.ch/parkhaus/opera.jsp?pid=opera  \n",
       "22  http://www.plszh.ch/parkhaus/p_west.jsp?pid=p_...  \n",
       "23  http://www.plszh.ch/parkhaus/park_hyatt.jsp?pi...  \n",
       "24  http://www.plszh.ch/parkhaus/parkside.jsp?pid=...  \n",
       "25  http://www.plszh.ch/parkhaus/pfingstweid.jsp?p...  \n",
       "26  http://www.plszh.ch/parkhaus/stampfenbach.jsp?...  \n",
       "27  http://www.plszh.ch/parkhaus/talgarten.jsp?pid...  \n",
       "28  http://www.plszh.ch/parkhaus/unispital_nord.js...  \n",
       "29  http://www.plszh.ch/parkhaus/uni_irchel.jsp?pi...  \n",
       "30  http://www.plszh.ch/parkhaus/urania.jsp?pid=ur...  \n",
       "31  http://www.plszh.ch/parkhaus/utoquai.jsp?pid=u...  \n",
       "32  http://www.plszh.ch/parkhaus/zueri11.jsp?pid=z...  \n",
       "33  http://www.plszh.ch/parkhaus/zuerichhorn.jsp?p...  \n",
       "34  http://www.plszh.ch/parkhaus/eisfeld.jsp?pid=e...  \n",
       "35  http://www.plszh.ch/parkhaus/theater_11.jsp?pi...  \n",
       "36  http://www.plszh.ch/parkhaus/unispital_sued.js...  "
      ]
     },
     "execution_count": 131,
     "metadata": {},
     "output_type": "execute_result"
    }
   ],
   "source": [
    "pd.DataFrame(lst)[1:]"
   ]
  },
  {
   "cell_type": "markdown",
   "metadata": {},
   "source": [
    "# Gehen wir zur Übung 3"
   ]
  },
  {
   "cell_type": "markdown",
   "metadata": {},
   "source": [
    "# Komplexere Websites"
   ]
  },
  {
   "cell_type": "code",
   "execution_count": null,
   "metadata": {
    "collapsed": true
   },
   "outputs": [],
   "source": []
  },
  {
   "cell_type": "code",
   "execution_count": null,
   "metadata": {
    "collapsed": true
   },
   "outputs": [],
   "source": [
    "#laden wir die Frontpage von Watson\n",
    "r = requests.get('https://www.watson.ch')\n",
    "contents = r.text #Wir lesen den Inhalt aus\n",
    "soup = BeautifulSoup(contents,'xml')"
   ]
  },
  {
   "cell_type": "code",
   "execution_count": null,
   "metadata": {
    "collapsed": true
   },
   "outputs": [],
   "source": [
    "#Ziehen wir die Titel raus\n",
    "titelliste = soup.find_all('h2')"
   ]
  },
  {
   "cell_type": "code",
   "execution_count": null,
   "metadata": {
    "collapsed": true
   },
   "outputs": [],
   "source": [
    "#Ziehen wir alle Kommentare raus\n",
    "kommentare = sound.find_all('')"
   ]
  },
  {
   "cell_type": "code",
   "execution_count": null,
   "metadata": {
    "collapsed": true
   },
   "outputs": [],
   "source": []
  },
  {
   "cell_type": "code",
   "execution_count": null,
   "metadata": {
    "collapsed": true
   },
   "outputs": [],
   "source": []
  },
  {
   "cell_type": "markdown",
   "metadata": {},
   "source": [
    "# Search.ch"
   ]
  },
  {
   "cell_type": "code",
   "execution_count": null,
   "metadata": {
    "collapsed": true
   },
   "outputs": [],
   "source": [
    "# https://tel.search.ch/api/help.en.html requested 15 keys for the course."
   ]
  },
  {
   "cell_type": "code",
   "execution_count": null,
   "metadata": {
    "collapsed": true
   },
   "outputs": [],
   "source": []
  },
  {
   "cell_type": "code",
   "execution_count": null,
   "metadata": {
    "collapsed": true
   },
   "outputs": [],
   "source": []
  },
  {
   "cell_type": "code",
   "execution_count": null,
   "metadata": {
    "collapsed": true
   },
   "outputs": [],
   "source": []
  },
  {
   "cell_type": "code",
   "execution_count": null,
   "metadata": {
    "collapsed": true
   },
   "outputs": [],
   "source": []
  },
  {
   "cell_type": "markdown",
   "metadata": {},
   "source": [
    "# Besuchen wir die API von Swiss Opendata\n",
    "Gehen wir auf [opendata.swiss](https//opendata.swiss) und dann weiter zu https://handbook.opendata.swiss/support/api.html. Hier sehen wir die Dokumentation dieser einfachen API. Sie braucht keine Authentifizierung. Wir werden später ein Beispiel einer API, wo dies nötig wird."
   ]
  },
  {
   "cell_type": "markdown",
   "metadata": {},
   "source": [
    "**package_list**"
   ]
  },
  {
   "cell_type": "code",
   "execution_count": null,
   "metadata": {
    "collapsed": true
   },
   "outputs": [],
   "source": [
    "r = requests.get('https://opendata.swiss/api/3/action/package_list')"
   ]
  },
  {
   "cell_type": "code",
   "execution_count": null,
   "metadata": {},
   "outputs": [],
   "source": [
    "r"
   ]
  },
  {
   "cell_type": "code",
   "execution_count": null,
   "metadata": {},
   "outputs": [],
   "source": [
    "r.headers['content-type']"
   ]
  },
  {
   "cell_type": "code",
   "execution_count": null,
   "metadata": {},
   "outputs": [],
   "source": [
    "r.text"
   ]
  },
  {
   "cell_type": "code",
   "execution_count": null,
   "metadata": {
    "collapsed": true
   },
   "outputs": [],
   "source": [
    "v = r.json()"
   ]
  },
  {
   "cell_type": "code",
   "execution_count": null,
   "metadata": {},
   "outputs": [],
   "source": [
    "len(v)"
   ]
  },
  {
   "cell_type": "code",
   "execution_count": null,
   "metadata": {},
   "outputs": [],
   "source": [
    "# Schauen wir uns die Elemente an:\n",
    "for key in v:\n",
    "    print(key)"
   ]
  },
  {
   "cell_type": "code",
   "execution_count": null,
   "metadata": {},
   "outputs": [],
   "source": [
    "len(v['result'])"
   ]
  },
  {
   "cell_type": "code",
   "execution_count": null,
   "metadata": {},
   "outputs": [],
   "source": [
    "v['result']"
   ]
  },
  {
   "cell_type": "code",
   "execution_count": null,
   "metadata": {
    "collapsed": true
   },
   "outputs": [],
   "source": [
    "#Anderes Beispiel, SEM Passagierliste\n",
    "#https://www.sem.admin.ch/sem/en/home/themen/einreise/api.html"
   ]
  },
  {
   "cell_type": "code",
   "execution_count": null,
   "metadata": {
    "collapsed": true
   },
   "outputs": [],
   "source": [
    "r = requests.get('https://mdx.meteotest.ch/api_v1?key=AAAABBBBCCCCDDDDEEEEFFFF00001111&service=prod2data&action=sample_weather')"
   ]
  },
  {
   "cell_type": "code",
   "execution_count": null,
   "metadata": {},
   "outputs": [],
   "source": [
    "r.text"
   ]
  },
  {
   "cell_type": "code",
   "execution_count": null,
   "metadata": {
    "collapsed": true
   },
   "outputs": [],
   "source": []
  }
 ],
 "metadata": {
  "kernelspec": {
   "display_name": "Python 3",
   "language": "python",
   "name": "python3"
  },
  "language_info": {
   "codemirror_mode": {
    "name": "ipython",
    "version": 3
   },
   "file_extension": ".py",
   "mimetype": "text/x-python",
   "name": "python",
   "nbconvert_exporter": "python",
   "pygments_lexer": "ipython3",
   "version": "3.5.1"
  }
 },
 "nbformat": 4,
 "nbformat_minor": 2
}
