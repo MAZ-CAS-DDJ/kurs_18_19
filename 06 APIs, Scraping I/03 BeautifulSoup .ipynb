{
 "cells": [
  {
   "cell_type": "markdown",
   "metadata": {},
   "source": [
    "# Einführung in BeautifulSoup, einlesen von Files"
   ]
  },
  {
   "cell_type": "markdown",
   "metadata": {},
   "source": [
    "Und als aller Erstes wollen wir die Developer Tools kennenlernen:\n",
    "\n",
    "- Gehen wir auf: www.srf.ch.\n",
    "- Öffnen den Chrome Browser. Die Developer Tools findest DU im Menü unter More Tools -> Developer Tools. Shortcuts: F12, Str-Ctr-I oder Cmd + Opt + I (alle Browser die Dev Tools, wir fokussieren hier auf den Chrome Browser) \n",
    "- Der Reiter, der uns interessiert, ist: “Elements”. Steuere ihn an.\n",
    "- Wir können hier zwischen Mobilansicht und Desktop wechseln\n",
    "- Oder Elemente auf der Website suchen. Wähle den Pfeil an. Und suche nun etwas auf der Website. \n",
    "- Hier können wir auch Texte manipulieren, teste es auf www.srf.ch. \n",
    "- Aber das interessiert uns nicht. Wir wollen die Struktur der Website kennenlernen. Vertiefen wir uns eine Weile in diese Struktur. Je besser wir sie kennen, desto einfacher ist es, Daten auszulesen.\n",
    "- Das sollte euch nun etwas bekannter vorkommen. Ihr habt eben selber solche Zeilen geschrieben. "
   ]
  },
  {
   "cell_type": "markdown",
   "metadata": {},
   "source": [
    "Gehen wir zurück zu dem File, den ihr eben selber bearbeitet habt. Zuerst müssen wir das File einlesen."
   ]
  },
  {
   "cell_type": "code",
   "execution_count": 3,
   "metadata": {
    "collapsed": true
   },
   "outputs": [],
   "source": [
    "file = open('02 HTML Code.htm', 'r')"
   ]
  },
  {
   "cell_type": "markdown",
   "metadata": {},
   "source": [
    "```open``` ist eine eingebaute Funktion von Python. Ihr findet hier [eine Zusammenstellung](https://docs.python.org/2/library/functions.html) all dieser Funktionen. Es gibt neben ```r```und ```w``` noch die Binary modi. ```rb```und ```wb```. Binary heisst, dass der Computer sich die Buchstaben im Format abspeichert, der ihm am besten liegt. 0 und 1. E = 01000101, F = 01000110, ihr findet mehr [hier](http://sticksandstones.kstrom.com/appen.html) (allerdings Python 2) und mehr [hier](https://docs.python.org/3/tutorial/inputoutput.html)."
   ]
  },
  {
   "cell_type": "code",
   "execution_count": 4,
   "metadata": {
    "collapsed": true
   },
   "outputs": [],
   "source": [
    "file2 = open('testingopen.txt', 'w')"
   ]
  },
  {
   "cell_type": "markdown",
   "metadata": {},
   "source": [
    "Oben seht ihr das Ergebnis, wenn ihr ein File schreibt. Im selben Ordner wie dieses Jupyter Notebook erscheint nun eben dieses file2. Das einfach der vollständigkeitshalber."
   ]
  },
  {
   "cell_type": "code",
   "execution_count": 5,
   "metadata": {},
   "outputs": [
    {
     "data": {
      "text/plain": [
       "'<h1> Anatomie einer Website</h1>\\n\\n<!doctype html>\\n<html lang=\"de\">\\n\\n<head>\\n    <title>Hier steht mein Titel</title>\\n</head>\\n\\n<body style=\"color:blue;\">\\n    <h2>Das ist die erste Überschrift</h2>\\n    <p>Hier steht der Einleitungstext meiner Website. </p>\\n    <ul>\\n    <li>Erster Listenpunkt</li>\\n    <li>Zweiter Listenpunkt</li>\\n    <li>Dritter Listenpunkt</li>\\n    <li>Vierter Listenpunkt</li>\\n</body style=\"color:blue;\">\\n</ul>\\n<body>\\n<h2>Das ist die zweite Überschrift</h2>\\n<p style=\"color:red;\">Hier steht der Einleitungstext meiner Website. </p>\\n<ul>\\n<li>Erster Listenpunkt</li>\\n<li>Zweiter Listenpunkt</li>\\n<li>Dritter Listenpunkt</li>\\n<li>Vierter Listenpunkt</li>\\n</body>\\n<body style=\"color:red;\">\\n</ul>\\n<h2>Das ist die dritte Überschrift</h2>\\n<p>Hier steht der Einleitungstext meiner Website. </p>\\n<ul>\\n<li>Erster Listenpunkt</li>\\n<li>Zweiter Listenpunkt</li>\\n<li>Dritter Listenpunkt</li>\\n<li>Vierter Listenpunkt</li>\\n</body>\\n'"
      ]
     },
     "execution_count": 5,
     "metadata": {},
     "output_type": "execute_result"
    }
   ],
   "source": [
    "file.read()"
   ]
  },
  {
   "cell_type": "code",
   "execution_count": 6,
   "metadata": {
    "collapsed": true
   },
   "outputs": [],
   "source": [
    "text = file.read()"
   ]
  },
  {
   "cell_type": "code",
   "execution_count": 7,
   "metadata": {
    "collapsed": true
   },
   "outputs": [],
   "source": [
    "file = open('02 HTML Code.htm', 'r')"
   ]
  },
  {
   "cell_type": "code",
   "execution_count": 8,
   "metadata": {},
   "outputs": [
    {
     "data": {
      "text/plain": [
       "'<h1> Anatomie einer Website</h1>\\n'"
      ]
     },
     "execution_count": 8,
     "metadata": {},
     "output_type": "execute_result"
    }
   ],
   "source": [
    "file.readline()"
   ]
  },
  {
   "cell_type": "code",
   "execution_count": 9,
   "metadata": {},
   "outputs": [
    {
     "data": {
      "text/plain": [
       "'<h1> Anatomie einer Website</h1>\\n\\n<!doctype html>\\n<html lang=\"de\">\\n\\n<head>\\n    <title>Hier steht mein Titel</title>\\n</head>\\n\\n<body style=\"color:blue;\">\\n    <h2>Das ist die erste Überschrift</h2>\\n    <p>Hier steht der Einleitungstext meiner Website. </p>\\n    <ul>\\n    <li>Erster Listenpunkt</li>\\n    <li>Zweiter Listenpunkt</li>\\n    <li>Dritter Listenpunkt</li>\\n    <li>Vierter Listenpunkt</li>\\n</body style=\"color:blue;\">\\n</ul>\\n<body>\\n<h2>Das ist die zweite Überschrift</h2>\\n<p style=\"color:red;\">Hier steht der Einleitungstext meiner Website. </p>\\n<ul>\\n<li>Erster Listenpunkt</li>\\n<li>Zweiter Listenpunkt</li>\\n<li>Dritter Listenpunkt</li>\\n<li>Vierter Listenpunkt</li>\\n</body>\\n<body style=\"color:red;\">\\n</ul>\\n<h2>Das ist die dritte Überschrift</h2>\\n<p>Hier steht der Einleitungstext meiner Website. </p>\\n<ul>\\n<li>Erster Listenpunkt</li>\\n<li>Zweiter Listenpunkt</li>\\n<li>Dritter Listenpunkt</li>\\n<li>Vierter Listenpunkt</li>\\n</body>\\n'"
      ]
     },
     "execution_count": 9,
     "metadata": {},
     "output_type": "execute_result"
    }
   ],
   "source": [
    "#Das sieht aber nicht sehr schön aus\n",
    "file = open('02 HTML Code.htm', 'r')\n",
    "text = file.read()\n",
    "text"
   ]
  },
  {
   "cell_type": "markdown",
   "metadata": {},
   "source": [
    "Mit BeautifulSoup kann man HTML-Sites in eine Form bringen, die es uns Menschen wieder einfacher macht, die Inhalte zu lesen. Wir beginnne wir immer, indem wir die Library installieren. Wie mit ```!pip import BS4```falls ihr das nicht schon getan habt. Und dann importieren wir die Library."
   ]
  },
  {
   "cell_type": "code",
   "execution_count": 10,
   "metadata": {
    "collapsed": true
   },
   "outputs": [],
   "source": [
    "from bs4 import BeautifulSoup"
   ]
  },
  {
   "cell_type": "code",
   "execution_count": 11,
   "metadata": {
    "collapsed": true
   },
   "outputs": [],
   "source": [
    "soup = BeautifulSoup(text, 'lxml')"
   ]
  },
  {
   "cell_type": "code",
   "execution_count": 12,
   "metadata": {},
   "outputs": [
    {
     "data": {
      "text/plain": [
       "<h2>Das ist die erste Überschrift</h2>"
      ]
     },
     "execution_count": 12,
     "metadata": {},
     "output_type": "execute_result"
    }
   ],
   "source": [
    "soup.find('h2')"
   ]
  },
  {
   "cell_type": "code",
   "execution_count": 13,
   "metadata": {},
   "outputs": [
    {
     "data": {
      "text/plain": [
       "[<h2>Das ist die erste Überschrift</h2>,\n",
       " <h2>Das ist die zweite Überschrift</h2>,\n",
       " <h2>Das ist die dritte Überschrift</h2>]"
      ]
     },
     "execution_count": 13,
     "metadata": {},
     "output_type": "execute_result"
    }
   ],
   "source": [
    "soup.find_all('h2')"
   ]
  },
  {
   "cell_type": "code",
   "execution_count": 14,
   "metadata": {
    "collapsed": true
   },
   "outputs": [],
   "source": [
    "#Bauen wir eine neue Liste\n",
    "new_lst = []\n",
    "for elem in soup.find_all('h2'):\n",
    "    new_lst.append(elem.text)"
   ]
  },
  {
   "cell_type": "code",
   "execution_count": 15,
   "metadata": {},
   "outputs": [
    {
     "data": {
      "text/plain": [
       "['Das ist die erste Überschrift',\n",
       " 'Das ist die zweite Überschrift',\n",
       " 'Das ist die dritte Überschrift']"
      ]
     },
     "execution_count": 15,
     "metadata": {},
     "output_type": "execute_result"
    }
   ],
   "source": [
    "new_lst"
   ]
  },
  {
   "cell_type": "code",
   "execution_count": 16,
   "metadata": {
    "collapsed": true
   },
   "outputs": [],
   "source": [
    "#Bauen wir eine Liste von Dictionaries\n",
    "new_lst = []\n",
    "for elem in soup.find_all('h2'):\n",
    "    mini_dict = {'Überschrift':elem.text}\n",
    "    new_lst.append(mini_dict)"
   ]
  },
  {
   "cell_type": "code",
   "execution_count": 17,
   "metadata": {
    "collapsed": true
   },
   "outputs": [],
   "source": [
    "import pandas as pd"
   ]
  },
  {
   "cell_type": "code",
   "execution_count": 18,
   "metadata": {},
   "outputs": [
    {
     "data": {
      "text/html": [
       "<div>\n",
       "<style scoped>\n",
       "    .dataframe tbody tr th:only-of-type {\n",
       "        vertical-align: middle;\n",
       "    }\n",
       "\n",
       "    .dataframe tbody tr th {\n",
       "        vertical-align: top;\n",
       "    }\n",
       "\n",
       "    .dataframe thead th {\n",
       "        text-align: right;\n",
       "    }\n",
       "</style>\n",
       "<table border=\"1\" class=\"dataframe\">\n",
       "  <thead>\n",
       "    <tr style=\"text-align: right;\">\n",
       "      <th></th>\n",
       "      <th>Überschrift</th>\n",
       "    </tr>\n",
       "  </thead>\n",
       "  <tbody>\n",
       "    <tr>\n",
       "      <th>0</th>\n",
       "      <td>Das ist die erste Überschrift</td>\n",
       "    </tr>\n",
       "    <tr>\n",
       "      <th>1</th>\n",
       "      <td>Das ist die zweite Überschrift</td>\n",
       "    </tr>\n",
       "    <tr>\n",
       "      <th>2</th>\n",
       "      <td>Das ist die dritte Überschrift</td>\n",
       "    </tr>\n",
       "  </tbody>\n",
       "</table>\n",
       "</div>"
      ],
      "text/plain": [
       "                      Überschrift\n",
       "0   Das ist die erste Überschrift\n",
       "1  Das ist die zweite Überschrift\n",
       "2  Das ist die dritte Überschrift"
      ]
     },
     "execution_count": 18,
     "metadata": {},
     "output_type": "execute_result"
    }
   ],
   "source": [
    "pd.DataFrame(new_lst)"
   ]
  },
  {
   "cell_type": "markdown",
   "metadata": {},
   "source": [
    "## Gehen wir zu etwas komplexerem Inhalt: Ein RSS-Feed\n",
    "Was wir hier haben, ist die aktuelle Ausbuchung der Parkplätze in der Stadt Zürich. Sie werden von der Stadt in einem RSS Feed abgeboten. Schauen wir uns den [Link einmal an](http://www.plszh.ch/plsFeed/rss). Nicht sehr lesbar, aber äusserst strukturiert. Lesen wir die Plätze aus."
   ]
  },
  {
   "cell_type": "code",
   "execution_count": 19,
   "metadata": {
    "collapsed": true
   },
   "outputs": [],
   "source": [
    "import requests"
   ]
  },
  {
   "cell_type": "code",
   "execution_count": 20,
   "metadata": {
    "collapsed": true
   },
   "outputs": [],
   "source": [
    "r = requests.get('http://www.plszh.ch/plsFeed/rss') #Besuchen wir die URL"
   ]
  },
  {
   "cell_type": "code",
   "execution_count": 21,
   "metadata": {},
   "outputs": [
    {
     "data": {
      "text/plain": [
       "37"
      ]
     },
     "execution_count": 21,
     "metadata": {},
     "output_type": "execute_result"
    }
   ],
   "source": [
    "contents = r.text #Wandeln wir den Text in ein Format um, mit dem BeautifulSoup umgehen kann.\n",
    "soup = BeautifulSoup(contents,'xml') #Geben wir das an BeautifulSoup weiter\n",
    "titles = soup.find_all('title') #Nun lesen wir Titel aus.\n",
    "len(titles) #Schauen wir, wie lange die Titel sind."
   ]
  },
  {
   "cell_type": "code",
   "execution_count": 22,
   "metadata": {},
   "outputs": [
    {
     "data": {
      "text/plain": [
       "<title>FEED Parkleitsystem Stadt Zürich</title>"
      ]
     },
     "execution_count": 22,
     "metadata": {},
     "output_type": "execute_result"
    }
   ],
   "source": [
    "titles[0] "
   ]
  },
  {
   "cell_type": "code",
   "execution_count": 23,
   "metadata": {},
   "outputs": [
    {
     "data": {
      "text/plain": [
       "<title>Parkgarage am Central / Seilergraben</title>"
      ]
     },
     "execution_count": 23,
     "metadata": {},
     "output_type": "execute_result"
    }
   ],
   "source": [
    "titles[1]"
   ]
  },
  {
   "cell_type": "code",
   "execution_count": 24,
   "metadata": {},
   "outputs": [
    {
     "data": {
      "text/plain": [
       "'Parkgarage am Central / Seilergraben'"
      ]
     },
     "execution_count": 24,
     "metadata": {},
     "output_type": "execute_result"
    }
   ],
   "source": [
    "titles[1].text"
   ]
  },
  {
   "cell_type": "code",
   "execution_count": 25,
   "metadata": {},
   "outputs": [
    {
     "data": {
      "text/plain": [
       "<description>open /   37</description>"
      ]
     },
     "execution_count": 25,
     "metadata": {},
     "output_type": "execute_result"
    }
   ],
   "source": [
    "descr = soup.find_all('description')\n",
    "descr[1]"
   ]
  },
  {
   "cell_type": "code",
   "execution_count": 32,
   "metadata": {},
   "outputs": [],
   "source": [
    "#Bauen wir die eigene Liste\n",
    "lst = []\n",
    "for garage,b in zip(titles,descr):\n",
    "    \n",
    "    mini_dict = {'Parkgarage':garage.text,\n",
    "                 'Descr':b.text}\n",
    "    \n",
    "    lst.append(mini_dict)"
   ]
  },
  {
   "cell_type": "code",
   "execution_count": 33,
   "metadata": {},
   "outputs": [
    {
     "data": {
      "text/plain": [
       "[{'Descr': 'http://www.plszh.ch/plsFeed/rss?type=rss_0.92 | rss_0.93 | rss_0.94 | rss_1.0 | rss_2.0 (=default) | atom_0.3 | atom_1.0',\n",
       "  'Parkgarage': 'FEED Parkleitsystem Stadt Zürich'},\n",
       " {'Descr': 'open /   37',\n",
       "  'Parkgarage': 'Parkgarage am Central / Seilergraben'},\n",
       " {'Descr': 'open /  162', 'Parkgarage': 'Parkhaus Accu / Otto-Schütz-Weg'},\n",
       " {'Descr': 'open /   61',\n",
       "  'Parkgarage': 'Parkhaus Albisriederplatz / Badenerstrasse 380'},\n",
       " {'Descr': 'open /   74',\n",
       "  'Parkgarage': 'Parkhaus Bleicherweg / Beethovenstrasse 35'},\n",
       " {'Descr': 'open /  266',\n",
       "  'Parkgarage': 'Parkhaus Center Eleven / Sophie-Täuber-Strasse 4'},\n",
       " {'Descr': 'open /  197',\n",
       "  'Parkgarage': 'Parkhaus City Parking / Gessnerallee 14'},\n",
       " {'Descr': 'open /   71',\n",
       "  'Parkgarage': 'Parkhaus Cityport / Affolternstrasse 56'},\n",
       " {'Descr': 'open /  285',\n",
       "  'Parkgarage': 'Parkhaus Crowne Plaza / Badenerstrasse 420'},\n",
       " {'Descr': 'open /   41',\n",
       "  'Parkgarage': 'Parkhaus Dorflinde / Schwamendingenstrasse 31'},\n",
       " {'Descr': 'open /  108',\n",
       "  'Parkgarage': 'Parkhaus Feldegg / Riesbachstrasse 7'},\n",
       " {'Descr': 'open /  104', 'Parkgarage': 'Parkhaus Globus / Löwenstrasse 50'},\n",
       " {'Descr': 'open /  108',\n",
       "  'Parkgarage': 'Parkhaus Hardau II / Bullingerstrasse 73'},\n",
       " {'Descr': 'open /  132', 'Parkgarage': 'Parkhaus Hauptbahnhof / Sihlquai 41'},\n",
       " {'Descr': 'open /  379',\n",
       "  'Parkgarage': 'Parkhaus Hohe Promenade / Rämistrasse 22a'},\n",
       " {'Descr': 'open /  169',\n",
       "  'Parkgarage': 'Parkhaus Jelmoli / Steinmühleplatz 1'},\n",
       " {'Descr': 'open /  117',\n",
       "  'Parkgarage': 'Parkhaus Jungholz / Jungholzstrasse 19'},\n",
       " {'Descr': 'open /   70',\n",
       "  'Parkgarage': 'Parkhaus Max-Bill-Platz / Armin-Bollinger-Weg'},\n",
       " {'Descr': 'open /  999',\n",
       "  'Parkgarage': 'Parkhaus Messe Zürich AG / Andreasstrasse 65'},\n",
       " {'Descr': 'open /   61',\n",
       "  'Parkgarage': 'Parkhaus Nordhaus / Siewerdtstrasse 8'},\n",
       " {'Descr': 'open /   19',\n",
       "  'Parkgarage': 'Parkhaus Octavo / Brown-Boveri-Strasse 2'},\n",
       " {'Descr': 'open /  224', 'Parkgarage': 'Parkhaus Opéra / Schillerstrasse 5'},\n",
       " {'Descr': 'open /  347',\n",
       "  'Parkgarage': 'Parkhaus P West / Förrlibuckstrasse 151'},\n",
       " {'Descr': 'open /  187',\n",
       "  'Parkgarage': 'Parkhaus Park Hyatt / Beethovenstrasse 21'},\n",
       " {'Descr': 'open /    0',\n",
       "  'Parkgarage': 'Parkhaus Parkside / Sophie-Täuber-Strasse 10'},\n",
       " {'Descr': 'open /  141',\n",
       "  'Parkgarage': 'Parkhaus Pfingstweid / Pfingstweidstrasse 1'},\n",
       " {'Descr': 'open /  149',\n",
       "  'Parkgarage': 'Parkhaus Stampfenbach / Niklausstrasse 1'},\n",
       " {'Descr': 'open /   36',\n",
       "  'Parkgarage': 'Parkhaus Talgarten / Nüschelerstrasse 31'},\n",
       " {'Descr': 'open /   63',\n",
       "  'Parkgarage': 'Parkhaus USZ Nord / Frauenklinikstrasse'},\n",
       " {'Descr': '???? / ???',\n",
       "  'Parkgarage': 'Parkhaus Uni Irchel / Winterthurerstrasse 181'},\n",
       " {'Descr': 'open /  295', 'Parkgarage': 'Parkhaus Urania / Uraniastrasse 3'},\n",
       " {'Descr': 'open /   40', 'Parkgarage': 'Parkhaus Utoquai / Färberstrasse 6'},\n",
       " {'Descr': 'open /   40',\n",
       "  'Parkgarage': 'Parkhaus Züri 11 Shopping / Nansenstrasse 5/7'},\n",
       " {'Descr': 'open /   60',\n",
       "  'Parkgarage': 'Parkhaus Zürichhorn / Dufourstrasse 142'},\n",
       " {'Descr': 'open /    6',\n",
       "  'Parkgarage': 'Parkplatz Eisfeld / Thurgauerstrasse 54'},\n",
       " {'Descr': 'open /  150',\n",
       "  'Parkgarage': 'Parkplatz Theater 11 / Dörfli-/Thurgauerstrasse'},\n",
       " {'Descr': 'open /   10', 'Parkgarage': 'Parkplatz USZ Süd / Gloriastrasse'}]"
      ]
     },
     "execution_count": 33,
     "metadata": {},
     "output_type": "execute_result"
    }
   ],
   "source": [
    "lst"
   ]
  },
  {
   "cell_type": "code",
   "execution_count": 34,
   "metadata": {},
   "outputs": [
    {
     "data": {
      "text/html": [
       "<div>\n",
       "<style scoped>\n",
       "    .dataframe tbody tr th:only-of-type {\n",
       "        vertical-align: middle;\n",
       "    }\n",
       "\n",
       "    .dataframe tbody tr th {\n",
       "        vertical-align: top;\n",
       "    }\n",
       "\n",
       "    .dataframe thead th {\n",
       "        text-align: right;\n",
       "    }\n",
       "</style>\n",
       "<table border=\"1\" class=\"dataframe\">\n",
       "  <thead>\n",
       "    <tr style=\"text-align: right;\">\n",
       "      <th></th>\n",
       "      <th>Descr</th>\n",
       "      <th>Parkgarage</th>\n",
       "    </tr>\n",
       "  </thead>\n",
       "  <tbody>\n",
       "    <tr>\n",
       "      <th>0</th>\n",
       "      <td>http://www.plszh.ch/plsFeed/rss?type=rss_0.92 ...</td>\n",
       "      <td>FEED Parkleitsystem Stadt Zürich</td>\n",
       "    </tr>\n",
       "    <tr>\n",
       "      <th>1</th>\n",
       "      <td>open /   37</td>\n",
       "      <td>Parkgarage am Central / Seilergraben</td>\n",
       "    </tr>\n",
       "    <tr>\n",
       "      <th>2</th>\n",
       "      <td>open /  162</td>\n",
       "      <td>Parkhaus Accu / Otto-Schütz-Weg</td>\n",
       "    </tr>\n",
       "    <tr>\n",
       "      <th>3</th>\n",
       "      <td>open /   61</td>\n",
       "      <td>Parkhaus Albisriederplatz / Badenerstrasse 380</td>\n",
       "    </tr>\n",
       "    <tr>\n",
       "      <th>4</th>\n",
       "      <td>open /   74</td>\n",
       "      <td>Parkhaus Bleicherweg / Beethovenstrasse 35</td>\n",
       "    </tr>\n",
       "  </tbody>\n",
       "</table>\n",
       "</div>"
      ],
      "text/plain": [
       "                                               Descr  \\\n",
       "0  http://www.plszh.ch/plsFeed/rss?type=rss_0.92 ...   \n",
       "1                                        open /   37   \n",
       "2                                        open /  162   \n",
       "3                                        open /   61   \n",
       "4                                        open /   74   \n",
       "\n",
       "                                       Parkgarage  \n",
       "0                FEED Parkleitsystem Stadt Zürich  \n",
       "1            Parkgarage am Central / Seilergraben  \n",
       "2                 Parkhaus Accu / Otto-Schütz-Weg  \n",
       "3  Parkhaus Albisriederplatz / Badenerstrasse 380  \n",
       "4      Parkhaus Bleicherweg / Beethovenstrasse 35  "
      ]
     },
     "execution_count": 34,
     "metadata": {},
     "output_type": "execute_result"
    }
   ],
   "source": [
    "pd.DataFrame(lst).head()"
   ]
  },
  {
   "cell_type": "code",
   "execution_count": 35,
   "metadata": {},
   "outputs": [
    {
     "data": {
      "text/html": [
       "<div>\n",
       "<style scoped>\n",
       "    .dataframe tbody tr th:only-of-type {\n",
       "        vertical-align: middle;\n",
       "    }\n",
       "\n",
       "    .dataframe tbody tr th {\n",
       "        vertical-align: top;\n",
       "    }\n",
       "\n",
       "    .dataframe thead th {\n",
       "        text-align: right;\n",
       "    }\n",
       "</style>\n",
       "<table border=\"1\" class=\"dataframe\">\n",
       "  <thead>\n",
       "    <tr style=\"text-align: right;\">\n",
       "      <th></th>\n",
       "      <th>Descr</th>\n",
       "      <th>Parkgarage</th>\n",
       "    </tr>\n",
       "  </thead>\n",
       "  <tbody>\n",
       "    <tr>\n",
       "      <th>1</th>\n",
       "      <td>open /   37</td>\n",
       "      <td>Parkgarage am Central / Seilergraben</td>\n",
       "    </tr>\n",
       "    <tr>\n",
       "      <th>2</th>\n",
       "      <td>open /  162</td>\n",
       "      <td>Parkhaus Accu / Otto-Schütz-Weg</td>\n",
       "    </tr>\n",
       "    <tr>\n",
       "      <th>3</th>\n",
       "      <td>open /   61</td>\n",
       "      <td>Parkhaus Albisriederplatz / Badenerstrasse 380</td>\n",
       "    </tr>\n",
       "    <tr>\n",
       "      <th>4</th>\n",
       "      <td>open /   74</td>\n",
       "      <td>Parkhaus Bleicherweg / Beethovenstrasse 35</td>\n",
       "    </tr>\n",
       "    <tr>\n",
       "      <th>5</th>\n",
       "      <td>open /  266</td>\n",
       "      <td>Parkhaus Center Eleven / Sophie-Täuber-Strasse 4</td>\n",
       "    </tr>\n",
       "    <tr>\n",
       "      <th>6</th>\n",
       "      <td>open /  197</td>\n",
       "      <td>Parkhaus City Parking / Gessnerallee 14</td>\n",
       "    </tr>\n",
       "    <tr>\n",
       "      <th>7</th>\n",
       "      <td>open /   71</td>\n",
       "      <td>Parkhaus Cityport / Affolternstrasse 56</td>\n",
       "    </tr>\n",
       "    <tr>\n",
       "      <th>8</th>\n",
       "      <td>open /  285</td>\n",
       "      <td>Parkhaus Crowne Plaza / Badenerstrasse 420</td>\n",
       "    </tr>\n",
       "    <tr>\n",
       "      <th>9</th>\n",
       "      <td>open /   41</td>\n",
       "      <td>Parkhaus Dorflinde / Schwamendingenstrasse 31</td>\n",
       "    </tr>\n",
       "    <tr>\n",
       "      <th>10</th>\n",
       "      <td>open /  108</td>\n",
       "      <td>Parkhaus Feldegg / Riesbachstrasse 7</td>\n",
       "    </tr>\n",
       "    <tr>\n",
       "      <th>11</th>\n",
       "      <td>open /  104</td>\n",
       "      <td>Parkhaus Globus / Löwenstrasse 50</td>\n",
       "    </tr>\n",
       "    <tr>\n",
       "      <th>12</th>\n",
       "      <td>open /  108</td>\n",
       "      <td>Parkhaus Hardau II / Bullingerstrasse 73</td>\n",
       "    </tr>\n",
       "    <tr>\n",
       "      <th>13</th>\n",
       "      <td>open /  132</td>\n",
       "      <td>Parkhaus Hauptbahnhof / Sihlquai 41</td>\n",
       "    </tr>\n",
       "    <tr>\n",
       "      <th>14</th>\n",
       "      <td>open /  379</td>\n",
       "      <td>Parkhaus Hohe Promenade / Rämistrasse 22a</td>\n",
       "    </tr>\n",
       "    <tr>\n",
       "      <th>15</th>\n",
       "      <td>open /  169</td>\n",
       "      <td>Parkhaus Jelmoli / Steinmühleplatz 1</td>\n",
       "    </tr>\n",
       "    <tr>\n",
       "      <th>16</th>\n",
       "      <td>open /  117</td>\n",
       "      <td>Parkhaus Jungholz / Jungholzstrasse 19</td>\n",
       "    </tr>\n",
       "    <tr>\n",
       "      <th>17</th>\n",
       "      <td>open /   70</td>\n",
       "      <td>Parkhaus Max-Bill-Platz / Armin-Bollinger-Weg</td>\n",
       "    </tr>\n",
       "    <tr>\n",
       "      <th>18</th>\n",
       "      <td>open /  999</td>\n",
       "      <td>Parkhaus Messe Zürich AG / Andreasstrasse 65</td>\n",
       "    </tr>\n",
       "    <tr>\n",
       "      <th>19</th>\n",
       "      <td>open /   61</td>\n",
       "      <td>Parkhaus Nordhaus / Siewerdtstrasse 8</td>\n",
       "    </tr>\n",
       "    <tr>\n",
       "      <th>20</th>\n",
       "      <td>open /   19</td>\n",
       "      <td>Parkhaus Octavo / Brown-Boveri-Strasse 2</td>\n",
       "    </tr>\n",
       "    <tr>\n",
       "      <th>21</th>\n",
       "      <td>open /  224</td>\n",
       "      <td>Parkhaus Opéra / Schillerstrasse 5</td>\n",
       "    </tr>\n",
       "    <tr>\n",
       "      <th>22</th>\n",
       "      <td>open /  347</td>\n",
       "      <td>Parkhaus P West / Förrlibuckstrasse 151</td>\n",
       "    </tr>\n",
       "    <tr>\n",
       "      <th>23</th>\n",
       "      <td>open /  187</td>\n",
       "      <td>Parkhaus Park Hyatt / Beethovenstrasse 21</td>\n",
       "    </tr>\n",
       "    <tr>\n",
       "      <th>24</th>\n",
       "      <td>open /    0</td>\n",
       "      <td>Parkhaus Parkside / Sophie-Täuber-Strasse 10</td>\n",
       "    </tr>\n",
       "    <tr>\n",
       "      <th>25</th>\n",
       "      <td>open /  141</td>\n",
       "      <td>Parkhaus Pfingstweid / Pfingstweidstrasse 1</td>\n",
       "    </tr>\n",
       "    <tr>\n",
       "      <th>26</th>\n",
       "      <td>open /  149</td>\n",
       "      <td>Parkhaus Stampfenbach / Niklausstrasse 1</td>\n",
       "    </tr>\n",
       "    <tr>\n",
       "      <th>27</th>\n",
       "      <td>open /   36</td>\n",
       "      <td>Parkhaus Talgarten / Nüschelerstrasse 31</td>\n",
       "    </tr>\n",
       "    <tr>\n",
       "      <th>28</th>\n",
       "      <td>open /   63</td>\n",
       "      <td>Parkhaus USZ Nord / Frauenklinikstrasse</td>\n",
       "    </tr>\n",
       "    <tr>\n",
       "      <th>29</th>\n",
       "      <td>???? / ???</td>\n",
       "      <td>Parkhaus Uni Irchel / Winterthurerstrasse 181</td>\n",
       "    </tr>\n",
       "    <tr>\n",
       "      <th>30</th>\n",
       "      <td>open /  295</td>\n",
       "      <td>Parkhaus Urania / Uraniastrasse 3</td>\n",
       "    </tr>\n",
       "    <tr>\n",
       "      <th>31</th>\n",
       "      <td>open /   40</td>\n",
       "      <td>Parkhaus Utoquai / Färberstrasse 6</td>\n",
       "    </tr>\n",
       "    <tr>\n",
       "      <th>32</th>\n",
       "      <td>open /   40</td>\n",
       "      <td>Parkhaus Züri 11 Shopping / Nansenstrasse 5/7</td>\n",
       "    </tr>\n",
       "    <tr>\n",
       "      <th>33</th>\n",
       "      <td>open /   60</td>\n",
       "      <td>Parkhaus Zürichhorn / Dufourstrasse 142</td>\n",
       "    </tr>\n",
       "    <tr>\n",
       "      <th>34</th>\n",
       "      <td>open /    6</td>\n",
       "      <td>Parkplatz Eisfeld / Thurgauerstrasse 54</td>\n",
       "    </tr>\n",
       "    <tr>\n",
       "      <th>35</th>\n",
       "      <td>open /  150</td>\n",
       "      <td>Parkplatz Theater 11 / Dörfli-/Thurgauerstrasse</td>\n",
       "    </tr>\n",
       "    <tr>\n",
       "      <th>36</th>\n",
       "      <td>open /   10</td>\n",
       "      <td>Parkplatz USZ Süd / Gloriastrasse</td>\n",
       "    </tr>\n",
       "  </tbody>\n",
       "</table>\n",
       "</div>"
      ],
      "text/plain": [
       "          Descr                                        Parkgarage\n",
       "1   open /   37              Parkgarage am Central / Seilergraben\n",
       "2   open /  162                   Parkhaus Accu / Otto-Schütz-Weg\n",
       "3   open /   61    Parkhaus Albisriederplatz / Badenerstrasse 380\n",
       "4   open /   74        Parkhaus Bleicherweg / Beethovenstrasse 35\n",
       "5   open /  266  Parkhaus Center Eleven / Sophie-Täuber-Strasse 4\n",
       "6   open /  197           Parkhaus City Parking / Gessnerallee 14\n",
       "7   open /   71           Parkhaus Cityport / Affolternstrasse 56\n",
       "8   open /  285        Parkhaus Crowne Plaza / Badenerstrasse 420\n",
       "9   open /   41     Parkhaus Dorflinde / Schwamendingenstrasse 31\n",
       "10  open /  108              Parkhaus Feldegg / Riesbachstrasse 7\n",
       "11  open /  104                 Parkhaus Globus / Löwenstrasse 50\n",
       "12  open /  108          Parkhaus Hardau II / Bullingerstrasse 73\n",
       "13  open /  132               Parkhaus Hauptbahnhof / Sihlquai 41\n",
       "14  open /  379         Parkhaus Hohe Promenade / Rämistrasse 22a\n",
       "15  open /  169              Parkhaus Jelmoli / Steinmühleplatz 1\n",
       "16  open /  117            Parkhaus Jungholz / Jungholzstrasse 19\n",
       "17  open /   70     Parkhaus Max-Bill-Platz / Armin-Bollinger-Weg\n",
       "18  open /  999      Parkhaus Messe Zürich AG / Andreasstrasse 65\n",
       "19  open /   61             Parkhaus Nordhaus / Siewerdtstrasse 8\n",
       "20  open /   19          Parkhaus Octavo / Brown-Boveri-Strasse 2\n",
       "21  open /  224                Parkhaus Opéra / Schillerstrasse 5\n",
       "22  open /  347           Parkhaus P West / Förrlibuckstrasse 151\n",
       "23  open /  187         Parkhaus Park Hyatt / Beethovenstrasse 21\n",
       "24  open /    0      Parkhaus Parkside / Sophie-Täuber-Strasse 10\n",
       "25  open /  141       Parkhaus Pfingstweid / Pfingstweidstrasse 1\n",
       "26  open /  149          Parkhaus Stampfenbach / Niklausstrasse 1\n",
       "27  open /   36          Parkhaus Talgarten / Nüschelerstrasse 31\n",
       "28  open /   63           Parkhaus USZ Nord / Frauenklinikstrasse\n",
       "29   ???? / ???     Parkhaus Uni Irchel / Winterthurerstrasse 181\n",
       "30  open /  295                 Parkhaus Urania / Uraniastrasse 3\n",
       "31  open /   40                Parkhaus Utoquai / Färberstrasse 6\n",
       "32  open /   40     Parkhaus Züri 11 Shopping / Nansenstrasse 5/7\n",
       "33  open /   60           Parkhaus Zürichhorn / Dufourstrasse 142\n",
       "34  open /    6           Parkplatz Eisfeld / Thurgauerstrasse 54\n",
       "35  open /  150   Parkplatz Theater 11 / Dörfli-/Thurgauerstrasse\n",
       "36  open /   10                 Parkplatz USZ Süd / Gloriastrasse"
      ]
     },
     "execution_count": 35,
     "metadata": {},
     "output_type": "execute_result"
    }
   ],
   "source": [
    "pd.DataFrame(lst)[1:]"
   ]
  },
  {
   "cell_type": "markdown",
   "metadata": {},
   "source": [
    "# Gehen wir zur [Übung 3](https://github.com/MAZ-CAS-DDJ/kurs_18_19/blob/master/06%20APIs%2C%20Scraping%20I/%C3%9Cbung3.ipynb)"
   ]
  },
  {
   "cell_type": "markdown",
   "metadata": {},
   "source": [
    "# Komplexere Websites"
   ]
  },
  {
   "cell_type": "code",
   "execution_count": 36,
   "metadata": {},
   "outputs": [],
   "source": [
    "#laden wir die Frontpage von Watson\n",
    "r = requests.get('https://www.watson.ch')\n",
    "contents = r.text #Wir lesen den Inhalt aus\n",
    "soup = BeautifulSoup(contents,'xml')"
   ]
  },
  {
   "cell_type": "code",
   "execution_count": 37,
   "metadata": {
    "collapsed": true
   },
   "outputs": [],
   "source": [
    "#Ziehen wir die Titel raus\n",
    "titelliste = soup.find_all('a')"
   ]
  },
  {
   "cell_type": "code",
   "execution_count": 42,
   "metadata": {},
   "outputs": [
    {
     "data": {
      "text/plain": [
       "85"
      ]
     },
     "execution_count": 42,
     "metadata": {},
     "output_type": "execute_result"
    }
   ],
   "source": [
    "len(titelliste)"
   ]
  },
  {
   "cell_type": "code",
   "execution_count": 50,
   "metadata": {},
   "outputs": [],
   "source": [
    "#Ziehen wir alle Kommentare raus\n",
    "kommentare = soup.find_all('a', {'class':'standard comments'})"
   ]
  },
  {
   "cell_type": "code",
   "execution_count": 51,
   "metadata": {},
   "outputs": [
    {
     "data": {
      "text/plain": [
       "24"
      ]
     },
     "execution_count": 51,
     "metadata": {},
     "output_type": "execute_result"
    }
   ],
   "source": [
    "len(kommentare)"
   ]
  },
  {
   "cell_type": "markdown",
   "metadata": {
    "collapsed": true
   },
   "source": [
    "Hier sehen wir, dass also nicht immer dieselbe Anzahl Kommentare und Artikel herausgelesen werden kann. Nicht jeder Artikel hat einen Kommentar. Wir müssen deshalb unseren Code anpassen."
   ]
  },
  {
   "cell_type": "code",
   "execution_count": 54,
   "metadata": {
    "collapsed": true
   },
   "outputs": [],
   "source": [
    "storybox = soup.find_all('div', {'class':'text'})"
   ]
  },
  {
   "cell_type": "code",
   "execution_count": 56,
   "metadata": {},
   "outputs": [
    {
     "data": {
      "text/plain": [
       "85"
      ]
     },
     "execution_count": 56,
     "metadata": {},
     "output_type": "execute_result"
    }
   ],
   "source": [
    "len(storybox)"
   ]
  },
  {
   "cell_type": "code",
   "execution_count": 58,
   "metadata": {},
   "outputs": [
    {
     "data": {
      "text/plain": [
       "<div class=\"text\">\n",
       "    Wir verwenden Cookies und Analysetools, um die Nutzerfreundlichkeit der Internetseite zu verbessern und passende Werbung von watson und unseren Werbepartnern anzuzeigen.\n",
       "    Weitere Infos findest Du in unserer <a href=\"/u/agb\">Datenschutzerklärung</a>.\n",
       "    </div>"
      ]
     },
     "execution_count": 58,
     "metadata": {},
     "output_type": "execute_result"
    }
   ],
   "source": [
    "storybox[0]"
   ]
  },
  {
   "cell_type": "code",
   "execution_count": 71,
   "metadata": {},
   "outputs": [
    {
     "data": {
      "text/plain": [
       "<div class=\"text\">\n",
       "<h2><a href=\"/sport/fussball/972127024--unerwuenscht-und-ausgemustert-sfv-verliert-kontrolle-reaktionen-zum-behrami-rauswurf\">«Unerwünscht und ausgemustert – SFV verliert Kontrolle»: Reaktionen zum Behrami-Rauswurf</a></h2>\n",
       "<!-- iconrow ==> -->\n",
       "<div class=\"iconrow\">\n",
       "<!-- media icons ==> -->\n",
       "<div class=\"media_icons\">\n",
       "<!-- comments ==> -->\n",
       "<a class=\"standard comments\" href=\"#comments\">\n",
       "<span>4</span>\n",
       "</a>\n",
       "<!-- <== comments -->\n",
       "</div>\n",
       "<!-- <== media icons -->\n",
       "</div>\n",
       "<!-- <== iconrow -->\n",
       "</div>"
      ]
     },
     "execution_count": 71,
     "metadata": {},
     "output_type": "execute_result"
    }
   ],
   "source": [
    "storybox[2]"
   ]
  },
  {
   "cell_type": "code",
   "execution_count": 72,
   "metadata": {},
   "outputs": [
    {
     "data": {
      "text/plain": [
       "'«Unerwünscht und ausgemustert – SFV verliert Kontrolle»: Reaktionen zum Behrami-Rauswurf'"
      ]
     },
     "execution_count": 72,
     "metadata": {},
     "output_type": "execute_result"
    }
   ],
   "source": [
    "storybox[2].find('h2').text  "
   ]
  },
  {
   "cell_type": "code",
   "execution_count": 75,
   "metadata": {},
   "outputs": [
    {
     "data": {
      "text/plain": [
       "'4'"
      ]
     },
     "execution_count": 75,
     "metadata": {},
     "output_type": "execute_result"
    }
   ],
   "source": [
    "storybox[2].find('a', {'class':'standard comments'}).text.replace(\"\\n\", \"\")"
   ]
  },
  {
   "cell_type": "code",
   "execution_count": 76,
   "metadata": {},
   "outputs": [
    {
     "ename": "AttributeError",
     "evalue": "'NoneType' object has no attribute 'text'",
     "output_type": "error",
     "traceback": [
      "\u001b[0;31m---------------------------------------------------------------------------\u001b[0m",
      "\u001b[0;31mAttributeError\u001b[0m                            Traceback (most recent call last)",
      "\u001b[0;32m<ipython-input-76-6b4fcf56bbb5>\u001b[0m in \u001b[0;36m<module>\u001b[0;34m()\u001b[0m\n\u001b[1;32m      1\u001b[0m \u001b[0mlst\u001b[0m \u001b[0;34m=\u001b[0m \u001b[0;34m[\u001b[0m\u001b[0;34m]\u001b[0m\u001b[0;34m\u001b[0m\u001b[0m\n\u001b[1;32m      2\u001b[0m \u001b[0;32mfor\u001b[0m \u001b[0melem\u001b[0m \u001b[0;32min\u001b[0m \u001b[0mstorybox\u001b[0m\u001b[0;34m:\u001b[0m\u001b[0;34m\u001b[0m\u001b[0m\n\u001b[0;32m----> 3\u001b[0;31m     \u001b[0mt\u001b[0m \u001b[0;34m=\u001b[0m \u001b[0melem\u001b[0m\u001b[0;34m.\u001b[0m\u001b[0mfind\u001b[0m\u001b[0;34m(\u001b[0m\u001b[0;34m'h2'\u001b[0m\u001b[0;34m)\u001b[0m\u001b[0;34m.\u001b[0m\u001b[0mtext\u001b[0m\u001b[0;34m\u001b[0m\u001b[0m\n\u001b[0m\u001b[1;32m      4\u001b[0m     \u001b[0mk\u001b[0m \u001b[0;34m=\u001b[0m \u001b[0melem\u001b[0m\u001b[0;34m.\u001b[0m\u001b[0mfind\u001b[0m\u001b[0;34m(\u001b[0m\u001b[0;34m'a'\u001b[0m\u001b[0;34m,\u001b[0m \u001b[0;34m{\u001b[0m\u001b[0;34m'class'\u001b[0m\u001b[0;34m:\u001b[0m\u001b[0;34m'standard comments'\u001b[0m\u001b[0;34m}\u001b[0m\u001b[0;34m)\u001b[0m\u001b[0;34m.\u001b[0m\u001b[0mtext\u001b[0m\u001b[0;34m.\u001b[0m\u001b[0mreplace\u001b[0m\u001b[0;34m(\u001b[0m\u001b[0;34m\"\\n\"\u001b[0m\u001b[0;34m,\u001b[0m \u001b[0;34m\"\"\u001b[0m\u001b[0;34m)\u001b[0m\u001b[0;34m\u001b[0m\u001b[0m\n\u001b[1;32m      5\u001b[0m \u001b[0;34m\u001b[0m\u001b[0m\n",
      "\u001b[0;31mAttributeError\u001b[0m: 'NoneType' object has no attribute 'text'"
     ]
    }
   ],
   "source": [
    "lst = []\n",
    "for elem in storybox:\n",
    "    t = elem.find('h2').text\n",
    "    k = elem.find('a', {'class':'standard comments'}).text.replace(\"\\n\", \"\")\n",
    "    \n",
    "    mini_dict = {'Titel': t,\n",
    "                 'Kommentar': k}\n",
    "    \n",
    "    lst.append(mini_dict)"
   ]
  },
  {
   "cell_type": "code",
   "execution_count": 79,
   "metadata": {
    "collapsed": true
   },
   "outputs": [],
   "source": [
    "lst = []\n",
    "for elem in storybox:\n",
    "    \n",
    "    try: #Hier kannn man mit Fehlern umgehen. Man muss allerdings spärlcih damit umgehen. \n",
    "        t = elem.find('h2').text\n",
    "    except:\n",
    "        t = 'Kein Titel'\n",
    "    \n",
    "    try:\n",
    "        k = elem.find('a', {'class':'standard comments'}).text.replace(\"\\n\", \"\")\n",
    "    except:\n",
    "        k = 'Keine Kommentare'\n",
    "    \n",
    "    mini_dict = {'Titel': t,\n",
    "                 'Kommentar': k}\n",
    "    \n",
    "    lst.append(mini_dict)"
   ]
  },
  {
   "cell_type": "code",
   "execution_count": 80,
   "metadata": {},
   "outputs": [
    {
     "data": {
      "text/html": [
       "<div>\n",
       "<style scoped>\n",
       "    .dataframe tbody tr th:only-of-type {\n",
       "        vertical-align: middle;\n",
       "    }\n",
       "\n",
       "    .dataframe tbody tr th {\n",
       "        vertical-align: top;\n",
       "    }\n",
       "\n",
       "    .dataframe thead th {\n",
       "        text-align: right;\n",
       "    }\n",
       "</style>\n",
       "<table border=\"1\" class=\"dataframe\">\n",
       "  <thead>\n",
       "    <tr style=\"text-align: right;\">\n",
       "      <th></th>\n",
       "      <th>Kommentar</th>\n",
       "      <th>Titel</th>\n",
       "    </tr>\n",
       "  </thead>\n",
       "  <tbody>\n",
       "    <tr>\n",
       "      <th>0</th>\n",
       "      <td>Keine Kommentare</td>\n",
       "      <td>Kein Titel</td>\n",
       "    </tr>\n",
       "    <tr>\n",
       "      <th>1</th>\n",
       "      <td>Keine Kommentare</td>\n",
       "      <td>Petkovic provoziert den Neustart – was der ges...</td>\n",
       "    </tr>\n",
       "    <tr>\n",
       "      <th>2</th>\n",
       "      <td>4</td>\n",
       "      <td>«Unerwünscht und ausgemustert – SFV verliert K...</td>\n",
       "    </tr>\n",
       "    <tr>\n",
       "      <th>3</th>\n",
       "      <td>14</td>\n",
       "      <td>«Das tut weh»: Behramis 7 wichtigste Aussagen ...</td>\n",
       "    </tr>\n",
       "    <tr>\n",
       "      <th>4</th>\n",
       "      <td>Keine Kommentare</td>\n",
       "      <td>12 Grad kälter in 20 Minuten – nach Gewittern ...</td>\n",
       "    </tr>\n",
       "    <tr>\n",
       "      <th>5</th>\n",
       "      <td>3</td>\n",
       "      <td>18 lustige Fails, die dich alles um dich herum...</td>\n",
       "    </tr>\n",
       "    <tr>\n",
       "      <th>6</th>\n",
       "      <td>18</td>\n",
       "      <td>Leonardo Genoni verlässt den SCB – na und?</td>\n",
       "    </tr>\n",
       "    <tr>\n",
       "      <th>7</th>\n",
       "      <td>1</td>\n",
       "      <td>Diese Handys erhalten (ab sofort) das neue And...</td>\n",
       "    </tr>\n",
       "    <tr>\n",
       "      <th>8</th>\n",
       "      <td>Keine Kommentare</td>\n",
       "      <td>Die Weko prüft Übernahme der «Basler Zeitung» ...</td>\n",
       "    </tr>\n",
       "    <tr>\n",
       "      <th>9</th>\n",
       "      <td>Keine Kommentare</td>\n",
       "      <td>«Maximalen Druck auf mörderische Diktatur»: US...</td>\n",
       "    </tr>\n",
       "    <tr>\n",
       "      <th>10</th>\n",
       "      <td>1</td>\n",
       "      <td>20 Zitate von wichtigen Menschen, die du fürs ...</td>\n",
       "    </tr>\n",
       "    <tr>\n",
       "      <th>11</th>\n",
       "      <td>2</td>\n",
       "      <td>Frauen sind die besseren Ärzte – zumindest bei...</td>\n",
       "    </tr>\n",
       "    <tr>\n",
       "      <th>12</th>\n",
       "      <td>Keine Kommentare</td>\n",
       "      <td>\\nGrösste Waldbrände in der Geschichte Kalifor...</td>\n",
       "    </tr>\n",
       "    <tr>\n",
       "      <th>13</th>\n",
       "      <td>1</td>\n",
       "      <td>\\nSwissair-Legende Beatrice Tschanz: «Die Ju-A...</td>\n",
       "    </tr>\n",
       "    <tr>\n",
       "      <th>14</th>\n",
       "      <td>Keine Kommentare</td>\n",
       "      <td>\\nGewaltiger Erdrutsch am Mont-Blanc fordert e...</td>\n",
       "    </tr>\n",
       "    <tr>\n",
       "      <th>15</th>\n",
       "      <td>1</td>\n",
       "      <td>\\n«Keine trojanische Pferde»: Bald soll Schlus...</td>\n",
       "    </tr>\n",
       "    <tr>\n",
       "      <th>16</th>\n",
       "      <td>7</td>\n",
       "      <td>\\nWegen dieser Nachricht werden «Star Trek»-Fa...</td>\n",
       "    </tr>\n",
       "    <tr>\n",
       "      <th>17</th>\n",
       "      <td>410</td>\n",
       "      <td>\\nYB-Shootingstar Lehmann zu West Ham +++ Dort...</td>\n",
       "    </tr>\n",
       "    <tr>\n",
       "      <th>18</th>\n",
       "      <td>36</td>\n",
       "      <td>Apple, Google und Co. dominieren alles: Sind I...</td>\n",
       "    </tr>\n",
       "    <tr>\n",
       "      <th>19</th>\n",
       "      <td>1</td>\n",
       "      <td>Diesen Mann kennen wir alle. Er verbrennt am l...</td>\n",
       "    </tr>\n",
       "    <tr>\n",
       "      <th>20</th>\n",
       "      <td>Keine Kommentare</td>\n",
       "      <td>André Bucher sprintet über 800 Meter unnachahm...</td>\n",
       "    </tr>\n",
       "    <tr>\n",
       "      <th>21</th>\n",
       "      <td>31</td>\n",
       "      <td>Die Erde ist bei Google Maps keine flache Sche...</td>\n",
       "    </tr>\n",
       "    <tr>\n",
       "      <th>22</th>\n",
       "      <td>9</td>\n",
       "      <td>Warum Flugzeuge abstürzen</td>\n",
       "    </tr>\n",
       "    <tr>\n",
       "      <th>23</th>\n",
       "      <td>Keine Kommentare</td>\n",
       "      <td>Im Bild</td>\n",
       "    </tr>\n",
       "    <tr>\n",
       "      <th>24</th>\n",
       "      <td>Keine Kommentare</td>\n",
       "      <td>Videos</td>\n",
       "    </tr>\n",
       "    <tr>\n",
       "      <th>25</th>\n",
       "      <td>Keine Kommentare</td>\n",
       "      <td>\\nSogar der Transportheli leidet unter der Hit...</td>\n",
       "    </tr>\n",
       "    <tr>\n",
       "      <th>26</th>\n",
       "      <td>Keine Kommentare</td>\n",
       "      <td>\\nRiesiger Feuerball am Himmel von Bologna \\n</td>\n",
       "    </tr>\n",
       "    <tr>\n",
       "      <th>27</th>\n",
       "      <td>Keine Kommentare</td>\n",
       "      <td>\\nKinder tanzen und singen als Therapie\\n</td>\n",
       "    </tr>\n",
       "    <tr>\n",
       "      <th>28</th>\n",
       "      <td>Keine Kommentare</td>\n",
       "      <td>\\nZahl der Toten nach Beben in Indonesien stei...</td>\n",
       "    </tr>\n",
       "    <tr>\n",
       "      <th>29</th>\n",
       "      <td>Keine Kommentare</td>\n",
       "      <td>\\nDie 4 schlimmsten Flugzeugabstürze und ihre ...</td>\n",
       "    </tr>\n",
       "    <tr>\n",
       "      <th>...</th>\n",
       "      <td>...</td>\n",
       "      <td>...</td>\n",
       "    </tr>\n",
       "    <tr>\n",
       "      <th>55</th>\n",
       "      <td>Keine Kommentare</td>\n",
       "      <td>Kein Sex für Geistliche – ein unsinniges Dogma</td>\n",
       "    </tr>\n",
       "    <tr>\n",
       "      <th>56</th>\n",
       "      <td>Keine Kommentare</td>\n",
       "      <td>6 eindrückliche Grafiken zu Flüchtlingen in Eu...</td>\n",
       "    </tr>\n",
       "    <tr>\n",
       "      <th>57</th>\n",
       "      <td>Keine Kommentare</td>\n",
       "      <td>Meistgeteilt</td>\n",
       "    </tr>\n",
       "    <tr>\n",
       "      <th>58</th>\n",
       "      <td>Keine Kommentare</td>\n",
       "      <td>Rentner hauen aus Altersheim ab, um ans «Wacke...</td>\n",
       "    </tr>\n",
       "    <tr>\n",
       "      <th>59</th>\n",
       "      <td>Keine Kommentare</td>\n",
       "      <td>Nico Elvedi fällt nach OP zwei Wochen aus +++ ...</td>\n",
       "    </tr>\n",
       "    <tr>\n",
       "      <th>60</th>\n",
       "      <td>Keine Kommentare</td>\n",
       "      <td>«Keine schönen Bilder» – schon über eine Tonne...</td>\n",
       "    </tr>\n",
       "    <tr>\n",
       "      <th>61</th>\n",
       "      <td>Keine Kommentare</td>\n",
       "      <td>Kevin Schläpfer: «Für meine Lebensqualität ist...</td>\n",
       "    </tr>\n",
       "    <tr>\n",
       "      <th>62</th>\n",
       "      <td>Keine Kommentare</td>\n",
       "      <td>Zu heiss! Die beste Armee der Welt lässt ihre ...</td>\n",
       "    </tr>\n",
       "    <tr>\n",
       "      <th>63</th>\n",
       "      <td>Keine Kommentare</td>\n",
       "      <td>Best of watson</td>\n",
       "    </tr>\n",
       "    <tr>\n",
       "      <th>64</th>\n",
       "      <td>8</td>\n",
       "      <td>Diese unfassbar schlechten WhatsApp-Witze von ...</td>\n",
       "    </tr>\n",
       "    <tr>\n",
       "      <th>65</th>\n",
       "      <td>38</td>\n",
       "      <td>Ja, die Wespen sind im Moment aggressiv – 4 Ti...</td>\n",
       "    </tr>\n",
       "    <tr>\n",
       "      <th>66</th>\n",
       "      <td>20</td>\n",
       "      <td>Ciao Cristiano! Das sind die 17 schönsten ital...</td>\n",
       "    </tr>\n",
       "    <tr>\n",
       "      <th>67</th>\n",
       "      <td>141</td>\n",
       "      <td>6 eindrückliche Grafiken zu Flüchtlingen in Eu...</td>\n",
       "    </tr>\n",
       "    <tr>\n",
       "      <th>68</th>\n",
       "      <td>Keine Kommentare</td>\n",
       "      <td>URS vergibt Gästelistenplätze für die erste Hi...</td>\n",
       "    </tr>\n",
       "    <tr>\n",
       "      <th>69</th>\n",
       "      <td>163</td>\n",
       "      <td>Athleticum wird verschwinden – so wie diese 7 ...</td>\n",
       "    </tr>\n",
       "    <tr>\n",
       "      <th>70</th>\n",
       "      <td>54</td>\n",
       "      <td>Jodler datet Vegetarierin – bei ihrer Bestellu...</td>\n",
       "    </tr>\n",
       "    <tr>\n",
       "      <th>71</th>\n",
       "      <td>98</td>\n",
       "      <td>Wild West in Schweizer Tattoo-Studios – brauch...</td>\n",
       "    </tr>\n",
       "    <tr>\n",
       "      <th>72</th>\n",
       "      <td>Keine Kommentare</td>\n",
       "      <td>Gewinne 4-Tagespässe für das Zürich Openair</td>\n",
       "    </tr>\n",
       "    <tr>\n",
       "      <th>73</th>\n",
       "      <td>Keine Kommentare</td>\n",
       "      <td>Letzte Nachrichten</td>\n",
       "    </tr>\n",
       "    <tr>\n",
       "      <th>74</th>\n",
       "      <td>Keine Kommentare</td>\n",
       "      <td>Galenica wächst im ersten Halbjahr weiter und ...</td>\n",
       "    </tr>\n",
       "    <tr>\n",
       "      <th>75</th>\n",
       "      <td>Keine Kommentare</td>\n",
       "      <td>Das Doppelspiel der SVP stösst an seine Grenzen</td>\n",
       "    </tr>\n",
       "    <tr>\n",
       "      <th>76</th>\n",
       "      <td>Keine Kommentare</td>\n",
       "      <td>Swissquote kauft luxemburgische Onlinebank</td>\n",
       "    </tr>\n",
       "    <tr>\n",
       "      <th>77</th>\n",
       "      <td>Keine Kommentare</td>\n",
       "      <td>Die Weko prüft Übernahme der «Basler Zeitung» ...</td>\n",
       "    </tr>\n",
       "    <tr>\n",
       "      <th>78</th>\n",
       "      <td>Keine Kommentare</td>\n",
       "      <td>12 Grad kälter in 20 Minuten – nach Gewittern ...</td>\n",
       "    </tr>\n",
       "    <tr>\n",
       "      <th>79</th>\n",
       "      <td>Keine Kommentare</td>\n",
       "      <td>Oerlikon wächst im verbliebenen Geschäft</td>\n",
       "    </tr>\n",
       "    <tr>\n",
       "      <th>80</th>\n",
       "      <td>Keine Kommentare</td>\n",
       "      <td>Aktuelle Themen</td>\n",
       "    </tr>\n",
       "    <tr>\n",
       "      <th>81</th>\n",
       "      <td>Keine Kommentare</td>\n",
       "      <td>Schweiz</td>\n",
       "    </tr>\n",
       "    <tr>\n",
       "      <th>82</th>\n",
       "      <td>226</td>\n",
       "      <td>Das Doppelspiel der SVP stösst an seine Grenzen</td>\n",
       "    </tr>\n",
       "    <tr>\n",
       "      <th>83</th>\n",
       "      <td>Keine Kommentare</td>\n",
       "      <td>Überflutete Strassen und Keller – heftiges Gew...</td>\n",
       "    </tr>\n",
       "    <tr>\n",
       "      <th>84</th>\n",
       "      <td>3</td>\n",
       "      <td>Auto rollt mitten in Stadt Bern fast bis zur A...</td>\n",
       "    </tr>\n",
       "  </tbody>\n",
       "</table>\n",
       "<p>85 rows × 2 columns</p>\n",
       "</div>"
      ],
      "text/plain": [
       "           Kommentar                                              Titel\n",
       "0   Keine Kommentare                                         Kein Titel\n",
       "1   Keine Kommentare  Petkovic provoziert den Neustart – was der ges...\n",
       "2                  4  «Unerwünscht und ausgemustert – SFV verliert K...\n",
       "3                 14  «Das tut weh»: Behramis 7 wichtigste Aussagen ...\n",
       "4   Keine Kommentare  12 Grad kälter in 20 Minuten – nach Gewittern ...\n",
       "5                  3  18 lustige Fails, die dich alles um dich herum...\n",
       "6                 18         Leonardo Genoni verlässt den SCB – na und?\n",
       "7                  1  Diese Handys erhalten (ab sofort) das neue And...\n",
       "8   Keine Kommentare  Die Weko prüft Übernahme der «Basler Zeitung» ...\n",
       "9   Keine Kommentare  «Maximalen Druck auf mörderische Diktatur»: US...\n",
       "10                 1  20 Zitate von wichtigen Menschen, die du fürs ...\n",
       "11                 2  Frauen sind die besseren Ärzte – zumindest bei...\n",
       "12  Keine Kommentare  \\nGrösste Waldbrände in der Geschichte Kalifor...\n",
       "13                 1  \\nSwissair-Legende Beatrice Tschanz: «Die Ju-A...\n",
       "14  Keine Kommentare  \\nGewaltiger Erdrutsch am Mont-Blanc fordert e...\n",
       "15                 1  \\n«Keine trojanische Pferde»: Bald soll Schlus...\n",
       "16                 7  \\nWegen dieser Nachricht werden «Star Trek»-Fa...\n",
       "17               410  \\nYB-Shootingstar Lehmann zu West Ham +++ Dort...\n",
       "18                36  Apple, Google und Co. dominieren alles: Sind I...\n",
       "19                 1  Diesen Mann kennen wir alle. Er verbrennt am l...\n",
       "20  Keine Kommentare  André Bucher sprintet über 800 Meter unnachahm...\n",
       "21                31  Die Erde ist bei Google Maps keine flache Sche...\n",
       "22                 9                          Warum Flugzeuge abstürzen\n",
       "23  Keine Kommentare                                            Im Bild\n",
       "24  Keine Kommentare                                             Videos\n",
       "25  Keine Kommentare  \\nSogar der Transportheli leidet unter der Hit...\n",
       "26  Keine Kommentare      \\nRiesiger Feuerball am Himmel von Bologna \\n\n",
       "27  Keine Kommentare          \\nKinder tanzen und singen als Therapie\\n\n",
       "28  Keine Kommentare  \\nZahl der Toten nach Beben in Indonesien stei...\n",
       "29  Keine Kommentare  \\nDie 4 schlimmsten Flugzeugabstürze und ihre ...\n",
       "..               ...                                                ...\n",
       "55  Keine Kommentare     Kein Sex für Geistliche – ein unsinniges Dogma\n",
       "56  Keine Kommentare  6 eindrückliche Grafiken zu Flüchtlingen in Eu...\n",
       "57  Keine Kommentare                                       Meistgeteilt\n",
       "58  Keine Kommentare  Rentner hauen aus Altersheim ab, um ans «Wacke...\n",
       "59  Keine Kommentare  Nico Elvedi fällt nach OP zwei Wochen aus +++ ...\n",
       "60  Keine Kommentare  «Keine schönen Bilder» – schon über eine Tonne...\n",
       "61  Keine Kommentare  Kevin Schläpfer: «Für meine Lebensqualität ist...\n",
       "62  Keine Kommentare  Zu heiss! Die beste Armee der Welt lässt ihre ...\n",
       "63  Keine Kommentare                                     Best of watson\n",
       "64                 8  Diese unfassbar schlechten WhatsApp-Witze von ...\n",
       "65                38  Ja, die Wespen sind im Moment aggressiv – 4 Ti...\n",
       "66                20  Ciao Cristiano! Das sind die 17 schönsten ital...\n",
       "67               141  6 eindrückliche Grafiken zu Flüchtlingen in Eu...\n",
       "68  Keine Kommentare  URS vergibt Gästelistenplätze für die erste Hi...\n",
       "69               163  Athleticum wird verschwinden – so wie diese 7 ...\n",
       "70                54  Jodler datet Vegetarierin – bei ihrer Bestellu...\n",
       "71                98  Wild West in Schweizer Tattoo-Studios – brauch...\n",
       "72  Keine Kommentare        Gewinne 4-Tagespässe für das Zürich Openair\n",
       "73  Keine Kommentare                                 Letzte Nachrichten\n",
       "74  Keine Kommentare  Galenica wächst im ersten Halbjahr weiter und ...\n",
       "75  Keine Kommentare    Das Doppelspiel der SVP stösst an seine Grenzen\n",
       "76  Keine Kommentare         Swissquote kauft luxemburgische Onlinebank\n",
       "77  Keine Kommentare  Die Weko prüft Übernahme der «Basler Zeitung» ...\n",
       "78  Keine Kommentare  12 Grad kälter in 20 Minuten – nach Gewittern ...\n",
       "79  Keine Kommentare           Oerlikon wächst im verbliebenen Geschäft\n",
       "80  Keine Kommentare                                    Aktuelle Themen\n",
       "81  Keine Kommentare                                            Schweiz\n",
       "82               226    Das Doppelspiel der SVP stösst an seine Grenzen\n",
       "83  Keine Kommentare  Überflutete Strassen und Keller – heftiges Gew...\n",
       "84                 3  Auto rollt mitten in Stadt Bern fast bis zur A...\n",
       "\n",
       "[85 rows x 2 columns]"
      ]
     },
     "execution_count": 80,
     "metadata": {},
     "output_type": "execute_result"
    }
   ],
   "source": [
    "pd.DataFrame(lst)"
   ]
  },
  {
   "cell_type": "markdown",
   "metadata": {},
   "source": [
    "# Als Übung: Mit Funktion dasselbe tun.\n",
    "Wenn man sehr ausführlichen Code entwickelt, ist es oft praktisch, mit Funktionen zu arbeiten. Hier ein Beispiel davon, die das aussehen könnte."
   ]
  },
  {
   "cell_type": "code",
   "execution_count": 81,
   "metadata": {
    "collapsed": true
   },
   "outputs": [],
   "source": [
    "def kommentarezählen(url):\n",
    "    \n",
    "    r = requests.get(url)\n",
    "    soup = BeautifulSoup(r.text,'xml')\n",
    "    storybox = soup.find_all('div', {'class':'text'})\n",
    "    \n",
    "    lst = []   \n",
    "    for elem in storybox:\n",
    "        try: #Hier kannn man mit Fehlern umgehen. Man muss allerdings spärlcih damit umgehen. \n",
    "            t = elem.find('h2').text\n",
    "        except:\n",
    "            t = 'Kein Titel'\n",
    "        try:\n",
    "            k = elem.find('a', {'class':'standard comments'}).text.replace(\"\\n\", \"\")\n",
    "        except:\n",
    "            k = 'Keine Kommentare'\n",
    "        mini_dict = {'Titel': t,\n",
    "                 'Kommentar': k}\n",
    "        lst.append(mini_dict)\n",
    "    \n",
    "    return pd.DataFrame(lst)"
   ]
  },
  {
   "cell_type": "code",
   "execution_count": 82,
   "metadata": {},
   "outputs": [
    {
     "data": {
      "text/html": [
       "<div>\n",
       "<style scoped>\n",
       "    .dataframe tbody tr th:only-of-type {\n",
       "        vertical-align: middle;\n",
       "    }\n",
       "\n",
       "    .dataframe tbody tr th {\n",
       "        vertical-align: top;\n",
       "    }\n",
       "\n",
       "    .dataframe thead th {\n",
       "        text-align: right;\n",
       "    }\n",
       "</style>\n",
       "<table border=\"1\" class=\"dataframe\">\n",
       "  <thead>\n",
       "    <tr style=\"text-align: right;\">\n",
       "      <th></th>\n",
       "      <th>Kommentar</th>\n",
       "      <th>Titel</th>\n",
       "    </tr>\n",
       "  </thead>\n",
       "  <tbody>\n",
       "    <tr>\n",
       "      <th>0</th>\n",
       "      <td>Keine Kommentare</td>\n",
       "      <td>Kein Titel</td>\n",
       "    </tr>\n",
       "    <tr>\n",
       "      <th>1</th>\n",
       "      <td>35</td>\n",
       "      <td>«In der Nati ist keiner so klug wie du» – offe...</td>\n",
       "    </tr>\n",
       "    <tr>\n",
       "      <th>2</th>\n",
       "      <td>13</td>\n",
       "      <td>Die Nati in der Verjüngungskur – so könnte das...</td>\n",
       "    </tr>\n",
       "    <tr>\n",
       "      <th>3</th>\n",
       "      <td>2</td>\n",
       "      <td>Gelson Fernandes tritt aus der Nati zurück: «E...</td>\n",
       "    </tr>\n",
       "    <tr>\n",
       "      <th>4</th>\n",
       "      <td>Keine Kommentare</td>\n",
       "      <td>So sieht das Lastwagen-Wrack im Gotthard-Tunne...</td>\n",
       "    </tr>\n",
       "    <tr>\n",
       "      <th>5</th>\n",
       "      <td>5</td>\n",
       "      <td>Kind vergewaltigt, erniedrigt, verkauft: Zwölf...</td>\n",
       "    </tr>\n",
       "    <tr>\n",
       "      <th>6</th>\n",
       "      <td>9</td>\n",
       "      <td>18 lustige Fails, die dich alles um dich herum...</td>\n",
       "    </tr>\n",
       "    <tr>\n",
       "      <th>7</th>\n",
       "      <td>Keine Kommentare</td>\n",
       "      <td>Das Tessin wollte die Burkas verbannen – betra...</td>\n",
       "    </tr>\n",
       "    <tr>\n",
       "      <th>8</th>\n",
       "      <td>4</td>\n",
       "      <td>12 Grad kälter in 20 Minuten – nach Gewittern ...</td>\n",
       "    </tr>\n",
       "    <tr>\n",
       "      <th>9</th>\n",
       "      <td>7</td>\n",
       "      <td>Diese Handys erhalten (ab sofort) das neue And...</td>\n",
       "    </tr>\n",
       "    <tr>\n",
       "      <th>10</th>\n",
       "      <td>2</td>\n",
       "      <td>Wegen diesen fiesen Memes? «Pu der Bär» kommt ...</td>\n",
       "    </tr>\n",
       "    <tr>\n",
       "      <th>11</th>\n",
       "      <td>7</td>\n",
       "      <td>20 Zitate von wichtigen Menschen, die du fürs ...</td>\n",
       "    </tr>\n",
       "    <tr>\n",
       "      <th>12</th>\n",
       "      <td>Keine Kommentare</td>\n",
       "      <td>\\nGewaltiger Erdrutsch am Mont-Blanc fordert z...</td>\n",
       "    </tr>\n",
       "    <tr>\n",
       "      <th>13</th>\n",
       "      <td>Keine Kommentare</td>\n",
       "      <td>\\nErneuter Stromausfall in Spreitenbach AG\\n</td>\n",
       "    </tr>\n",
       "    <tr>\n",
       "      <th>14</th>\n",
       "      <td>Keine Kommentare</td>\n",
       "      <td>\\nDrohne vermiest die Ferien des französischen...</td>\n",
       "    </tr>\n",
       "    <tr>\n",
       "      <th>15</th>\n",
       "      <td>13</td>\n",
       "      <td>\\n«Maximalen Druck auf mörderische Diktatur»: ...</td>\n",
       "    </tr>\n",
       "    <tr>\n",
       "      <th>16</th>\n",
       "      <td>1</td>\n",
       "      <td>\\nSwissair-Legende Beatrice Tschanz: «Die Ju-A...</td>\n",
       "    </tr>\n",
       "    <tr>\n",
       "      <th>17</th>\n",
       "      <td>Keine Kommentare</td>\n",
       "      <td>\\nDie Weko prüft Übernahme der «Basler Zeitung...</td>\n",
       "    </tr>\n",
       "    <tr>\n",
       "      <th>18</th>\n",
       "      <td>54</td>\n",
       "      <td>Leonardo Genoni verlässt den SCB – na und?</td>\n",
       "    </tr>\n",
       "    <tr>\n",
       "      <th>19</th>\n",
       "      <td>25</td>\n",
       "      <td>Petkovic provoziert den Neustart – was der ges...</td>\n",
       "    </tr>\n",
       "    <tr>\n",
       "      <th>20</th>\n",
       "      <td>25</td>\n",
       "      <td>«Unerwünscht und ausgemustert – SFV verliert K...</td>\n",
       "    </tr>\n",
       "    <tr>\n",
       "      <th>21</th>\n",
       "      <td>47</td>\n",
       "      <td>Die Erde ist bei Google Maps keine flache Sche...</td>\n",
       "    </tr>\n",
       "    <tr>\n",
       "      <th>22</th>\n",
       "      <td>Keine Kommentare</td>\n",
       "      <td>Milliardär Kroenke will alleiniger Besitzer vo...</td>\n",
       "    </tr>\n",
       "    <tr>\n",
       "      <th>23</th>\n",
       "      <td>12</td>\n",
       "      <td>Warum Flugzeuge abstürzen</td>\n",
       "    </tr>\n",
       "    <tr>\n",
       "      <th>24</th>\n",
       "      <td>Keine Kommentare</td>\n",
       "      <td>Im Bild</td>\n",
       "    </tr>\n",
       "  </tbody>\n",
       "</table>\n",
       "</div>"
      ],
      "text/plain": [
       "           Kommentar                                              Titel\n",
       "0   Keine Kommentare                                         Kein Titel\n",
       "1                 35  «In der Nati ist keiner so klug wie du» – offe...\n",
       "2                 13  Die Nati in der Verjüngungskur – so könnte das...\n",
       "3                  2  Gelson Fernandes tritt aus der Nati zurück: «E...\n",
       "4   Keine Kommentare  So sieht das Lastwagen-Wrack im Gotthard-Tunne...\n",
       "5                  5  Kind vergewaltigt, erniedrigt, verkauft: Zwölf...\n",
       "6                  9  18 lustige Fails, die dich alles um dich herum...\n",
       "7   Keine Kommentare  Das Tessin wollte die Burkas verbannen – betra...\n",
       "8                  4  12 Grad kälter in 20 Minuten – nach Gewittern ...\n",
       "9                  7  Diese Handys erhalten (ab sofort) das neue And...\n",
       "10                 2  Wegen diesen fiesen Memes? «Pu der Bär» kommt ...\n",
       "11                 7  20 Zitate von wichtigen Menschen, die du fürs ...\n",
       "12  Keine Kommentare  \\nGewaltiger Erdrutsch am Mont-Blanc fordert z...\n",
       "13  Keine Kommentare       \\nErneuter Stromausfall in Spreitenbach AG\\n\n",
       "14  Keine Kommentare  \\nDrohne vermiest die Ferien des französischen...\n",
       "15                13  \\n«Maximalen Druck auf mörderische Diktatur»: ...\n",
       "16                 1  \\nSwissair-Legende Beatrice Tschanz: «Die Ju-A...\n",
       "17  Keine Kommentare  \\nDie Weko prüft Übernahme der «Basler Zeitung...\n",
       "18                54         Leonardo Genoni verlässt den SCB – na und?\n",
       "19                25  Petkovic provoziert den Neustart – was der ges...\n",
       "20                25  «Unerwünscht und ausgemustert – SFV verliert K...\n",
       "21                47  Die Erde ist bei Google Maps keine flache Sche...\n",
       "22  Keine Kommentare  Milliardär Kroenke will alleiniger Besitzer vo...\n",
       "23                12                          Warum Flugzeuge abstürzen\n",
       "24  Keine Kommentare                                            Im Bild"
      ]
     },
     "execution_count": 82,
     "metadata": {},
     "output_type": "execute_result"
    }
   ],
   "source": [
    "kommentarezählen('https://www.watson.ch/')"
   ]
  },
  {
   "cell_type": "markdown",
   "metadata": {},
   "source": [
    "Das können wir natürlich auf der Kommandozeile auslösen. Speichern wir unsere Skript und wandeln wir ihn um. (Wir müssen noch dafür sorgen, dass er mit einem Parameter ausgestattet werden kann. Aber auch das lässt sich einfach googeln)."
   ]
  },
  {
   "cell_type": "markdown",
   "metadata": {},
   "source": [
    "# Nun üben wir das ein wenig"
   ]
  },
  {
   "cell_type": "code",
   "execution_count": null,
   "metadata": {
    "collapsed": true
   },
   "outputs": [],
   "source": []
  }
 ],
 "metadata": {
  "kernelspec": {
   "display_name": "Python 3",
   "language": "python",
   "name": "python3"
  },
  "language_info": {
   "codemirror_mode": {
    "name": "ipython",
    "version": 3
   },
   "file_extension": ".py",
   "mimetype": "text/x-python",
   "name": "python",
   "nbconvert_exporter": "python",
   "pygments_lexer": "ipython3",
   "version": "3.5.1"
  }
 },
 "nbformat": 4,
 "nbformat_minor": 2
}
