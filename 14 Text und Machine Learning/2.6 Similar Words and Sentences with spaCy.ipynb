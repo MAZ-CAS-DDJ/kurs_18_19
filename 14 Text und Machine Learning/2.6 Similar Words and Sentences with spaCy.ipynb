{
 "cells": [
  {
   "cell_type": "markdown",
   "metadata": {},
   "source": [
    "# Word and Sentence similarity with spaCy\n",
    "- Spacy ist ein machine learning natural language processing tool. \n",
    "- Aufgrund des Deep Learning Ansatzes ist es am weitesten von allen derzeitigen Tools fortgeschritten. \n",
    "- Allerdings erschliessen sich viele Funktionen für Laien nicht wirklich. \n",
    "- ```pip install --user spacy```\n",
    "- Deutsche Modelle runterladen:```pip install https://github.com/explosion/spacy-models/releases/download/de_core_news_sm-2.0.0/de_core_news_sm-2.0.0.tar.gz```\n",
    "- oder ```python -m spacy download de_core_news_sm```"
   ]
  },
  {
   "cell_type": "code",
   "execution_count": 19,
   "metadata": {},
   "outputs": [],
   "source": [
    "import spacy\n",
    "import de_core_news_sm\n",
    "nlp = de_core_news_sm.load()"
   ]
  },
  {
   "cell_type": "markdown",
   "metadata": {},
   "source": [
    "### Auf Satzebene"
   ]
  },
  {
   "cell_type": "code",
   "execution_count": 26,
   "metadata": {},
   "outputs": [],
   "source": [
    "satz1 = nlp(u\"Der Mann ging um die Ecke um zu Prüfen was mit der Ampelanlage kaputt war\")\n",
    "satz2 = nlp(u\"Es gab niemanden im Universum der Sauron besiegen konnte\")\n",
    "satz3 = nlp(u\"Es gibt in der Stadtverwaltung viele Strassen die kontrolliert werden müssen\")"
   ]
  },
  {
   "cell_type": "code",
   "execution_count": 27,
   "metadata": {},
   "outputs": [
    {
     "data": {
      "text/plain": [
       "0.524776088787739"
      ]
     },
     "execution_count": 27,
     "metadata": {},
     "output_type": "execute_result"
    }
   ],
   "source": [
    "satz1.similarity(satz2)"
   ]
  },
  {
   "cell_type": "code",
   "execution_count": 28,
   "metadata": {},
   "outputs": [
    {
     "data": {
      "text/plain": [
       "0.5063630092479013"
      ]
     },
     "execution_count": 28,
     "metadata": {},
     "output_type": "execute_result"
    }
   ],
   "source": [
    "satz1.similarity(satz3)"
   ]
  },
  {
   "cell_type": "code",
   "execution_count": 29,
   "metadata": {},
   "outputs": [
    {
     "data": {
      "text/plain": [
       "0.6957902201162163"
      ]
     },
     "execution_count": 29,
     "metadata": {},
     "output_type": "execute_result"
    }
   ],
   "source": [
    "satz2.similarity(satz3)"
   ]
  },
  {
   "cell_type": "markdown",
   "metadata": {},
   "source": [
    "### Auf Wörterebene"
   ]
  },
  {
   "cell_type": "code",
   "execution_count": 17,
   "metadata": {},
   "outputs": [],
   "source": [
    "tokens = nlp(u'Politiker Wirschaft Schwimmen')"
   ]
  },
  {
   "cell_type": "code",
   "execution_count": 18,
   "metadata": {},
   "outputs": [
    {
     "name": "stdout",
     "output_type": "stream",
     "text": [
      "(u'Politiker', u'Politiker', 1.0)\n",
      "(u'Politiker', u'Wirschaft', 0.61894166)\n",
      "(u'Politiker', u'Schwimmen', 0.40487176)\n",
      "(u'Wirschaft', u'Politiker', 0.61894166)\n",
      "(u'Wirschaft', u'Wirschaft', 1.0)\n",
      "(u'Wirschaft', u'Schwimmen', 0.53235483)\n",
      "(u'Schwimmen', u'Politiker', 0.40487176)\n",
      "(u'Schwimmen', u'Wirschaft', 0.53235483)\n",
      "(u'Schwimmen', u'Schwimmen', 1.0)\n"
     ]
    }
   ],
   "source": [
    "for token1 in tokens:\n",
    "    for token2 in tokens:\n",
    "        print(token1.text, token2.text, token1.similarity(token2))"
   ]
  },
  {
   "cell_type": "markdown",
   "metadata": {},
   "source": [
    "### Es gibt die Möglichkeit \"präziser\" zu werden indem wir eigene sog. Word embeddings benutzen, die auf crawls von wikipedia basieren.\n",
    "- https://fasttext.cc/docs/en/crawl-vectors.html\n",
    "- ```wget https://s3-us-west-1.amazonaws.com/fasttext-vectors/word-vectors-v2/cc.de.300.vec.gz```\n",
    "- ```python -m spacy init-model /tmp/de_vectors_web_lg --vectors-loc cc.de.300.vec.gz```\n",
    "```\n",
    "nlp = spacy.load('de')\n",
    "spacy.load('/tmp/de_vectors_web_lg', vocab=nlp.vocab)\n",
    "nlp.to_disk('/tmp/de_model_with_vectors')\n",
    "```"
   ]
  },
  {
   "cell_type": "code",
   "execution_count": null,
   "metadata": {},
   "outputs": [],
   "source": []
  }
 ],
 "metadata": {
  "kernelspec": {
   "display_name": "Python 3",
   "language": "python",
   "name": "python3"
  },
  "language_info": {
   "codemirror_mode": {
    "name": "ipython",
    "version": 2
   },
   "file_extension": ".py",
   "mimetype": "text/x-python",
   "name": "python",
   "nbconvert_exporter": "python",
   "pygments_lexer": "ipython2",
   "version": "2.7.15"
  }
 },
 "nbformat": 4,
 "nbformat_minor": 2
}
