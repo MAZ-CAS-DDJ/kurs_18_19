{
 "cells": [
  {
   "cell_type": "markdown",
   "metadata": {},
   "source": [
    "# Named Entities Recognition with NLTK\n",
    "- Named entities sind Orte, Firmen, Organisationen, Länder, etc.. alles Eigennamen. \n",
    "- Oft sind diese Eigennamen relativ wichtig im Text. "
   ]
  },
  {
   "cell_type": "code",
   "execution_count": 39,
   "metadata": {},
   "outputs": [
    {
     "name": "stdout",
     "output_type": "stream",
     "text": [
      "[nltk_data] Downloading package averaged_perceptron_tagger to\n",
      "[nltk_data]     /Users/plotti/nltk_data...\n",
      "[nltk_data]   Package averaged_perceptron_tagger is already up-to-\n",
      "[nltk_data]       date!\n",
      "[nltk_data] Downloading package maxent_ne_chunker to\n",
      "[nltk_data]     /Users/plotti/nltk_data...\n",
      "[nltk_data]   Package maxent_ne_chunker is already up-to-date!\n",
      "[nltk_data] Downloading package words to /Users/plotti/nltk_data...\n",
      "[nltk_data]   Unzipping corpora/words.zip.\n",
      "(S\n",
      "  (PERSON John/NNP)\n",
      "  (PERSON Smith/NNP)\n",
      "  is/VBZ\n",
      "  from/IN\n",
      "  the/DT\n",
      "  (GPE United/NNP States/NNPS)\n",
      "  of/IN\n",
      "  (GPE America/NNP)\n",
      "  and/CC\n",
      "  works/VBZ\n",
      "  at/IN\n",
      "  (ORGANIZATION Microsoft/NNP Research/NNP Labs/NNP))\n"
     ]
    }
   ],
   "source": [
    "import nltk\n",
    "nltk.download('averaged_perceptron_tagger')\n",
    "nltk.download('maxent_ne_chunker')\n",
    "nltk.download('words')\n",
    "print nltk.ne_chunk(nltk.pos_tag(nltk.word_tokenize(\"John Smith is from the United States of America and works at Microsoft Research Labs\")))"
   ]
  },
  {
   "cell_type": "code",
   "execution_count": 40,
   "metadata": {},
   "outputs": [
    {
     "name": "stdout",
     "output_type": "stream",
     "text": [
      "(S\n",
      "  (PERSON Johan/NNP)\n",
      "  (PERSON Meier/NNP)\n",
      "  kommt/NNP\n",
      "  aus/NN\n",
      "  (GPE Deutschland/NNP)\n",
      "  und/NN\n",
      "  arbeitet/NN\n",
      "  bei/NN\n",
      "  der/NN\n",
      "  (ORGANIZATION Forschungsabteilung/NNP)\n",
      "  von/NNP\n",
      "  Microsoft/NNP)\n"
     ]
    }
   ],
   "source": [
    "print nltk.ne_chunk(nltk.pos_tag(nltk.word_tokenize(\"Johan Meier kommt aus Deutschland und arbeitet bei der Forschungsabteilung von Microsoft\")))"
   ]
  },
  {
   "cell_type": "markdown",
   "metadata": {},
   "source": [
    "# Named Entities Recognition as a Service\n",
    "- Extrahieren von wichtigen sog. Named entities (cities, persons, etc..)\n",
    "- http://www.opencalais.com/opencalais-api/\n",
    "- http://www.opencalais.com/wp-content/uploads/folder/ThomsonReutersOpenCalaisAPIUserGuideR12_1.pdf\n",
    "- Super praktisch wenn man sehr viele Dokumente hat und aggregiert sehen möchte worüber gesprochen wird...."
   ]
  },
  {
   "cell_type": "markdown",
   "metadata": {},
   "source": [
    "### Aufgabe\n",
    "Holt euch den text von http://www.spiegel.de/politik/ausland/brexit-das-endspiel-hat-begonnen-a-1238299.html mit dem readability tool."
   ]
  },
  {
   "cell_type": "code",
   "execution_count": 2,
   "metadata": {},
   "outputs": [],
   "source": [
    "text = \"...\""
   ]
  },
  {
   "cell_type": "code",
   "execution_count": 8,
   "metadata": {},
   "outputs": [],
   "source": [
    "import httplib2\n",
    "LOCAL_API_KEY = 's8kVFJoL3LFkMtPfBJKrJAF8BgJ7g85E' # Aquire this by registering at the Calais site\n",
    "CALAIS_TAG_API = 'https://api.thomsonreuters.com/permid/calais'\n",
    "headers = {\n",
    "    'X-AG-Access-Token': LOCAL_API_KEY,\n",
    "    'content-type': 'text/raw',\n",
    "    'outputformat': 'application/json'\n",
    "}\n",
    "http = httplib2.Http()\n",
    "response, content = http.request(CALAIS_TAG_API, 'POST', headers=headers, body=text)\n",
    "jcontent = json.loads(content.decode()) # Parse the json return into a python dict"
   ]
  },
  {
   "cell_type": "code",
   "execution_count": 15,
   "metadata": {},
   "outputs": [
    {
     "data": {
      "text/plain": [
       "{u'contentType': u'text/raw',\n",
       " u'language': u'English',\n",
       " u'processingVer': u'AllMetadata',\n",
       " u'serverVersion': u'OneCalais_12.1-RELEASE:26',\n",
       " u'signature': u'digestalg-1|7K3RF/PwvnDiEkgVexHapV4Fpp4=|frIfDTpvzuTNMiRKRJ1STspDY9wjx9lC40eXaozzW9FyFydsAuTybw==',\n",
       " u'stagsVer': u'OneCalais_12.1-RELEASE-b3-2018-10-09_23:52:33',\n",
       " u'submissionDate': u'2018-11-11 16:55:33.328',\n",
       " u'submitterCode': u'0ca6a864-5659-789d-5f32-f365f695e757'}"
      ]
     },
     "execution_count": 15,
     "metadata": {},
     "output_type": "execute_result"
    }
   ],
   "source": [
    "jcontent[\"doc\"][\"meta\"]"
   ]
  },
  {
   "cell_type": "code",
   "execution_count": 21,
   "metadata": {},
   "outputs": [
    {
     "data": {
      "text/plain": [
       "{u'_type': u'Company',\n",
       " u'_typeGroup': u'entities',\n",
       " u'_typeReference': u'http://s.opencalais.com/1/type/em/e/Company',\n",
       " u'confidence': {u'aggregate': u'0.725',\n",
       "  u'dblookup': u'0.0',\n",
       "  u'resolution': u'0.030060718',\n",
       "  u'statisticalfeature': u'0.887'},\n",
       " u'confidencelevel': u'0.725',\n",
       " u'forenduserdisplay': u'false',\n",
       " u'instances': [{u'detection': u'[also asked police to investigate whether ]Nordea Bank[, with 11 million customers, had complied with]',\n",
       "   u'exact': u'Nordea Bank',\n",
       "   u'length': 11,\n",
       "   u'offset': 2927,\n",
       "   u'prefix': u'also asked police to investigate whether ',\n",
       "   u'suffix': u', with 11 million customers, had complied with'}],\n",
       " u'name': u'Nordea Bank',\n",
       " u'nationality': u'N/A',\n",
       " u'recognizedas': u'name',\n",
       " u'relevance': 0.2,\n",
       " u'resolutions': [{u'commonname': u'Nordea Bank',\n",
       "   u'id': u'https://permid.org/1-4297060884',\n",
       "   u'ispublic': u'false',\n",
       "   u'name': u'Nordea Bank',\n",
       "   u'permid': u'4297060884',\n",
       "   u'score': 0.030060718}]}"
      ]
     },
     "execution_count": 21,
     "metadata": {},
     "output_type": "execute_result"
    }
   ],
   "source": [
    "jcontent[\"http://d.opencalais.com/comphash-1/559b47bc-c90a-3a9e-9ef1-6f71b9e4447a\"]"
   ]
  },
  {
   "cell_type": "code",
   "execution_count": 35,
   "metadata": {},
   "outputs": [
    {
     "name": "stdout",
     "output_type": "stream",
     "text": [
      "Key: http://d.opencalais.com/comphash-1/559b47bc-c90a-3a9e-9ef1-6f71b9e4447a Type: Nordea Bank Name: Company\n",
      "Key: http://d.opencalais.com/genericHasher-1/480ab5d8-c070-3a48-9dd2-2b77aabad048 Type: MP Name: Position\n",
      "No name present for entity http://d.opencalais.com/genericHasher-1/e8d8bc52-6be4-3ea5-bfc8-14dc777e2b12\n",
      "Key: http://d.opencalais.com/pershash-1/5be51aaf-fdc6-3bdc-bdc3-baba4885db37 Type: Jim Srensen Name: Person\n",
      "No name present for entity http://d.opencalais.com/genericHasher-1/d0522d63-2098-38a9-b941-394dd20c3b72\n",
      "No name present for entity http://d.opencalais.com/genericHasher-1/762c02fc-dd8a-347f-be5c-d4d99aebdf68\n",
      "Key: http://d.opencalais.com/comphash-1/94358cfe-40be-3b6b-b279-9bcec69d13e9 Type: politiken Name: Company\n",
      "Key: http://d.opencalais.com/genericHasher-1/4ee92f20-d440-3f47-a988-cc7722f3883d Type: British Virgin Islands Name: Country\n",
      "Key: http://d.opencalais.com/genericHasher-1/3be5857d-88b7-3c70-a4f5-1214cd011804 Type: law Name: IndustryTerm\n",
      "No name present for entity http://d.opencalais.com/genericHasher-1/529f74cc-9462-3609-aca4-b079c3efb783\n",
      "Key: http://d.opencalais.com/comphash-1/3b34f3cc-8a5e-3360-a763-959279c871b3 Type: mossack fonseca Name: Company\n",
      "No name present for entity http://d.opencalais.com/genericHasher-1/db765c82-4b66-3db6-bdca-b40f395a35aa\n",
      "No name present for entity http://d.opencalais.com/genericHasher-1/ec6c460e-4598-3bd3-b9ce-15b0729977cd\n",
      "No name present for entity http://d.opencalais.com/genericHasher-1/66c7ebd9-b9d8-3f09-96fb-d2d64810e9e0\n",
      "Key: http://d.opencalais.com/pershash-1/c7da3fb1-e6c3-3898-a307-423b8d1b84ed Type: Dennis Flydtkjr Name: Person\n",
      "Key: http://d.opencalais.com/pershash-1/4c71ce7a-c209-3e96-9f8e-fa8706ad6837 Type: Karsten Lauritzen Name: Person\n",
      "Key: http://d.opencalais.com/comphash-1/6f476a35-7e37-3fd0-bbf6-3f579ff4a1d1 Type: Sddeutsche Zeitung Name: Company\n",
      "No name present for entity http://d.opencalais.com/genericHasher-1/3e32bc30-0fe0-304a-a3b9-c1a9d9a08f01\n",
      "Key: http://d.opencalais.com/genericHasher-1/2adf834f-7703-31ee-9843-25f10e1e5499 Type: Denmarks tax minister Name: Position\n",
      "Key: http://d.opencalais.com/genericHasher-1/5fd4ce05-12d0-38d9-9c45-ef889b6020ac Type: the Guardian Name: PublishedMedium\n",
      "No name present for entity http://d.opencalais.com/genericHasher-1/fa089640-2c81-3e73-929f-5d4502b91877\n",
      "No name present for entity http://d.opencalais.com/genericHasher-1/83a800da-e9a7-3b3d-ad75-38a2d09a110c\n",
      "No name present for entity http://d.opencalais.com/genericHasher-1/870cce27-8784-3431-944a-52362af6e3b3\n",
      "No name present for entity http://d.opencalais.com/genericHasher-1/cb853a46-9750-35cf-93d4-ede6ed19668e\n",
      "Key: http://d.opencalais.com/genericHasher-1/64f92f66-b444-30e6-97f6-bc63777d1755 Type: minister Name: Position\n",
      "No name present for entity http://d.opencalais.com/genericHasher-1/c38300e7-3775-3351-909d-9eb345b38a27\n",
      "Key: http://d.opencalais.com/pershash-1/f24f6bd6-b54d-3591-aeea-3dc5bd3a6241 Type: John Doe Name: Person\n",
      "Key: http://d.opencalais.com/comphash-1/7d81341c-92df-3f2a-aa42-7eed8b97a693 Type: hm revenue and customs Name: Company\n",
      "No name present for entity http://d.opencalais.com/dochash-1/09f2a721-1239-3efd-8b88-bf1d2d76a96c/cat/1\n",
      "No name present for entity http://d.opencalais.com/dochash-1/09f2a721-1239-3efd-8b88-bf1d2d76a96c/ComponentVersions\n",
      "Key: http://d.opencalais.com/comphash-1/7570d898-0089-305e-b9d5-4543bab04765 Type: Commerzbank Name: Company\n",
      "No name present for entity http://d.opencalais.com/genericHasher-1/f07bf31b-b2be-315b-9be4-45c3411193c4\n",
      "Key: http://d.opencalais.com/genericHasher-1/cc88b155-205c-3676-a151-d45f473f0b16 Type: United Kingdom Name: Country\n",
      "Key: http://d.opencalais.com/genericHasher-1/27073470-e8ea-3966-a53a-447e175bfcb0 Type: Danish government Name: Organization\n",
      "No name present for entity http://d.opencalais.com/genericHasher-1/f0b3920d-be9e-35bc-8497-92ef5914e307\n",
      "No name present for entity http://d.opencalais.com/genericHasher-1/9a53db89-6fac-33e2-a48b-ccb6d46ccb51\n",
      "No name present for entity http://d.opencalais.com/genericHasher-1/649d9a3a-b47e-36ec-9cb5-a1496e1f231f\n",
      "No name present for entity http://d.opencalais.com/dochash-1/09f2a721-1239-3efd-8b88-bf1d2d76a96c/SocialTag/7\n",
      "No name present for entity http://d.opencalais.com/dochash-1/09f2a721-1239-3efd-8b88-bf1d2d76a96c/SocialTag/6\n",
      "No name present for entity http://d.opencalais.com/dochash-1/09f2a721-1239-3efd-8b88-bf1d2d76a96c/SocialTag/5\n",
      "No name present for entity http://d.opencalais.com/dochash-1/09f2a721-1239-3efd-8b88-bf1d2d76a96c/SocialTag/4\n",
      "No name present for entity http://d.opencalais.com/dochash-1/09f2a721-1239-3efd-8b88-bf1d2d76a96c/SocialTag/3\n",
      "No name present for entity http://d.opencalais.com/dochash-1/09f2a721-1239-3efd-8b88-bf1d2d76a96c/SocialTag/2\n",
      "No name present for entity http://d.opencalais.com/dochash-1/09f2a721-1239-3efd-8b88-bf1d2d76a96c/SocialTag/1\n",
      "Key: http://d.opencalais.com/comphash-1/3c600a36-40db-38a8-96fe-7b57e1303947 Type: the Guardian Name: Company\n",
      "No name present for entity http://d.opencalais.com/genericHasher-1/702c8cbf-2bd1-3230-850d-84b1ef9392f2\n",
      "No name present for entity doc\n",
      "Key: http://d.opencalais.com/genericHasher-1/2f79e7ae-f5dc-33b0-b658-9719a339551b Type: divisional tax chief Name: Position\n",
      "Key: http://d.opencalais.com/genericHasher-1/5236d05e-854c-3e55-a8a0-cb1068db3929 Type: advisors Name: Position\n",
      "No name present for entity http://d.opencalais.com/dochash-1/09f2a721-1239-3efd-8b88-bf1d2d76a96c/SocialTag/9\n",
      "No name present for entity http://d.opencalais.com/dochash-1/09f2a721-1239-3efd-8b88-bf1d2d76a96c/SocialTag/8\n",
      "No name present for entity http://d.opencalais.com/dochash-1/09f2a721-1239-3efd-8b88-bf1d2d76a96c/lid/DefaultLangId\n",
      "Key: http://d.opencalais.com/genericHasher-1/7a440194-0f37-3972-98f4-ccf302fb1084 Type: Danish Peoples party Name: Organization\n",
      "No name present for entity http://d.opencalais.com/dochash-1/09f2a721-1239-3efd-8b88-bf1d2d76a96c/cat/2\n",
      "Key: http://d.opencalais.com/genericHasher-1/52d3390f-1220-3556-895d-c0b3a15dac59 Type: media organisations Name: IndustryTerm\n",
      "Key: http://d.opencalais.com/genericHasher-1/738d99b4-3efc-3311-b796-408f8f66daf4 Type: Denmark Name: Country\n",
      "No name present for entity http://d.opencalais.com/dochash-1/09f2a721-1239-3efd-8b88-bf1d2d76a96c/SocialTag/12\n",
      "No name present for entity http://d.opencalais.com/dochash-1/09f2a721-1239-3efd-8b88-bf1d2d76a96c/SocialTag/11\n",
      "No name present for entity http://d.opencalais.com/dochash-1/09f2a721-1239-3efd-8b88-bf1d2d76a96c/SocialTag/10\n"
     ]
    }
   ],
   "source": [
    "for (k,v) in jcontent.iteritems():\n",
    "    try:\n",
    "        print(\"Key: %s Type: %s Name: %s\" % (k,v[\"name\"],v[\"_type\"]))\n",
    "    except:\n",
    "        print(\"No name present for entity %s\" % k)"
   ]
  },
  {
   "cell_type": "markdown",
   "metadata": {},
   "source": [
    "## Aufgabe\n",
    "- Von welchen Ländern und Unternehmen wird vor allem gesprochen?"
   ]
  },
  {
   "cell_type": "code",
   "execution_count": null,
   "metadata": {},
   "outputs": [],
   "source": []
  }
 ],
 "metadata": {
  "kernelspec": {
   "display_name": "Python 3",
   "language": "python",
   "name": "python3"
  },
  "language_info": {
   "codemirror_mode": {
    "name": "ipython",
    "version": 2
   },
   "file_extension": ".py",
   "mimetype": "text/x-python",
   "name": "python",
   "nbconvert_exporter": "python",
   "pygments_lexer": "ipython2",
   "version": "2.7.15"
  }
 },
 "nbformat": 4,
 "nbformat_minor": 2
}
