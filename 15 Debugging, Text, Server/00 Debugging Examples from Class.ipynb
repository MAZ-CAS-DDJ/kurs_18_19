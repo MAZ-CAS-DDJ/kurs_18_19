{
 "cells": [
  {
   "cell_type": "markdown",
   "metadata": {},
   "source": [
    "# Claudia"
   ]
  },
  {
   "cell_type": "code",
   "execution_count": 4,
   "metadata": {},
   "outputs": [
    {
     "name": "stdout",
     "output_type": "stream",
     "text": [
      "/Users/info/.virtualenvs/Clava/lib/python3.7/site-packages/requests/__init__.py:91: \n",
      "RequestsDependencyWarning: urllib3 (1.23) or chardet (2.3.0) doesn’t match a supported version!\n",
      "RequestsDependencyWarning)\n"
     ]
    }
   ],
   "source": [
    "#Fehlermeldung\n",
    "print(\"\"\"/Users/info/.virtualenvs/Clava/lib/python3.7/site-packages/requests/__init__.py:91: \n",
    "RequestsDependencyWarning: urllib3 (1.23) or chardet (2.3.0) doesn’t match a supported version!\n",
    "RequestsDependencyWarning)\"\"\")"
   ]
  },
  {
   "cell_type": "markdown",
   "metadata": {
    "collapsed": true
   },
   "source": [
    "# Michael"
   ]
  },
  {
   "cell_type": "code",
   "execution_count": null,
   "metadata": {
    "collapsed": true
   },
   "outputs": [],
   "source": [
    "#Importe\n",
    "\n",
    "from bs4 import BeautifulSoup\n",
    "import requests\n",
    "import time\n",
    "import datetime\n",
    "import pandas as pd\n",
    "from selenium import webdriver\n",
    "from selenium.webdriver.common.keys import Keys\n",
    "from selenium.webdriver.support.ui import Select\n",
    "import os"
   ]
  },
  {
   "cell_type": "code",
   "execution_count": null,
   "metadata": {
    "collapsed": true
   },
   "outputs": [],
   "source": [
    "#def selenium(startdatum, enddatum):\n",
    "#definition webdriver (ohne Pfadangabe, da Pfad gespeichert)\n",
    "\n",
    "driver = webdriver.Chrome()\n",
    "\n",
    "#definition Website\n",
    "driver.get(\"https://www.six-exchange-regulation.com/de/home/publications/management-transactions.html\")\n",
    "#driver.get(\"https://www.six-exchange-regulation.com/de/home/publications/management-transactions.html#notificationId=T1I2G00075\")\n",
    "\n",
    "#time.sleep(1)           \n",
    "\n",
    "#datum setzen\n",
    "startdatum = \"01012018\"\n",
    "enddatum = \"20012018\"\n",
    "\n",
    "datum_von = driver.find_element_by_id('FromTransactionDate')\n",
    "datum_von.click()\n",
    "datum_von.clear()\n",
    "datum_von.send_keys(startdatum)\n",
    "\n",
    "datum_bis = driver.find_element_by_name('ToTransactionDate')\n",
    "datum_bis.click()\n",
    "datum_bis.clear()\n",
    "datum_bis.send_keys(enddatum)       \n",
    "\n",
    "#Einfach nur Abschicken\n",
    "datum_von = driver.find_element_by_id('FromTransactionDate')\n",
    "datum_von.send_keys(Keys.ENTER)\n",
    "\n",
    "#time.sleep(5)   \n",
    "\n",
    "#HTML-Inhalt erfassen und übergeben\n",
    "html = driver.page_source\n",
    "html"
   ]
  },
  {
   "cell_type": "markdown",
   "metadata": {},
   "source": [
    "# Reto"
   ]
  },
  {
   "cell_type": "code",
   "execution_count": 3,
   "metadata": {
    "collapsed": true
   },
   "outputs": [],
   "source": [
    "import requests\n",
    "from bs4 import BeautifulSoup\n",
    "import pandas as pd"
   ]
  },
  {
   "cell_type": "code",
   "execution_count": 4,
   "metadata": {},
   "outputs": [
    {
     "name": "stdout",
     "output_type": "stream",
     "text": [
      "https://www.atpworldtour.com/en/players/roger-federer/f324/player-activity?year=2016\n",
      "https://www.atpworldtour.com/en/players/roger-federer/f324/player-activity?year=2017\n",
      "https://www.atpworldtour.com/en/players/roger-federer/f324/player-activity?year=2018\n"
     ]
    }
   ],
   "source": [
    "jahre = list(range(2016,2019))\n",
    "\n",
    "for jahr in jahre:\n",
    "    url = \"https://www.atpworldtour.com/en/players/roger-federer/f324/player-activity?year=\"\n",
    "    url = url+str(jahr)\n",
    "    print(url)\n",
    "    r = requests.get(url)\n",
    "    soup = BeautifulSoup(r.text, 'html.parser')"
   ]
  },
  {
   "cell_type": "code",
   "execution_count": 5,
   "metadata": {},
   "outputs": [
    {
     "name": "stdout",
     "output_type": "stream",
     "text": [
      "https://www.atpworldtour.com/en/players/roger-federer/f324/player-activity?year=2016\n",
      "https://www.atpworldtour.com/en/players/roger-federer/f324/player-activity?year=2017\n"
     ]
    }
   ],
   "source": [
    "federer = []\n",
    "jahre = list(range(2016,2018))\n",
    "\n",
    "for jahr in jahre:\n",
    "    url = \"https://www.atpworldtour.com/en/players/roger-federer/f324/player-activity?year=\"\n",
    "    url = url+str(jahr)\n",
    "    print(url)\n",
    "    r = requests.get(url)\n",
    "    soup = BeautifulSoup(r.text, 'html.parser')\n",
    "\n",
    "    turniere = soup.find('div', {'class':\"activity-tournament-table\"}).find_all('a', {'class':'tourney-title'})\n",
    "    daten = soup.find('div', {'class':\"activity-tournament-table\"}).find_all('span', {'class':'tourney-dates'})\n",
    "    gegner = soup.find('div', {'class':\"day-table-name \"}).find_all('a', {'class':'mega-player-name'})\n",
    "\n",
    "    for turnier, datum, spieler in zip(turniere, daten, gegner):\n",
    "        turnier = turnier.text\n",
    "        datum = datum.text\n",
    "        gegner = spieler.text\n",
    "        minidict = {'Turnier': turnier,\n",
    "                    'Datum': datum,\n",
    "                    \"Gegner\": spieler,\n",
    "                    'Saison':str(jahr)}\n",
    "        federer.append(minidict)"
   ]
  },
  {
   "cell_type": "code",
   "execution_count": 6,
   "metadata": {},
   "outputs": [
    {
     "data": {
      "text/plain": [
       "[{'Datum': '\\r\\n2016.06.27 - 2016.07.10        ',\n",
       "  'Gegner': <a class=\"mega-player-name\" data-ga-action=\"Click\" data-ga-label=\"Player Profile - Milos Raonic\" href=\"/en/players/milos-raonic/r975/overview\">Milos Raonic</a>,\n",
       "  'Saison': '2016',\n",
       "  'Turnier': 'Wimbledon'},\n",
       " {'Datum': '\\r\\n2017.11.13 - 2017.11.19        ',\n",
       "  'Gegner': <a class=\"mega-player-name\" data-ga-action=\"Click\" data-ga-label=\"Player Profile - David Goffin\" href=\"/en/players/david-goffin/gb88/overview\">David Goffin</a>,\n",
       "  'Saison': '2017',\n",
       "  'Turnier': 'Nitto ATP Finals'}]"
      ]
     },
     "execution_count": 6,
     "metadata": {},
     "output_type": "execute_result"
    }
   ],
   "source": [
    "federer"
   ]
  }
 ],
 "metadata": {
  "kernelspec": {
   "display_name": "Python 3",
   "language": "python",
   "name": "python3"
  },
  "language_info": {
   "codemirror_mode": {
    "name": "ipython",
    "version": 3
   },
   "file_extension": ".py",
   "mimetype": "text/x-python",
   "name": "python",
   "nbconvert_exporter": "python",
   "pygments_lexer": "ipython3",
   "version": "3.5.1"
  }
 },
 "nbformat": 4,
 "nbformat_minor": 2
}
