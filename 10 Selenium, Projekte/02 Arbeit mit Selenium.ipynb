{
 "cells": [
  {
   "cell_type": "markdown",
   "metadata": {},
   "source": [
    "# Arbeit mit Selenium"
   ]
  },
  {
   "cell_type": "markdown",
   "metadata": {},
   "source": [
    "Die Arbeit mit Selenium erfordert etwas Übung. Aber der Zeitaufwand lohnt sich. Es gibt mit Selenium kaum ein Webdienst der nicht scrapbar wird. Beginnen wir aber wie üblich mit der Dokumentation. Sie ist im Falle von Selenium sehr hilfreich. Ihr findet [sie hier](http://selenium-python.readthedocs.io/). Und [hier](http://selenium-python.readthedocs.io/locating-elements.html). "
   ]
  },
  {
   "cell_type": "markdown",
   "metadata": {},
   "source": [
    "Um Selenium kennenzulernen, gehen wir zurück zu unserem Beispiel der Lehren: https://www.berufsberatung.ch/dyn/show/2930. Nun wollen wir keine URLs generieren, um unsere Inhalte zu finden. Wir wollen stattdessen mit der Site interagieren. So sollten wir alle Einträge bekommen. BeautifulSoup werden wir trotzdem noch dazu nehmen. Denn Selenium liest keine Inhalte aus. Die Library lässt uns einfach mit dem Webdienst interagieren."
   ]
  },
  {
   "cell_type": "markdown",
   "metadata": {},
   "source": [
    "Beginnen wir mit den Imports"
   ]
  },
  {
   "cell_type": "code",
   "execution_count": 1,
   "metadata": {
    "collapsed": true
   },
   "outputs": [],
   "source": [
    "from bs4 import BeautifulSoup\n",
    "import requests\n",
    "import time\n",
    "from selenium import webdriver\n",
    "from selenium.webdriver.common.keys import Keys"
   ]
  },
  {
   "cell_type": "markdown",
   "metadata": {},
   "source": [
    "Und dann schicken wir Selenium auf die Seite."
   ]
  },
  {
   "cell_type": "code",
   "execution_count": null,
   "metadata": {
    "collapsed": true
   },
   "outputs": [],
   "source": [
    "#Wir starten den Browser:\n",
    "driver = webdriver.Chrome('/usr/local/bin/chromedriver')\n",
    "#Wir besuchen die Site\n",
    "driver.get(\"https://www.berufsberatung.ch/dyn/show/2930\")"
   ]
  },
  {
   "cell_type": "markdown",
   "metadata": {},
   "source": [
    "Nun suchen wir mit dem Inspector die Elemente, die wir ansteuern wollen."
   ]
  },
  {
   "cell_type": "code",
   "execution_count": null,
   "metadata": {
    "collapsed": true
   },
   "outputs": [],
   "source": [
    "driver.find_element_by_class_name(\"fs-autocomplete-trigger\").click()"
   ]
  },
  {
   "cell_type": "code",
   "execution_count": null,
   "metadata": {
    "collapsed": true
   },
   "outputs": [],
   "source": [
    "driver.find_element_by_id(\"sw_453\").click()"
   ]
  },
  {
   "cell_type": "markdown",
   "metadata": {},
   "source": [
    "Aber wir wollen alle Ergänzen. Holen wir deshalb die Nummern nochmals"
   ]
  },
  {
   "cell_type": "code",
   "execution_count": null,
   "metadata": {
    "collapsed": true
   },
   "outputs": [],
   "source": [
    "r = requests.get('https://www.berufsberatung.ch/dyn/show/2930')\n",
    "soup = BeautifulSoup(r.text, 'lxml')\n",
    "ids = []\n",
    "for elem in soup.find('ul',{'class':'ui-autocomplete full-list '}).find_all('a'):\n",
    "    elem = \"sw_\" + elem['data-id']\n",
    "    ids.append(elem)"
   ]
  },
  {
   "cell_type": "markdown",
   "metadata": {},
   "source": [
    "Testen wir es mit den ersten fünf Einträgen"
   ]
  },
  {
   "cell_type": "code",
   "execution_count": null,
   "metadata": {},
   "outputs": [],
   "source": [
    "for elem in ids[:4]:\n",
    "    print(elem)\n",
    "    time.sleep(.5) #damit es nicht zu schnell geht\n",
    "    driver.find_element_by_class_name(\"fs-autocomplete-trigger\").click()\n",
    "    time.sleep(.5)\n",
    "    driver.find_element_by_id(elem).click()"
   ]
  },
  {
   "cell_type": "code",
   "execution_count": null,
   "metadata": {
    "collapsed": true
   },
   "outputs": [],
   "source": [
    "driver.find_element_by_id(\"uxfs-action\").click()"
   ]
  },
  {
   "cell_type": "markdown",
   "metadata": {},
   "source": [
    "Speichern wird alles ab"
   ]
  },
  {
   "cell_type": "code",
   "execution_count": null,
   "metadata": {},
   "outputs": [],
   "source": [
    "driver.find_element_by_id(\"aSearchPaging\").click()"
   ]
  },
  {
   "cell_type": "code",
   "execution_count": null,
   "metadata": {
    "collapsed": true
   },
   "outputs": [],
   "source": []
  },
  {
   "cell_type": "markdown",
   "metadata": {},
   "source": [
    "## Bringen wir alles zusammen"
   ]
  },
  {
   "cell_type": "code",
   "execution_count": 2,
   "metadata": {},
   "outputs": [
    {
     "name": "stdout",
     "output_type": "stream",
     "text": [
      "sw_453\n",
      "sw_452\n",
      "sw_55\n",
      "sw_7617\n",
      "sw_7618\n",
      "sw_7619\n",
      "sw_902\n",
      "sw_11320\n",
      "sw_413\n",
      "sw_8082\n"
     ]
    }
   ],
   "source": [
    "#Starten wir den Chrome-Browser und besuchen die Site\n",
    "driver = webdriver.Chrome('/usr/local/bin/chromedriver')\n",
    "driver.get(\"https://www.berufsberatung.ch/dyn/show/2930\")\n",
    "\n",
    "#Bauen wir eine Liste aller Job-IDs\n",
    "r = requests.get('https://www.berufsberatung.ch/dyn/show/2930')\n",
    "soup = BeautifulSoup(r.text, 'lxml')\n",
    "ids = []\n",
    "for elem in soup.find('ul',{'class':'ui-autocomplete full-list '}).find_all('a'):\n",
    "    elem = \"sw_\" + elem['data-id']\n",
    "    ids.append(elem)\n",
    "\n",
    "#Bereiten wir die Suche vor    \n",
    "for elem in ids[:10]:\n",
    "    print(elem)\n",
    "    time.sleep(.5) #damit es nicht zu schnell geht\n",
    "    driver.find_element_by_class_name(\"fs-autocomplete-trigger\").click()\n",
    "    time.sleep(.5)\n",
    "    driver.find_element_by_id(elem).click()\n",
    "    \n",
    "#Suchen wir\n",
    "time.sleep(1)\n",
    "driver.find_element_by_id(\"uxfs-action\").click()\n",
    "\n",
    "#Nun nun sorgen wir dafür, dass alle Ergebnisse anzeigt werden.\n",
    "exists = 1\n",
    "while(exists==1):\n",
    "    loadmore = driver.find_element_by_id(\"aSearchPaging\")\n",
    "    if loadmore.text == \"MEHR ERGEBNISSE ANZEIGEN\":\n",
    "        driver.find_element_by_id(\"aSearchPaging\").click()\n",
    "        time.sleep(1)\n",
    "    else:\n",
    "        exists = 0"
   ]
  },
  {
   "cell_type": "code",
   "execution_count": null,
   "metadata": {
    "collapsed": true
   },
   "outputs": [],
   "source": []
  }
 ],
 "metadata": {
  "kernelspec": {
   "display_name": "Python 3",
   "language": "python",
   "name": "python3"
  },
  "language_info": {
   "codemirror_mode": {
    "name": "ipython",
    "version": 3
   },
   "file_extension": ".py",
   "mimetype": "text/x-python",
   "name": "python",
   "nbconvert_exporter": "python",
   "pygments_lexer": "ipython3",
   "version": "3.5.1"
  }
 },
 "nbformat": 4,
 "nbformat_minor": 2
}
