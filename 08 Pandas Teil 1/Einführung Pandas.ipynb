{
 "cells": [
  {
   "cell_type": "markdown",
   "metadata": {},
   "source": [
    "# Einführung Pandas"
   ]
  },
  {
   "cell_type": "markdown",
   "metadata": {},
   "source": [
    "**Inhalt:** Ein Streifzug durch die Möglichkeiten von Pandas\n",
    "\n",
    "**Nötige skills**: Keine\n",
    "\n",
    "**Lerniziele**:\n",
    "- Übersicht erhalten: Nur schauen, nicht selber programmieren\n",
    "- Anhand eines konkreten Beispiels einen Workflow beobachten\n",
    "- Erkennen, welche Arten von Operationen und Outputs Pandas hat"
   ]
  },
  {
   "cell_type": "markdown",
   "metadata": {},
   "source": [
    "### Was ist Pandas?\n",
    "Kurz gesagt: Pandas ist Excel für Python.\n",
    "\n",
    "Das Modul ermöglicht ähnliche Operationen wie ein Tabellenkalkulationsprogramm, aber\n",
    "- in Logbuchform statt in Form eines Tabellenblatts\n",
    "- man kann denselben Code leicht auf mehrere Datensätze anwenden\n",
    "- viel mehr Funktionalität als Excel (kombinierbar mit anderen Python Modulen)\n",
    "- ...\n",
    "\n",
    "Ohne Pandas kein Datenjournalismus mit Python:\n",
    "- kommt überall zum Einsatz, wo man es mit tabellen-artigen Datenstrukturen zu tun hat\n",
    "- der Standard, von dem aus man Daten plottet\n",
    "- ..."
   ]
  },
  {
   "cell_type": "markdown",
   "metadata": {},
   "source": [
    "### Installation\n",
    "Command line: `pip install pandas`\n",
    "\n",
    "...\n",
    "\n",
    "...\n",
    "\n",
    "... und wenn das alles geklappt hat:"
   ]
  },
  {
   "cell_type": "code",
   "execution_count": 1,
   "metadata": {
    "collapsed": true
   },
   "outputs": [],
   "source": [
    "import pandas as pd"
   ]
  },
  {
   "cell_type": "code",
   "execution_count": 16,
   "metadata": {
    "collapsed": true
   },
   "outputs": [],
   "source": [
    "%matplotlib inline"
   ]
  },
  {
   "cell_type": "code",
   "execution_count": 2,
   "metadata": {},
   "outputs": [
    {
     "name": "stdout",
     "output_type": "stream",
     "text": [
      "Hooray!\n"
     ]
    }
   ],
   "source": [
    "print (\"Hooray!\")"
   ]
  },
  {
   "cell_type": "markdown",
   "metadata": {},
   "source": [
    "# Das Beispiel"
   ]
  },
  {
   "cell_type": "markdown",
   "metadata": {},
   "source": [
    "Eine Datenbank zu allen militärischen Auseinandersetzungen zwischen 1816 und 2010.\n",
    "\n",
    "Quelle: http://cow.dss.ucdavis.edu/data-sets/MIDs"
   ]
  },
  {
   "cell_type": "markdown",
   "metadata": {},
   "source": [
    "## Datenfile öffnen"
   ]
  },
  {
   "cell_type": "markdown",
   "metadata": {},
   "source": [
    "Der notwendige Start vor jeder Datenanalyse."
   ]
  },
  {
   "cell_type": "code",
   "execution_count": 10,
   "metadata": {
    "collapsed": true
   },
   "outputs": [],
   "source": [
    "df = pd.read_csv('../Dataprojects/military-nterventions/MID-level/MIDB_4.2.csv')"
   ]
  },
  {
   "cell_type": "markdown",
   "metadata": {},
   "source": [
    "## Basic exploration"
   ]
  },
  {
   "cell_type": "markdown",
   "metadata": {},
   "source": [
    "Die Grösse und Struktur der Datenbank: Sollte beim öffnen jedes Files zuerst einmal grob angeschaut werden."
   ]
  },
  {
   "cell_type": "markdown",
   "metadata": {},
   "source": [
    "### Wie viele Einträge hat die Datenbank?"
   ]
  },
  {
   "cell_type": "code",
   "execution_count": 11,
   "metadata": {},
   "outputs": [
    {
     "data": {
      "text/plain": [
       "(5511, 23)"
      ]
     },
     "execution_count": 11,
     "metadata": {},
     "output_type": "execute_result"
    }
   ],
   "source": [
    "df.shape"
   ]
  },
  {
   "cell_type": "markdown",
   "metadata": {},
   "source": [
    "### Was für Datenfelder kommen darin vor?"
   ]
  },
  {
   "cell_type": "code",
   "execution_count": 12,
   "metadata": {},
   "outputs": [
    {
     "data": {
      "text/plain": [
       "dispnum3       int64\n",
       "dispnum4       int64\n",
       "stabb         object\n",
       "ccode          int64\n",
       "stday          int64\n",
       "stmon          int64\n",
       "styear         int64\n",
       "endday         int64\n",
       "endmon         int64\n",
       "endyear        int64\n",
       "sidea          int64\n",
       "revstate       int64\n",
       "revtype1       int64\n",
       "revtype2       int64\n",
       "fatality       int64\n",
       "fatalpre       int64\n",
       "hiact          int64\n",
       "hostlev        int64\n",
       "orig           int64\n",
       "version      float64\n",
       "changes_1      int64\n",
       "changes_2      int64\n",
       "changes_3      int64\n",
       "dtype: object"
      ]
     },
     "execution_count": 12,
     "metadata": {},
     "output_type": "execute_result"
    }
   ],
   "source": [
    "df.dtypes"
   ]
  },
  {
   "cell_type": "markdown",
   "metadata": {},
   "source": [
    "Für Details zu den Codes, check:\n",
    "\n",
    "`../Dataprojects/Military Interventions/MID-level/MID_v4.0_Codebook.pdf`"
   ]
  },
  {
   "cell_type": "markdown",
   "metadata": {},
   "source": [
    "### Wie muss man sich die Einträge in dieser Tabelle ungefähr vorstellen?"
   ]
  },
  {
   "cell_type": "code",
   "execution_count": 9,
   "metadata": {},
   "outputs": [
    {
     "data": {
      "text/html": [
       "<div>\n",
       "<style>\n",
       "    .dataframe thead tr:only-child th {\n",
       "        text-align: right;\n",
       "    }\n",
       "\n",
       "    .dataframe thead th {\n",
       "        text-align: left;\n",
       "    }\n",
       "\n",
       "    .dataframe tbody tr th {\n",
       "        vertical-align: top;\n",
       "    }\n",
       "</style>\n",
       "<table border=\"1\" class=\"dataframe\">\n",
       "  <thead>\n",
       "    <tr style=\"text-align: right;\">\n",
       "      <th></th>\n",
       "      <th>dispnum3</th>\n",
       "      <th>dispnum4</th>\n",
       "      <th>stday</th>\n",
       "      <th>stmon</th>\n",
       "      <th>styear</th>\n",
       "      <th>endday</th>\n",
       "      <th>endmon</th>\n",
       "      <th>endyear</th>\n",
       "      <th>outcome</th>\n",
       "      <th>settle</th>\n",
       "      <th>...</th>\n",
       "      <th>recip</th>\n",
       "      <th>numa</th>\n",
       "      <th>numb</th>\n",
       "      <th>link1</th>\n",
       "      <th>link2</th>\n",
       "      <th>link3</th>\n",
       "      <th>ongo2010</th>\n",
       "      <th>version</th>\n",
       "      <th>changes_1</th>\n",
       "      <th>changes_2</th>\n",
       "    </tr>\n",
       "  </thead>\n",
       "  <tbody>\n",
       "    <tr>\n",
       "      <th>0</th>\n",
       "      <td>2</td>\n",
       "      <td>-9</td>\n",
       "      <td>-9</td>\n",
       "      <td>7</td>\n",
       "      <td>1902</td>\n",
       "      <td>24</td>\n",
       "      <td>1</td>\n",
       "      <td>1903</td>\n",
       "      <td>6</td>\n",
       "      <td>1</td>\n",
       "      <td>...</td>\n",
       "      <td>0</td>\n",
       "      <td>1</td>\n",
       "      <td>1</td>\n",
       "      <td>0</td>\n",
       "      <td>0</td>\n",
       "      <td>0.0</td>\n",
       "      <td>0</td>\n",
       "      <td>4.2</td>\n",
       "      <td>0</td>\n",
       "      <td>0</td>\n",
       "    </tr>\n",
       "    <tr>\n",
       "      <th>1</th>\n",
       "      <td>3</td>\n",
       "      <td>-9</td>\n",
       "      <td>2</td>\n",
       "      <td>5</td>\n",
       "      <td>1913</td>\n",
       "      <td>25</td>\n",
       "      <td>10</td>\n",
       "      <td>1913</td>\n",
       "      <td>4</td>\n",
       "      <td>3</td>\n",
       "      <td>...</td>\n",
       "      <td>0</td>\n",
       "      <td>1</td>\n",
       "      <td>1</td>\n",
       "      <td>0</td>\n",
       "      <td>0</td>\n",
       "      <td>0.0</td>\n",
       "      <td>0</td>\n",
       "      <td>4.2</td>\n",
       "      <td>0</td>\n",
       "      <td>0</td>\n",
       "    </tr>\n",
       "    <tr>\n",
       "      <th>2</th>\n",
       "      <td>4</td>\n",
       "      <td>-9</td>\n",
       "      <td>15</td>\n",
       "      <td>5</td>\n",
       "      <td>1946</td>\n",
       "      <td>13</td>\n",
       "      <td>11</td>\n",
       "      <td>1946</td>\n",
       "      <td>5</td>\n",
       "      <td>3</td>\n",
       "      <td>...</td>\n",
       "      <td>1</td>\n",
       "      <td>1</td>\n",
       "      <td>1</td>\n",
       "      <td>0</td>\n",
       "      <td>0</td>\n",
       "      <td>0.0</td>\n",
       "      <td>0</td>\n",
       "      <td>4.2</td>\n",
       "      <td>0</td>\n",
       "      <td>0</td>\n",
       "    </tr>\n",
       "  </tbody>\n",
       "</table>\n",
       "<p>3 rows × 26 columns</p>\n",
       "</div>"
      ],
      "text/plain": [
       "   dispnum3  dispnum4  stday  stmon  styear  endday  endmon  endyear  outcome  \\\n",
       "0         2        -9     -9      7    1902      24       1     1903        6   \n",
       "1         3        -9      2      5    1913      25      10     1913        4   \n",
       "2         4        -9     15      5    1946      13      11     1946        5   \n",
       "\n",
       "   settle    ...     recip  numa  numb  link1  link2  link3  ongo2010  \\\n",
       "0       1    ...         0     1     1      0      0    0.0         0   \n",
       "1       3    ...         0     1     1      0      0    0.0         0   \n",
       "2       3    ...         1     1     1      0      0    0.0         0   \n",
       "\n",
       "   version  changes_1 changes_2  \n",
       "0      4.2          0         0  \n",
       "1      4.2          0         0  \n",
       "2      4.2          0         0  \n",
       "\n",
       "[3 rows x 26 columns]"
      ]
     },
     "execution_count": 9,
     "metadata": {},
     "output_type": "execute_result"
    }
   ],
   "source": [
    "df.head(3)"
   ]
  },
  {
   "cell_type": "markdown",
   "metadata": {},
   "source": [
    "## Spontane Fragen"
   ]
  },
  {
   "cell_type": "markdown",
   "metadata": {},
   "source": [
    "Die ersten Dinge, die einem zum Thema militärische Auseinandersetzungen in den Sinn kommen.\n",
    "\n",
    "Mit Pandas lassen sie sich relativ rasch beantworten, falls die Daten bereits gut aufbereitet, vollständig und ohne viele Codierfehler da sind."
   ]
  },
  {
   "cell_type": "markdown",
   "metadata": {},
   "source": [
    "### Welche Länder haben am meisten militärische Auseinandersetzungen teilgenommen?"
   ]
  },
  {
   "cell_type": "code",
   "execution_count": 14,
   "metadata": {},
   "outputs": [
    {
     "data": {
      "text/plain": [
       "USA    321\n",
       "USR    256\n",
       "UKG    239\n",
       "CHN    218\n",
       "FRN    165\n",
       "GMY    163\n",
       "TUR    161\n",
       "IRN    151\n",
       "JPN    151\n",
       "ITA    119\n",
       "Name: stabb, dtype: int64"
      ]
     },
     "execution_count": 14,
     "metadata": {},
     "output_type": "execute_result"
    }
   ],
   "source": [
    "df.stabb.value_counts().head(10)"
   ]
  },
  {
   "cell_type": "code",
   "execution_count": 72,
   "metadata": {},
   "outputs": [
    {
     "data": {
      "text/plain": [
       "<matplotlib.axes._subplots.AxesSubplot at 0x110af7668>"
      ]
     },
     "execution_count": 72,
     "metadata": {},
     "output_type": "execute_result"
    },
    {
     "data": {
      "image/png": "[encoded data removed]",
      "text/plain": [
       "<matplotlib.figure.Figure at 0x110bf3518>"
      ]
     },
     "metadata": {},
     "output_type": "display_data"
    }
   ],
   "source": [
    "df.stabb.value_counts().head(20).plot(kind='bar')"
   ]
  },
  {
   "cell_type": "markdown",
   "metadata": {},
   "source": [
    "### Zu welcher Zeit gab es am meisten Konflikte?"
   ]
  },
  {
   "cell_type": "code",
   "execution_count": 21,
   "metadata": {},
   "outputs": [
    {
     "data": {
      "text/plain": [
       "<matplotlib.axes._subplots.AxesSubplot at 0x10f6bcef0>"
      ]
     },
     "execution_count": 21,
     "metadata": {},
     "output_type": "execute_result"
    },
    {
     "data": {
      "image/png": "[encoded data removed]",
      "text/plain": [
       "<matplotlib.figure.Figure at 0x10f5eda20>"
      ]
     },
     "metadata": {},
     "output_type": "display_data"
    }
   ],
   "source": [
    "df.styear.value_counts().sort_index().plot()"
   ]
  },
  {
   "cell_type": "markdown",
   "metadata": {},
   "source": [
    "### Um was für Konflikte handelt es sich?"
   ]
  },
  {
   "cell_type": "code",
   "execution_count": 53,
   "metadata": {
    "collapsed": true
   },
   "outputs": [],
   "source": [
    "hostlev_codes = pd.Series({\n",
    "    0: \"Unknown\",\n",
    "    1: \"No militarized action\",\n",
    "    2: \"Threat to use force\",\n",
    "    3: \"Display of force\",\n",
    "    4: \"Use of force\",\n",
    "    5: \"War\"\n",
    "})"
   ]
  },
  {
   "cell_type": "code",
   "execution_count": 54,
   "metadata": {
    "collapsed": true
   },
   "outputs": [],
   "source": [
    "df_hostlev_codes = hostlev_codes.to_frame().rename(columns={0: \"intensity\"})"
   ]
  },
  {
   "cell_type": "code",
   "execution_count": 64,
   "metadata": {},
   "outputs": [
    {
     "data": {
      "text/html": [
       "<div>\n",
       "<style>\n",
       "    .dataframe thead tr:only-child th {\n",
       "        text-align: right;\n",
       "    }\n",
       "\n",
       "    .dataframe thead th {\n",
       "        text-align: left;\n",
       "    }\n",
       "\n",
       "    .dataframe tbody tr th {\n",
       "        vertical-align: top;\n",
       "    }\n",
       "</style>\n",
       "<table border=\"1\" class=\"dataframe\">\n",
       "  <thead>\n",
       "    <tr style=\"text-align: right;\">\n",
       "      <th></th>\n",
       "      <th>hostlev</th>\n",
       "      <th>intensity</th>\n",
       "    </tr>\n",
       "  </thead>\n",
       "  <tbody>\n",
       "    <tr>\n",
       "      <th>0</th>\n",
       "      <td>1</td>\n",
       "      <td>Unknown</td>\n",
       "    </tr>\n",
       "    <tr>\n",
       "      <th>1</th>\n",
       "      <td>1341</td>\n",
       "      <td>No militarized action</td>\n",
       "    </tr>\n",
       "    <tr>\n",
       "      <th>2</th>\n",
       "      <td>216</td>\n",
       "      <td>Threat to use force</td>\n",
       "    </tr>\n",
       "    <tr>\n",
       "      <th>3</th>\n",
       "      <td>1266</td>\n",
       "      <td>Display of force</td>\n",
       "    </tr>\n",
       "    <tr>\n",
       "      <th>4</th>\n",
       "      <td>2366</td>\n",
       "      <td>Use of force</td>\n",
       "    </tr>\n",
       "    <tr>\n",
       "      <th>5</th>\n",
       "      <td>321</td>\n",
       "      <td>War</td>\n",
       "    </tr>\n",
       "  </tbody>\n",
       "</table>\n",
       "</div>"
      ],
      "text/plain": [
       "   hostlev              intensity\n",
       "0        1                Unknown\n",
       "1     1341  No militarized action\n",
       "2      216    Threat to use force\n",
       "3     1266       Display of force\n",
       "4     2366           Use of force\n",
       "5      321                    War"
      ]
     },
     "execution_count": 64,
     "metadata": {},
     "output_type": "execute_result"
    }
   ],
   "source": [
    "df.hostlev.value_counts().to_frame().join(df_hostlev_codes).sort_index()"
   ]
  },
  {
   "cell_type": "code",
   "execution_count": 71,
   "metadata": {},
   "outputs": [
    {
     "data": {
      "text/plain": [
       "<matplotlib.axes._subplots.AxesSubplot at 0x1109c4780>"
      ]
     },
     "execution_count": 71,
     "metadata": {},
     "output_type": "execute_result"
    },
    {
     "data": {
      "image/png": "[encoded data removed]",
      "text/plain": [
       "<matplotlib.figure.Figure at 0x1109dac50>"
      ]
     },
     "metadata": {},
     "output_type": "display_data"
    }
   ],
   "source": [
    "df.hostlev.value_counts().to_frame().join(df_hostlev_codes).sort_index().plot(kind='barh', y=\"hostlev\", x=\"intensity\")"
   ]
  },
  {
   "cell_type": "markdown",
   "metadata": {},
   "source": [
    "Wichtig: mehrere Wege führen zum Ziel. Bsp oben, man könnte den Code auch anders schreiben..."
   ]
  },
  {
   "cell_type": "markdown",
   "metadata": {},
   "source": [
    "## Wir wollen etwas mehr wissen"
   ]
  },
  {
   "cell_type": "markdown",
   "metadata": {},
   "source": [
    "### Zeitdauer von verschiedenen Konflikttypen"
   ]
  },
  {
   "cell_type": "code",
   "execution_count": 91,
   "metadata": {
    "collapsed": true
   },
   "outputs": [],
   "source": [
    "#create one date field out of year/month/day for start and end date\n",
    "df['stdate'] = df.styear.astype(str) + \"/\" + df.stmon.astype(str) + \"/\" + df.stday.astype(str)\n",
    "df['enddate'] = df.endyear.astype(str) + \"/\" + df.endmon.astype(str) + \"/\" + df.endday.astype(str)"
   ]
  },
  {
   "cell_type": "code",
   "execution_count": 97,
   "metadata": {
    "collapsed": true
   },
   "outputs": [],
   "source": [
    "#oops, some days have \"-9\" in them (=unknown dates). replace them with 15 (best guess)\n",
    "df['stdate'] = df.stdate.str.replace(\"-9\",\"15\")\n",
    "df['enddate'] = df.enddate.str.replace(\"-9\",\"15\")"
   ]
  },
  {
   "cell_type": "code",
   "execution_count": 102,
   "metadata": {
    "collapsed": true
   },
   "outputs": [],
   "source": [
    "#convert to datetime\n",
    "df['stdate'] = pd.to_datetime(df.stdate, format=\"%Y/%m/%d\")\n",
    "df['enddate'] = pd.to_datetime(df.enddate, format=\"%Y/%m/%d\")"
   ]
  },
  {
   "cell_type": "code",
   "execution_count": 104,
   "metadata": {
    "collapsed": true
   },
   "outputs": [],
   "source": [
    "#new field for the time difference\n",
    "df['timediff'] = df.enddate - df.stdate"
   ]
  },
  {
   "cell_type": "code",
   "execution_count": 120,
   "metadata": {
    "collapsed": true
   },
   "outputs": [],
   "source": [
    "#get back the days and months\n",
    "df['timediff_days'] = df.timediff.dt.days"
   ]
  },
  {
   "cell_type": "code",
   "execution_count": 124,
   "metadata": {},
   "outputs": [
    {
     "data": {
      "text/plain": [
       "<matplotlib.axes._subplots.AxesSubplot at 0x11145e9e8>"
      ]
     },
     "execution_count": 124,
     "metadata": {},
     "output_type": "execute_result"
    },
    {
     "data": {
      "image/png": "[encoded data removed]",
      "text/plain": [
       "<matplotlib.figure.Figure at 0x111268978>"
      ]
     },
     "metadata": {},
     "output_type": "display_data"
    }
   ],
   "source": [
    "df.timediff_days.hist(bins=100, figsize=(10,5))"
   ]
  },
  {
   "cell_type": "code",
   "execution_count": 125,
   "metadata": {},
   "outputs": [
    {
     "data": {
      "text/plain": [
       "count                        5511\n",
       "mean     172 days 05:25:18.780620\n",
       "std      382 days 07:26:50.820520\n",
       "min            -14 days +00:00:00\n",
       "25%               0 days 00:00:00\n",
       "50%              40 days 00:00:00\n",
       "75%             182 days 00:00:00\n",
       "max            4903 days 00:00:00\n",
       "Name: timediff, dtype: object"
      ]
     },
     "execution_count": 125,
     "metadata": {},
     "output_type": "execute_result"
    }
   ],
   "source": [
    "df.timediff.describe()"
   ]
  },
  {
   "cell_type": "markdown",
   "metadata": {},
   "source": [
    "### Welche Länder haben Konflikte angefangen?"
   ]
  },
  {
   "cell_type": "code",
   "execution_count": 129,
   "metadata": {},
   "outputs": [
    {
     "data": {
      "text/plain": [
       "stabb\n",
       "LBR    1.000000\n",
       "CRO    1.000000\n",
       "PAP    1.000000\n",
       "PAR    1.000000\n",
       "HAI    1.000000\n",
       "PNG    1.000000\n",
       "GUY    1.000000\n",
       "PRK    1.000000\n",
       "GRN    1.000000\n",
       "GNB    1.000000\n",
       "GHA    1.000000\n",
       "GAM    1.000000\n",
       "GAB    1.000000\n",
       "RWA    1.000000\n",
       "ERI    1.000000\n",
       "EQG    1.000000\n",
       "MAA    1.000000\n",
       "DJI    1.000000\n",
       "SIN    1.000000\n",
       "PAN    1.000000\n",
       "PAL    1.000000\n",
       "IND    1.000000\n",
       "MLI    1.000000\n",
       "MAD    1.000000\n",
       "MAG    1.000000\n",
       "MAL    1.000000\n",
       "MAW    1.000000\n",
       "LEB    1.000000\n",
       "LAO    1.000000\n",
       "MLD    1.000000\n",
       "         ...   \n",
       "POL    0.666667\n",
       "QAT    0.666667\n",
       "BEL    0.636364\n",
       "RUM    0.606061\n",
       "LUX    0.600000\n",
       "SIC    0.600000\n",
       "OMA    0.545455\n",
       "BAH    0.500000\n",
       "MAC    0.500000\n",
       "SLO    0.500000\n",
       "NAM    0.500000\n",
       "TUS    0.500000\n",
       "HSE    0.500000\n",
       "UAE    0.454545\n",
       "SAX    0.400000\n",
       "AUL    0.357143\n",
       "HAN    0.250000\n",
       "MEC    0.000000\n",
       "MOD    0.000000\n",
       "JAM    0.000000\n",
       "NEW    0.000000\n",
       "SVG    0.000000\n",
       "HSG    0.000000\n",
       "BAD    0.000000\n",
       "BAR    0.000000\n",
       "BAV    0.000000\n",
       "WRT    0.000000\n",
       "DMA    0.000000\n",
       "SLU    0.000000\n",
       "AAB    0.000000\n",
       "Name: orig, Length: 195, dtype: float64"
      ]
     },
     "execution_count": 129,
     "metadata": {},
     "output_type": "execute_result"
    }
   ],
   "source": [
    "#field 'orig' has 1 if country 'originated' the conlfict (whatever this means)\n",
    "df.groupby('stabb')['orig'].mean().sort_values(ascending=False)"
   ]
  },
  {
   "cell_type": "code",
   "execution_count": 132,
   "metadata": {
    "collapsed": true
   },
   "outputs": [],
   "source": [
    "#look only at the 10 countries with most conflicts\n",
    "top10 = df.stabb.value_counts().head(10).keys()"
   ]
  },
  {
   "cell_type": "code",
   "execution_count": 134,
   "metadata": {},
   "outputs": [
    {
     "data": {
      "text/plain": [
       "stabb\n",
       "IRN    0.986755\n",
       "CHN    0.954128\n",
       "JPN    0.953642\n",
       "TUR    0.906832\n",
       "USR    0.863281\n",
       "GMY    0.846626\n",
       "USA    0.831776\n",
       "UKG    0.794979\n",
       "ITA    0.764706\n",
       "FRN    0.763636\n",
       "Name: orig, dtype: float64"
      ]
     },
     "execution_count": 134,
     "metadata": {},
     "output_type": "execute_result"
    }
   ],
   "source": [
    "df[df.stabb.isin(top10)].groupby('stabb')['orig'].mean().sort_values(ascending=False)"
   ]
  },
  {
   "cell_type": "markdown",
   "metadata": {},
   "source": [
    "**Wer zur Hölle ist IRN?**\n",
    "\n",
    "-> Die Auswertung ist nur so gut wie die Info, die in der Datenbank drin ist\n",
    "-> Pandas selbst beantwortet in den seltensten Fällen alles"
   ]
  },
  {
   "cell_type": "code",
   "execution_count": 140,
   "metadata": {},
   "outputs": [
    {
     "data": {
      "text/html": [
       "<div>\n",
       "<style>\n",
       "    .dataframe thead tr:only-child th {\n",
       "        text-align: right;\n",
       "    }\n",
       "\n",
       "    .dataframe thead th {\n",
       "        text-align: left;\n",
       "    }\n",
       "\n",
       "    .dataframe tbody tr th {\n",
       "        vertical-align: top;\n",
       "    }\n",
       "</style>\n",
       "<table border=\"1\" class=\"dataframe\">\n",
       "  <thead>\n",
       "    <tr style=\"text-align: right;\">\n",
       "      <th></th>\n",
       "      <th>dispnum3</th>\n",
       "      <th>dispnum4</th>\n",
       "      <th>stabb</th>\n",
       "      <th>ccode</th>\n",
       "      <th>stday</th>\n",
       "      <th>stmon</th>\n",
       "      <th>styear</th>\n",
       "      <th>endday</th>\n",
       "      <th>endmon</th>\n",
       "      <th>endyear</th>\n",
       "      <th>...</th>\n",
       "      <th>hostlev</th>\n",
       "      <th>orig</th>\n",
       "      <th>version</th>\n",
       "      <th>changes_1</th>\n",
       "      <th>changes_2</th>\n",
       "      <th>changes_3</th>\n",
       "      <th>stdate</th>\n",
       "      <th>enddate</th>\n",
       "      <th>timediff</th>\n",
       "      <th>timediff_days</th>\n",
       "    </tr>\n",
       "  </thead>\n",
       "  <tbody>\n",
       "    <tr>\n",
       "      <th>8</th>\n",
       "      <td>8</td>\n",
       "      <td>-9</td>\n",
       "      <td>IRN</td>\n",
       "      <td>630</td>\n",
       "      <td>-9</td>\n",
       "      <td>7</td>\n",
       "      <td>1856</td>\n",
       "      <td>5</td>\n",
       "      <td>4</td>\n",
       "      <td>1857</td>\n",
       "      <td>...</td>\n",
       "      <td>5</td>\n",
       "      <td>1</td>\n",
       "      <td>4.2</td>\n",
       "      <td>1</td>\n",
       "      <td>2</td>\n",
       "      <td>0</td>\n",
       "      <td>1856-07-15</td>\n",
       "      <td>1857-04-05</td>\n",
       "      <td>264 days</td>\n",
       "      <td>264</td>\n",
       "    </tr>\n",
       "    <tr>\n",
       "      <th>36</th>\n",
       "      <td>20</td>\n",
       "      <td>-9</td>\n",
       "      <td>IRN</td>\n",
       "      <td>630</td>\n",
       "      <td>18</td>\n",
       "      <td>11</td>\n",
       "      <td>1945</td>\n",
       "      <td>9</td>\n",
       "      <td>5</td>\n",
       "      <td>1946</td>\n",
       "      <td>...</td>\n",
       "      <td>1</td>\n",
       "      <td>1</td>\n",
       "      <td>4.2</td>\n",
       "      <td>0</td>\n",
       "      <td>0</td>\n",
       "      <td>0</td>\n",
       "      <td>1945-11-18</td>\n",
       "      <td>1946-05-09</td>\n",
       "      <td>172 days</td>\n",
       "      <td>172</td>\n",
       "    </tr>\n",
       "    <tr>\n",
       "      <th>203</th>\n",
       "      <td>122</td>\n",
       "      <td>-9</td>\n",
       "      <td>IRN</td>\n",
       "      <td>630</td>\n",
       "      <td>29</td>\n",
       "      <td>6</td>\n",
       "      <td>1961</td>\n",
       "      <td>29</td>\n",
       "      <td>6</td>\n",
       "      <td>1961</td>\n",
       "      <td>...</td>\n",
       "      <td>1</td>\n",
       "      <td>0</td>\n",
       "      <td>4.2</td>\n",
       "      <td>0</td>\n",
       "      <td>0</td>\n",
       "      <td>0</td>\n",
       "      <td>1961-06-29</td>\n",
       "      <td>1961-06-29</td>\n",
       "      <td>0 days</td>\n",
       "      <td>0</td>\n",
       "    </tr>\n",
       "    <tr>\n",
       "      <th>315</th>\n",
       "      <td>165</td>\n",
       "      <td>-9</td>\n",
       "      <td>IRN</td>\n",
       "      <td>630</td>\n",
       "      <td>2</td>\n",
       "      <td>11</td>\n",
       "      <td>1911</td>\n",
       "      <td>29</td>\n",
       "      <td>9</td>\n",
       "      <td>1912</td>\n",
       "      <td>...</td>\n",
       "      <td>4</td>\n",
       "      <td>1</td>\n",
       "      <td>4.2</td>\n",
       "      <td>0</td>\n",
       "      <td>0</td>\n",
       "      <td>0</td>\n",
       "      <td>1911-11-02</td>\n",
       "      <td>1912-09-29</td>\n",
       "      <td>332 days</td>\n",
       "      <td>332</td>\n",
       "    </tr>\n",
       "    <tr>\n",
       "      <th>317</th>\n",
       "      <td>166</td>\n",
       "      <td>-9</td>\n",
       "      <td>IRN</td>\n",
       "      <td>630</td>\n",
       "      <td>16</td>\n",
       "      <td>4</td>\n",
       "      <td>1908</td>\n",
       "      <td>17</td>\n",
       "      <td>6</td>\n",
       "      <td>1908</td>\n",
       "      <td>...</td>\n",
       "      <td>1</td>\n",
       "      <td>1</td>\n",
       "      <td>4.2</td>\n",
       "      <td>0</td>\n",
       "      <td>0</td>\n",
       "      <td>0</td>\n",
       "      <td>1908-04-16</td>\n",
       "      <td>1908-06-17</td>\n",
       "      <td>62 days</td>\n",
       "      <td>62</td>\n",
       "    </tr>\n",
       "    <tr>\n",
       "      <th>557</th>\n",
       "      <td>313</td>\n",
       "      <td>-9</td>\n",
       "      <td>IRN</td>\n",
       "      <td>630</td>\n",
       "      <td>15</td>\n",
       "      <td>3</td>\n",
       "      <td>1910</td>\n",
       "      <td>14</td>\n",
       "      <td>10</td>\n",
       "      <td>1910</td>\n",
       "      <td>...</td>\n",
       "      <td>1</td>\n",
       "      <td>1</td>\n",
       "      <td>4.2</td>\n",
       "      <td>0</td>\n",
       "      <td>0</td>\n",
       "      <td>0</td>\n",
       "      <td>1910-03-15</td>\n",
       "      <td>1910-10-14</td>\n",
       "      <td>213 days</td>\n",
       "      <td>213</td>\n",
       "    </tr>\n",
       "    <tr>\n",
       "      <th>752</th>\n",
       "      <td>523</td>\n",
       "      <td>-9</td>\n",
       "      <td>IRN</td>\n",
       "      <td>630</td>\n",
       "      <td>16</td>\n",
       "      <td>8</td>\n",
       "      <td>1941</td>\n",
       "      <td>29</td>\n",
       "      <td>1</td>\n",
       "      <td>1942</td>\n",
       "      <td>...</td>\n",
       "      <td>4</td>\n",
       "      <td>1</td>\n",
       "      <td>4.2</td>\n",
       "      <td>0</td>\n",
       "      <td>0</td>\n",
       "      <td>0</td>\n",
       "      <td>1941-08-16</td>\n",
       "      <td>1942-01-29</td>\n",
       "      <td>166 days</td>\n",
       "      <td>166</td>\n",
       "    </tr>\n",
       "    <tr>\n",
       "      <th>756</th>\n",
       "      <td>603</td>\n",
       "      <td>-9</td>\n",
       "      <td>IRN</td>\n",
       "      <td>630</td>\n",
       "      <td>2</td>\n",
       "      <td>8</td>\n",
       "      <td>1946</td>\n",
       "      <td>3</td>\n",
       "      <td>8</td>\n",
       "      <td>1946</td>\n",
       "      <td>...</td>\n",
       "      <td>1</td>\n",
       "      <td>1</td>\n",
       "      <td>4.2</td>\n",
       "      <td>0</td>\n",
       "      <td>0</td>\n",
       "      <td>0</td>\n",
       "      <td>1946-08-02</td>\n",
       "      <td>1946-08-03</td>\n",
       "      <td>1 days</td>\n",
       "      <td>1</td>\n",
       "    </tr>\n",
       "    <tr>\n",
       "      <th>992</th>\n",
       "      <td>1131</td>\n",
       "      <td>-9</td>\n",
       "      <td>IRN</td>\n",
       "      <td>630</td>\n",
       "      <td>15</td>\n",
       "      <td>11</td>\n",
       "      <td>1914</td>\n",
       "      <td>20</td>\n",
       "      <td>3</td>\n",
       "      <td>1917</td>\n",
       "      <td>...</td>\n",
       "      <td>4</td>\n",
       "      <td>1</td>\n",
       "      <td>4.2</td>\n",
       "      <td>0</td>\n",
       "      <td>0</td>\n",
       "      <td>0</td>\n",
       "      <td>1914-11-15</td>\n",
       "      <td>1917-03-20</td>\n",
       "      <td>856 days</td>\n",
       "      <td>856</td>\n",
       "    </tr>\n",
       "    <tr>\n",
       "      <th>994</th>\n",
       "      <td>1132</td>\n",
       "      <td>-9</td>\n",
       "      <td>IRN</td>\n",
       "      <td>630</td>\n",
       "      <td>3</td>\n",
       "      <td>11</td>\n",
       "      <td>1918</td>\n",
       "      <td>3</td>\n",
       "      <td>11</td>\n",
       "      <td>1918</td>\n",
       "      <td>...</td>\n",
       "      <td>4</td>\n",
       "      <td>1</td>\n",
       "      <td>4.2</td>\n",
       "      <td>0</td>\n",
       "      <td>0</td>\n",
       "      <td>0</td>\n",
       "      <td>1918-11-03</td>\n",
       "      <td>1918-11-03</td>\n",
       "      <td>0 days</td>\n",
       "      <td>0</td>\n",
       "    </tr>\n",
       "  </tbody>\n",
       "</table>\n",
       "<p>10 rows × 27 columns</p>\n",
       "</div>"
      ],
      "text/plain": [
       "     dispnum3  dispnum4 stabb  ccode  stday  stmon  styear  endday  endmon  \\\n",
       "8           8        -9   IRN    630     -9      7    1856       5       4   \n",
       "36         20        -9   IRN    630     18     11    1945       9       5   \n",
       "203       122        -9   IRN    630     29      6    1961      29       6   \n",
       "315       165        -9   IRN    630      2     11    1911      29       9   \n",
       "317       166        -9   IRN    630     16      4    1908      17       6   \n",
       "557       313        -9   IRN    630     15      3    1910      14      10   \n",
       "752       523        -9   IRN    630     16      8    1941      29       1   \n",
       "756       603        -9   IRN    630      2      8    1946       3       8   \n",
       "992      1131        -9   IRN    630     15     11    1914      20       3   \n",
       "994      1132        -9   IRN    630      3     11    1918       3      11   \n",
       "\n",
       "     endyear      ...        hostlev  orig  version  changes_1  changes_2  \\\n",
       "8       1857      ...              5     1      4.2          1          2   \n",
       "36      1946      ...              1     1      4.2          0          0   \n",
       "203     1961      ...              1     0      4.2          0          0   \n",
       "315     1912      ...              4     1      4.2          0          0   \n",
       "317     1908      ...              1     1      4.2          0          0   \n",
       "557     1910      ...              1     1      4.2          0          0   \n",
       "752     1942      ...              4     1      4.2          0          0   \n",
       "756     1946      ...              1     1      4.2          0          0   \n",
       "992     1917      ...              4     1      4.2          0          0   \n",
       "994     1918      ...              4     1      4.2          0          0   \n",
       "\n",
       "     changes_3     stdate    enddate  timediff  timediff_days  \n",
       "8            0 1856-07-15 1857-04-05  264 days            264  \n",
       "36           0 1945-11-18 1946-05-09  172 days            172  \n",
       "203          0 1961-06-29 1961-06-29    0 days              0  \n",
       "315          0 1911-11-02 1912-09-29  332 days            332  \n",
       "317          0 1908-04-16 1908-06-17   62 days             62  \n",
       "557          0 1910-03-15 1910-10-14  213 days            213  \n",
       "752          0 1941-08-16 1942-01-29  166 days            166  \n",
       "756          0 1946-08-02 1946-08-03    1 days              1  \n",
       "992          0 1914-11-15 1917-03-20  856 days            856  \n",
       "994          0 1918-11-03 1918-11-03    0 days              0  \n",
       "\n",
       "[10 rows x 27 columns]"
      ]
     },
     "execution_count": 140,
     "metadata": {},
     "output_type": "execute_result"
    }
   ],
   "source": [
    "df_irn = df[df.stabb == 'IRN']\n",
    "df_irn.head(10)"
   ]
  },
  {
   "cell_type": "markdown",
   "metadata": {},
   "source": [
    "IRN has country code 630\n",
    "- could be Iran\n",
    "- or Puerto Rico ??"
   ]
  },
  {
   "cell_type": "code",
   "execution_count": 141,
   "metadata": {},
   "outputs": [
    {
     "data": {
      "text/plain": [
       "<matplotlib.axes._subplots.AxesSubplot at 0x110eec278>"
      ]
     },
     "execution_count": 141,
     "metadata": {},
     "output_type": "execute_result"
    },
    {
     "data": {
      "image/png": "[encoded data removed]",
      "text/plain": [
       "<matplotlib.figure.Figure at 0x111888080>"
      ]
     },
     "metadata": {},
     "output_type": "display_data"
    }
   ],
   "source": [
    "df_irn.styear.value_counts().sort_index().plot()"
   ]
  },
  {
   "cell_type": "markdown",
   "metadata": {},
   "source": [
    "Looks like it is Iran after all..."
   ]
  },
  {
   "cell_type": "markdown",
   "metadata": {},
   "source": [
    "### Was für Konflikte hat Iran geführt?"
   ]
  },
  {
   "cell_type": "code",
   "execution_count": 139,
   "metadata": {},
   "outputs": [
    {
     "data": {
      "text/html": [
       "<div>\n",
       "<style>\n",
       "    .dataframe thead tr:only-child th {\n",
       "        text-align: right;\n",
       "    }\n",
       "\n",
       "    .dataframe thead th {\n",
       "        text-align: left;\n",
       "    }\n",
       "\n",
       "    .dataframe tbody tr th {\n",
       "        vertical-align: top;\n",
       "    }\n",
       "</style>\n",
       "<table border=\"1\" class=\"dataframe\">\n",
       "  <thead>\n",
       "    <tr style=\"text-align: right;\">\n",
       "      <th></th>\n",
       "      <th>intensity</th>\n",
       "    </tr>\n",
       "  </thead>\n",
       "  <tbody>\n",
       "    <tr>\n",
       "      <th>0</th>\n",
       "      <td>Unknown</td>\n",
       "    </tr>\n",
       "    <tr>\n",
       "      <th>1</th>\n",
       "      <td>No militarized action</td>\n",
       "    </tr>\n",
       "    <tr>\n",
       "      <th>2</th>\n",
       "      <td>Threat to use force</td>\n",
       "    </tr>\n",
       "    <tr>\n",
       "      <th>3</th>\n",
       "      <td>Display of force</td>\n",
       "    </tr>\n",
       "    <tr>\n",
       "      <th>4</th>\n",
       "      <td>Use of force</td>\n",
       "    </tr>\n",
       "    <tr>\n",
       "      <th>5</th>\n",
       "      <td>War</td>\n",
       "    </tr>\n",
       "  </tbody>\n",
       "</table>\n",
       "</div>"
      ],
      "text/plain": [
       "               intensity\n",
       "0                Unknown\n",
       "1  No militarized action\n",
       "2    Threat to use force\n",
       "3       Display of force\n",
       "4           Use of force\n",
       "5                    War"
      ]
     },
     "execution_count": 139,
     "metadata": {},
     "output_type": "execute_result"
    }
   ],
   "source": [
    "#We still have our hostlev_codes...\n",
    "df_hostlev_codes"
   ]
  },
  {
   "cell_type": "code",
   "execution_count": 142,
   "metadata": {},
   "outputs": [
    {
     "data": {
      "text/html": [
       "<div>\n",
       "<style>\n",
       "    .dataframe thead tr:only-child th {\n",
       "        text-align: right;\n",
       "    }\n",
       "\n",
       "    .dataframe thead th {\n",
       "        text-align: left;\n",
       "    }\n",
       "\n",
       "    .dataframe tbody tr th {\n",
       "        vertical-align: top;\n",
       "    }\n",
       "</style>\n",
       "<table border=\"1\" class=\"dataframe\">\n",
       "  <thead>\n",
       "    <tr style=\"text-align: right;\">\n",
       "      <th></th>\n",
       "      <th>hostlev</th>\n",
       "      <th>intensity</th>\n",
       "    </tr>\n",
       "  </thead>\n",
       "  <tbody>\n",
       "    <tr>\n",
       "      <th>1</th>\n",
       "      <td>21</td>\n",
       "      <td>No militarized action</td>\n",
       "    </tr>\n",
       "    <tr>\n",
       "      <th>2</th>\n",
       "      <td>3</td>\n",
       "      <td>Threat to use force</td>\n",
       "    </tr>\n",
       "    <tr>\n",
       "      <th>3</th>\n",
       "      <td>25</td>\n",
       "      <td>Display of force</td>\n",
       "    </tr>\n",
       "    <tr>\n",
       "      <th>4</th>\n",
       "      <td>100</td>\n",
       "      <td>Use of force</td>\n",
       "    </tr>\n",
       "    <tr>\n",
       "      <th>5</th>\n",
       "      <td>2</td>\n",
       "      <td>War</td>\n",
       "    </tr>\n",
       "  </tbody>\n",
       "</table>\n",
       "</div>"
      ],
      "text/plain": [
       "   hostlev              intensity\n",
       "1       21  No militarized action\n",
       "2        3    Threat to use force\n",
       "3       25       Display of force\n",
       "4      100           Use of force\n",
       "5        2                    War"
      ]
     },
     "execution_count": 142,
     "metadata": {},
     "output_type": "execute_result"
    }
   ],
   "source": [
    "df_irn.hostlev.value_counts().to_frame().join(df_hostlev_codes).sort_index()"
   ]
  },
  {
   "cell_type": "code",
   "execution_count": 144,
   "metadata": {},
   "outputs": [
    {
     "data": {
      "text/plain": [
       "<matplotlib.axes._subplots.AxesSubplot at 0x111d394a8>"
      ]
     },
     "execution_count": 144,
     "metadata": {},
     "output_type": "execute_result"
    },
    {
     "data": {
      "image/png": "[encoded data removed]",
      "text/plain": [
       "<matplotlib.figure.Figure at 0x111633668>"
      ]
     },
     "metadata": {},
     "output_type": "display_data"
    }
   ],
   "source": [
    "df_irn.hostlev.value_counts().to_frame().join(df_hostlev_codes).sort_index().plot(kind='barh', y=\"hostlev\", x=\"intensity\")"
   ]
  },
  {
   "cell_type": "markdown",
   "metadata": {},
   "source": [
    "### Wie viele Tote gab es dabei?"
   ]
  },
  {
   "cell_type": "markdown",
   "metadata": {},
   "source": [
    "Variante 1: Wir benutzen das Feld 'fatality' (Klassen)"
   ]
  },
  {
   "cell_type": "code",
   "execution_count": 153,
   "metadata": {
    "collapsed": true
   },
   "outputs": [],
   "source": [
    "fatality_codes = pd.Series({\n",
    "    0: \"None\",\n",
    "    1: \"1-25 deaths\",\n",
    "    2: \"26-100 deaths\",\n",
    "    3: \"101-250 deaths\",\n",
    "    4: \"251-500 deaths\",\n",
    "    5: \"501-999 deaths\",\n",
    "    6: \"More than 999 deaths\",\n",
    "    -9: \"Unknown\"\n",
    "})"
   ]
  },
  {
   "cell_type": "code",
   "execution_count": 154,
   "metadata": {},
   "outputs": [
    {
     "data": {
      "text/html": [
       "<div>\n",
       "<style>\n",
       "    .dataframe thead tr:only-child th {\n",
       "        text-align: right;\n",
       "    }\n",
       "\n",
       "    .dataframe thead th {\n",
       "        text-align: left;\n",
       "    }\n",
       "\n",
       "    .dataframe tbody tr th {\n",
       "        vertical-align: top;\n",
       "    }\n",
       "</style>\n",
       "<table border=\"1\" class=\"dataframe\">\n",
       "  <thead>\n",
       "    <tr style=\"text-align: right;\">\n",
       "      <th></th>\n",
       "      <th>fatalities</th>\n",
       "    </tr>\n",
       "  </thead>\n",
       "  <tbody>\n",
       "    <tr>\n",
       "      <th>-9</th>\n",
       "      <td>Unknown</td>\n",
       "    </tr>\n",
       "    <tr>\n",
       "      <th>0</th>\n",
       "      <td>None</td>\n",
       "    </tr>\n",
       "    <tr>\n",
       "      <th>1</th>\n",
       "      <td>1-25 deaths</td>\n",
       "    </tr>\n",
       "    <tr>\n",
       "      <th>2</th>\n",
       "      <td>26-100 deaths</td>\n",
       "    </tr>\n",
       "    <tr>\n",
       "      <th>3</th>\n",
       "      <td>101-250 deaths</td>\n",
       "    </tr>\n",
       "    <tr>\n",
       "      <th>4</th>\n",
       "      <td>251-500 deaths</td>\n",
       "    </tr>\n",
       "    <tr>\n",
       "      <th>5</th>\n",
       "      <td>501-999 deaths</td>\n",
       "    </tr>\n",
       "    <tr>\n",
       "      <th>6</th>\n",
       "      <td>More than 999 deaths</td>\n",
       "    </tr>\n",
       "  </tbody>\n",
       "</table>\n",
       "</div>"
      ],
      "text/plain": [
       "              fatalities\n",
       "-9               Unknown\n",
       " 0                  None\n",
       " 1           1-25 deaths\n",
       " 2         26-100 deaths\n",
       " 3        101-250 deaths\n",
       " 4        251-500 deaths\n",
       " 5        501-999 deaths\n",
       " 6  More than 999 deaths"
      ]
     },
     "execution_count": 154,
     "metadata": {},
     "output_type": "execute_result"
    }
   ],
   "source": [
    "df_fatality_codes = fatality_codes.to_frame().rename(columns={0: \"fatalities\"})\n",
    "df_fatality_codes"
   ]
  },
  {
   "cell_type": "code",
   "execution_count": 158,
   "metadata": {},
   "outputs": [
    {
     "data": {
      "text/html": [
       "<div>\n",
       "<style>\n",
       "    .dataframe thead tr:only-child th {\n",
       "        text-align: right;\n",
       "    }\n",
       "\n",
       "    .dataframe thead th {\n",
       "        text-align: left;\n",
       "    }\n",
       "\n",
       "    .dataframe tbody tr th {\n",
       "        vertical-align: top;\n",
       "    }\n",
       "</style>\n",
       "<table border=\"1\" class=\"dataframe\">\n",
       "  <thead>\n",
       "    <tr style=\"text-align: right;\">\n",
       "      <th></th>\n",
       "      <th>number</th>\n",
       "    </tr>\n",
       "  </thead>\n",
       "  <tbody>\n",
       "    <tr>\n",
       "      <th>0</th>\n",
       "      <td>121</td>\n",
       "    </tr>\n",
       "    <tr>\n",
       "      <th>1</th>\n",
       "      <td>15</td>\n",
       "    </tr>\n",
       "    <tr>\n",
       "      <th>-9</th>\n",
       "      <td>11</td>\n",
       "    </tr>\n",
       "    <tr>\n",
       "      <th>6</th>\n",
       "      <td>2</td>\n",
       "    </tr>\n",
       "    <tr>\n",
       "      <th>2</th>\n",
       "      <td>2</td>\n",
       "    </tr>\n",
       "  </tbody>\n",
       "</table>\n",
       "</div>"
      ],
      "text/plain": [
       "    number\n",
       " 0     121\n",
       " 1      15\n",
       "-9      11\n",
       " 6       2\n",
       " 2       2"
      ]
     },
     "execution_count": 158,
     "metadata": {},
     "output_type": "execute_result"
    }
   ],
   "source": [
    "df_irn_fatality = df_irn.fatality.value_counts().to_frame().rename(columns={'fatality': 'number'})\n",
    "df_irn_fatality"
   ]
  },
  {
   "cell_type": "code",
   "execution_count": 159,
   "metadata": {},
   "outputs": [
    {
     "data": {
      "text/html": [
       "<div>\n",
       "<style>\n",
       "    .dataframe thead tr:only-child th {\n",
       "        text-align: right;\n",
       "    }\n",
       "\n",
       "    .dataframe thead th {\n",
       "        text-align: left;\n",
       "    }\n",
       "\n",
       "    .dataframe tbody tr th {\n",
       "        vertical-align: top;\n",
       "    }\n",
       "</style>\n",
       "<table border=\"1\" class=\"dataframe\">\n",
       "  <thead>\n",
       "    <tr style=\"text-align: right;\">\n",
       "      <th></th>\n",
       "      <th>number</th>\n",
       "      <th>fatalities</th>\n",
       "    </tr>\n",
       "  </thead>\n",
       "  <tbody>\n",
       "    <tr>\n",
       "      <th>-9</th>\n",
       "      <td>11</td>\n",
       "      <td>Unknown</td>\n",
       "    </tr>\n",
       "    <tr>\n",
       "      <th>0</th>\n",
       "      <td>121</td>\n",
       "      <td>None</td>\n",
       "    </tr>\n",
       "    <tr>\n",
       "      <th>1</th>\n",
       "      <td>15</td>\n",
       "      <td>1-25 deaths</td>\n",
       "    </tr>\n",
       "    <tr>\n",
       "      <th>2</th>\n",
       "      <td>2</td>\n",
       "      <td>26-100 deaths</td>\n",
       "    </tr>\n",
       "    <tr>\n",
       "      <th>6</th>\n",
       "      <td>2</td>\n",
       "      <td>More than 999 deaths</td>\n",
       "    </tr>\n",
       "  </tbody>\n",
       "</table>\n",
       "</div>"
      ],
      "text/plain": [
       "    number            fatalities\n",
       "-9      11               Unknown\n",
       " 0     121                  None\n",
       " 1      15           1-25 deaths\n",
       " 2       2         26-100 deaths\n",
       " 6       2  More than 999 deaths"
      ]
     },
     "execution_count": 159,
     "metadata": {},
     "output_type": "execute_result"
    }
   ],
   "source": [
    "df_irn_fatality.join(df_fatality_codes).sort_index()"
   ]
  },
  {
   "cell_type": "code",
   "execution_count": 161,
   "metadata": {},
   "outputs": [
    {
     "data": {
      "text/plain": [
       "<matplotlib.axes._subplots.AxesSubplot at 0x111010748>"
      ]
     },
     "execution_count": 161,
     "metadata": {},
     "output_type": "execute_result"
    },
    {
     "data": {
      "image/png": "[encoded data removed]",
      "text/plain": [
       "<matplotlib.figure.Figure at 0x111e672b0>"
      ]
     },
     "metadata": {},
     "output_type": "display_data"
    }
   ],
   "source": [
    "df_irn_fatality.join(df_fatality_codes).sort_index().plot(kind='barh', y=\"number\", x=\"fatalities\")"
   ]
  },
  {
   "cell_type": "markdown",
   "metadata": {},
   "source": [
    "Iran hat zwei Kriege mit über 100 Toten gehabt"
   ]
  },
  {
   "cell_type": "markdown",
   "metadata": {},
   "source": [
    "Variante 2: Wir benutzen das Feld 'fatalpre' (präzise Zahl)"
   ]
  },
  {
   "cell_type": "code",
   "execution_count": 165,
   "metadata": {},
   "outputs": [
    {
     "data": {
      "text/plain": [
       "8     -9\n",
       "36     0\n",
       "203    0\n",
       "315   -9\n",
       "317    0\n",
       "557    0\n",
       "752   -9\n",
       "756    0\n",
       "992   -9\n",
       "994    0\n",
       "Name: fatalpre, dtype: int64"
      ]
     },
     "execution_count": 165,
     "metadata": {},
     "output_type": "execute_result"
    }
   ],
   "source": [
    "#most fatalities are zero or unknown\n",
    "df_irn.fatalpre.head(10)"
   ]
  },
  {
   "cell_type": "code",
   "execution_count": 166,
   "metadata": {},
   "outputs": [
    {
     "data": {
      "text/plain": [
       "count    151.000000\n",
       "mean       0.238411\n",
       "std        1.938070\n",
       "min        0.000000\n",
       "25%        0.000000\n",
       "50%        0.000000\n",
       "75%        0.000000\n",
       "max       20.000000\n",
       "Name: fatalpre, dtype: float64"
      ]
     },
     "execution_count": 166,
     "metadata": {},
     "output_type": "execute_result"
    }
   ],
   "source": [
    "#to sum them up, we replace -9 with 0\n",
    "df_irn.fatalpre.replace(-9,0).describe()"
   ]
  },
  {
   "cell_type": "markdown",
   "metadata": {},
   "source": [
    "Die maximale Anzahl ist mit 20 angegeben -> das Feld eignet sich offensichtlich nicht, um das Total zu bilden"
   ]
  },
  {
   "cell_type": "markdown",
   "metadata": {},
   "source": [
    "## Daten exportieren und anderweitig verwenden"
   ]
  },
  {
   "cell_type": "markdown",
   "metadata": {},
   "source": [
    "Sagen wir mal, wir schreiben gerade einen Artikel über die Geschichte der Kriege.\n",
    "- Nehmen wir an, wir möchten die Grafik online mit 'infogram' weiterverbreiten\n",
    "- Wir möchten für eine interaktive Web-Grafk aufzeigen, welche Länder in wie viele Kriege verwickelt waren\n",
    "- Uns interessieren die 10 Länder, die am häufigsten in den Hostility Kategorien 4 und 5 drin waren\n",
    "- Wir wollen das 19. und das 20. Jahrhundert separat anschauen"
   ]
  },
  {
   "cell_type": "markdown",
   "metadata": {},
   "source": [
    "### Daten vorbereiten"
   ]
  },
  {
   "cell_type": "code",
   "execution_count": 212,
   "metadata": {
    "collapsed": true
   },
   "outputs": [],
   "source": [
    "# Select only level 4 and 5 types\n",
    "df_45 = df[df.hostlev.isin([4, 5])]"
   ]
  },
  {
   "cell_type": "code",
   "execution_count": 213,
   "metadata": {},
   "outputs": [
    {
     "data": {
      "text/plain": [
       "Index(['USR', 'USA', 'CHN', 'IRN', 'UKG', 'GMY', 'FRN', 'IRQ', 'ISR', 'TUR'], dtype='object')"
      ]
     },
     "execution_count": 213,
     "metadata": {},
     "output_type": "execute_result"
    }
   ],
   "source": [
    "# Which are the top 10 countries?\n",
    "top10 = df_45.stabb.value_counts().head(10).keys()\n",
    "top10"
   ]
  },
  {
   "cell_type": "code",
   "execution_count": 214,
   "metadata": {},
   "outputs": [
    {
     "name": "stderr",
     "output_type": "stream",
     "text": [
      "/usr/local/lib/python3.6/site-packages/ipykernel_launcher.py:1: UserWarning: Boolean Series key will be reindexed to match DataFrame index.\n",
      "  \"\"\"Entry point for launching an IPython kernel.\n"
     ]
    }
   ],
   "source": [
    "# Select only the top 10 countries\n",
    "df_45_top10 = df_45[df.stabb.isin(top10)]"
   ]
  },
  {
   "cell_type": "code",
   "execution_count": 215,
   "metadata": {},
   "outputs": [
    {
     "name": "stderr",
     "output_type": "stream",
     "text": [
      "/usr/local/lib/python3.6/site-packages/ipykernel_launcher.py:2: SettingWithCopyWarning: \n",
      "A value is trying to be set on a copy of a slice from a DataFrame.\n",
      "Try using .loc[row_indexer,col_indexer] = value instead\n",
      "\n",
      "See the caveats in the documentation: http://pandas.pydata.org/pandas-docs/stable/indexing.html#indexing-view-versus-copy\n",
      "  \n"
     ]
    }
   ],
   "source": [
    "# Create a boolean column if a conflict was in the 19th century\n",
    "df_45_top10['19th'] = df_45_top10.styear < 1901"
   ]
  },
  {
   "cell_type": "code",
   "execution_count": 216,
   "metadata": {},
   "outputs": [
    {
     "name": "stderr",
     "output_type": "stream",
     "text": [
      "/usr/local/lib/python3.6/site-packages/ipykernel_launcher.py:1: SettingWithCopyWarning: \n",
      "A value is trying to be set on a copy of a slice from a DataFrame.\n",
      "Try using .loc[row_indexer,col_indexer] = value instead\n",
      "\n",
      "See the caveats in the documentation: http://pandas.pydata.org/pandas-docs/stable/indexing.html#indexing-view-versus-copy\n",
      "  \"\"\"Entry point for launching an IPython kernel.\n"
     ]
    }
   ],
   "source": [
    "# Create another boolean column if the conflict wasnt in the 19th\n",
    "df_45_top10['20th'] = ~df_45_top10['19th']"
   ]
  },
  {
   "cell_type": "code",
   "execution_count": 218,
   "metadata": {},
   "outputs": [
    {
     "name": "stderr",
     "output_type": "stream",
     "text": [
      "/usr/local/lib/python3.6/site-packages/ipykernel_launcher.py:1: SettingWithCopyWarning: \n",
      "A value is trying to be set on a copy of a slice from a DataFrame.\n",
      "Try using .loc[row_indexer,col_indexer] = value instead\n",
      "\n",
      "See the caveats in the documentation: http://pandas.pydata.org/pandas-docs/stable/indexing.html#indexing-view-versus-copy\n",
      "  \"\"\"Entry point for launching an IPython kernel.\n",
      "/usr/local/lib/python3.6/site-packages/ipykernel_launcher.py:2: SettingWithCopyWarning: \n",
      "A value is trying to be set on a copy of a slice from a DataFrame.\n",
      "Try using .loc[row_indexer,col_indexer] = value instead\n",
      "\n",
      "See the caveats in the documentation: http://pandas.pydata.org/pandas-docs/stable/indexing.html#indexing-view-versus-copy\n",
      "  \n"
     ]
    }
   ],
   "source": [
    "# Transform the boolean columns to integers\n",
    "df_45_top10['c19th'] = df_45_top10['19th'].astype(int)\n",
    "df_45_top10['c20th'] = df_45_top10['20th'].astype(int)"
   ]
  },
  {
   "cell_type": "code",
   "execution_count": 237,
   "metadata": {},
   "outputs": [
    {
     "data": {
      "text/html": [
       "<div>\n",
       "<style>\n",
       "    .dataframe thead tr:only-child th {\n",
       "        text-align: right;\n",
       "    }\n",
       "\n",
       "    .dataframe thead th {\n",
       "        text-align: left;\n",
       "    }\n",
       "\n",
       "    .dataframe tbody tr th {\n",
       "        vertical-align: top;\n",
       "    }\n",
       "</style>\n",
       "<table border=\"1\" class=\"dataframe\">\n",
       "  <thead>\n",
       "    <tr style=\"text-align: right;\">\n",
       "      <th></th>\n",
       "      <th>stabb</th>\n",
       "      <th>19th</th>\n",
       "      <th>20th</th>\n",
       "    </tr>\n",
       "  </thead>\n",
       "  <tbody>\n",
       "    <tr>\n",
       "      <th>7</th>\n",
       "      <td>UKG</td>\n",
       "      <td>29</td>\n",
       "      <td>72</td>\n",
       "    </tr>\n",
       "    <tr>\n",
       "      <th>1</th>\n",
       "      <td>FRN</td>\n",
       "      <td>23</td>\n",
       "      <td>50</td>\n",
       "    </tr>\n",
       "    <tr>\n",
       "      <th>8</th>\n",
       "      <td>USA</td>\n",
       "      <td>16</td>\n",
       "      <td>92</td>\n",
       "    </tr>\n",
       "    <tr>\n",
       "      <th>9</th>\n",
       "      <td>USR</td>\n",
       "      <td>14</td>\n",
       "      <td>110</td>\n",
       "    </tr>\n",
       "    <tr>\n",
       "      <th>2</th>\n",
       "      <td>GMY</td>\n",
       "      <td>12</td>\n",
       "      <td>64</td>\n",
       "    </tr>\n",
       "    <tr>\n",
       "      <th>6</th>\n",
       "      <td>TUR</td>\n",
       "      <td>12</td>\n",
       "      <td>53</td>\n",
       "    </tr>\n",
       "    <tr>\n",
       "      <th>0</th>\n",
       "      <td>CHN</td>\n",
       "      <td>8</td>\n",
       "      <td>96</td>\n",
       "    </tr>\n",
       "    <tr>\n",
       "      <th>3</th>\n",
       "      <td>IRN</td>\n",
       "      <td>1</td>\n",
       "      <td>101</td>\n",
       "    </tr>\n",
       "    <tr>\n",
       "      <th>4</th>\n",
       "      <td>IRQ</td>\n",
       "      <td>0</td>\n",
       "      <td>71</td>\n",
       "    </tr>\n",
       "    <tr>\n",
       "      <th>5</th>\n",
       "      <td>ISR</td>\n",
       "      <td>0</td>\n",
       "      <td>71</td>\n",
       "    </tr>\n",
       "  </tbody>\n",
       "</table>\n",
       "</div>"
      ],
      "text/plain": [
       "  stabb  19th  20th\n",
       "7   UKG    29    72\n",
       "1   FRN    23    50\n",
       "8   USA    16    92\n",
       "9   USR    14   110\n",
       "2   GMY    12    64\n",
       "6   TUR    12    53\n",
       "0   CHN     8    96\n",
       "3   IRN     1   101\n",
       "4   IRQ     0    71\n",
       "5   ISR     0    71"
      ]
     },
     "execution_count": 237,
     "metadata": {},
     "output_type": "execute_result"
    }
   ],
   "source": [
    "# Group by country and sum up the integer columns for both centuries, sort\n",
    "df_chart = df_45_top10.groupby('stabb')[['19th', '20th']].sum().astype(int).reset_index().sort_values('19th', ascending=False)\n",
    "df_chart"
   ]
  },
  {
   "cell_type": "markdown",
   "metadata": {},
   "source": [
    "### Daten exportieren"
   ]
  },
  {
   "cell_type": "code",
   "execution_count": 238,
   "metadata": {
    "collapsed": true
   },
   "outputs": [],
   "source": [
    "df_chart.to_csv('war-chart.csv', index=False)"
   ]
  },
  {
   "cell_type": "markdown",
   "metadata": {},
   "source": [
    "### Das steht in unserem csv-File:"
   ]
  },
  {
   "cell_type": "code",
   "execution_count": 239,
   "metadata": {
    "collapsed": true
   },
   "outputs": [],
   "source": [
    "with open('war-chart.csv', \"r\") as f:\n",
    "    file_content = f.read()"
   ]
  },
  {
   "cell_type": "code",
   "execution_count": 240,
   "metadata": {},
   "outputs": [
    {
     "name": "stdout",
     "output_type": "stream",
     "text": [
      "stabb,19th,20th\n",
      "UKG,29,72\n",
      "FRN,23,50\n",
      "USA,16,92\n",
      "USR,14,110\n",
      "GMY,12,64\n",
      "TUR,12,53\n",
      "CHN,8,96\n",
      "IRN,1,101\n",
      "IRQ,0,71\n",
      "ISR,0,71\n",
      "\n"
     ]
    }
   ],
   "source": [
    "print(file_content)"
   ]
  },
  {
   "cell_type": "markdown",
   "metadata": {},
   "source": [
    "### Online-Chart basteln"
   ]
  },
  {
   "cell_type": "markdown",
   "metadata": {},
   "source": [
    "Go to http://infogram.com"
   ]
  },
  {
   "cell_type": "markdown",
   "metadata": {},
   "source": [
    "Paste the csv data..."
   ]
  },
  {
   "cell_type": "markdown",
   "metadata": {},
   "source": [
    "Results: https://infogram.com/top-10-war-countries-1h0n25ger7jz6pe?live"
   ]
  },
  {
   "cell_type": "code",
   "execution_count": null,
   "metadata": {
    "collapsed": true
   },
   "outputs": [],
   "source": []
  }
 ],
 "metadata": {
  "kernelspec": {
   "display_name": "Python 3",
   "language": "python",
   "name": "python3"
  },
  "language_info": {
   "codemirror_mode": {
    "name": "ipython",
    "version": 3
   },
   "file_extension": ".py",
   "mimetype": "text/x-python",
   "name": "python",
   "nbconvert_exporter": "python",
   "pygments_lexer": "ipython3",
   "version": "3.6.1"
  }
 },
 "nbformat": 4,
 "nbformat_minor": 2
}
