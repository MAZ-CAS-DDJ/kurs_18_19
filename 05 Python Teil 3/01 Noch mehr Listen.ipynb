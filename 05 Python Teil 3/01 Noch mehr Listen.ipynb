{
 "cells": [
  {
   "cell_type": "markdown",
   "metadata": {},
   "source": [
    "# Listen - Was wissen wir noch?"
   ]
  },
  {
   "cell_type": "markdown",
   "metadata": {},
   "source": [
    "## Listen\n",
    "\n",
    "Listen ermöglichen es dir, direkt mehrere Einträge auf einmal zu speichern. Hier z. B. erfassen wir eine Liste von 4 Studierenden:"
   ]
  },
  {
   "cell_type": "code",
   "execution_count": null,
   "metadata": {
    "collapsed": true
   },
   "outputs": [],
   "source": [
    "students = [\"Max\", \"Monika\", \"Erik\", \"Franziska\"]\n",
    "\n",
    "last_student = students.pop()\n",
    "print(last_student)\n",
    "print(students)"
   ]
  },
  {
   "cell_type": "markdown",
   "metadata": {},
   "source": [
    "# Operatoren"
   ]
  },
  {
   "cell_type": "markdown",
   "metadata": {},
   "source": [
    "Über den `+` - Operator kannst du 2 Listen miteinander verknüpfen!"
   ]
  },
  {
   "cell_type": "code",
   "execution_count": 1,
   "metadata": {},
   "outputs": [
    {
     "name": "stdout",
     "output_type": "stream",
     "text": [
      "['Max', 'Monika', 'Erik', 'Franziska', 'ABCDEF']\n"
     ]
    }
   ],
   "source": [
    "students = [\"Max\", \"Monika\", \"Erik\", \"Franziska\"] + [\"ABCDEF\"]\n",
    "print(students)"
   ]
  },
  {
   "cell_type": "markdown",
   "metadata": {},
   "source": [
    "Der `del` - Befehl entfernt einen Eintrag aus einer Liste. Hierbei wird ein Element mit einem bestimmten Index (hier: 4. Element, weil das 4. Element wird über `[3]` angesprochen, weil ja bei 0 angefangen wird zu zählen)"
   ]
  },
  {
   "cell_type": "code",
   "execution_count": 3,
   "metadata": {},
   "outputs": [
    {
     "name": "stdout",
     "output_type": "stream",
     "text": [
      "['Max', 'Monika', 'Erik', 'ABCDEF']\n"
     ]
    }
   ],
   "source": [
    "students = [\"Max\", \"Monika\", \"Erik\", \"Franziska\", \"ABCDEF\"]\n",
    "del students[3]\n",
    "print(students)"
   ]
  },
  {
   "cell_type": "markdown",
   "metadata": {},
   "source": [
    "Der `.remove()` - Befehl entfernt einen Eintrag nach Wert. Sprich, hier wird dann der Eintrag \"Monika\" aus der Liste entfernt."
   ]
  },
  {
   "cell_type": "code",
   "execution_count": 12,
   "metadata": {
    "collapsed": true
   },
   "outputs": [],
   "source": [
    "students = [\"Max\", \"Monika\", \"Erik\", \"Franziska\", \"ABCDEF\"]\n",
    "students.remove(\"Monika\")\n",
    "print(students)"
   ]
  },
  {
   "cell_type": "markdown",
   "metadata": {},
   "source": [
    "## List Comprehensions\n",
    "\n",
    "Mit Hilfe von List Comprehensions kannst du recht einfach eine Liste in eine andere Liste umwandeln. Wir multiplizieren jedes element mit sich selbst. "
   ]
  },
  {
   "cell_type": "code",
   "execution_count": 4,
   "metadata": {},
   "outputs": [
    {
     "name": "stdout",
     "output_type": "stream",
     "text": [
      "[1, 2, 3, 4, 5, 6, 7, 8]\n",
      "[1, 4, 9, 16, 25, 36, 49, 64]\n"
     ]
    }
   ],
   "source": [
    "xs = [1, 2, 3, 4, 5, 6, 7, 8]\n",
    "\n",
    "# Klassisch\n",
    "ys = []\n",
    "for x in xs:\n",
    "    ys.append(x * x)\n",
    "\n",
    "# Als list comprehension\n",
    "ys = [x * x for x in xs]\n",
    "\n",
    "print(xs)\n",
    "print(ys)"
   ]
  },
  {
   "cell_type": "markdown",
   "metadata": {},
   "source": [
    "## Übung \n",
    "Zählt wie viele Buchstaben jeder Name hat als List comprehension."
   ]
  },
  {
   "cell_type": "code",
   "execution_count": 2,
   "metadata": {},
   "outputs": [
    {
     "name": "stdout",
     "output_type": "stream",
     "text": [
      "[3, 6, 4, 9]\n"
     ]
    }
   ],
   "source": [
    "students = [\"Max\", \"Monika\", \"Erik\", \"Franziska\"]\n",
    "\n",
    "# Klassisch:\n",
    "lengths = []\n",
    "for student in students:\n",
    "    lengths.append(len(student))\n",
    "\n",
    "# Als Comprehension\n",
    "lengths = [len(student) for student in students]\n",
    "\n",
    "print(lengths)"
   ]
  },
  {
   "cell_type": "markdown",
   "metadata": {},
   "source": [
    "## Listen verschachteln\n",
    "\n",
    "In Python ist es erlaubt, Listen ineinander zu verschachteln. Das erlaubt uns z. B. eine Matrix zu modellieren:"
   ]
  },
  {
   "cell_type": "code",
   "execution_count": 1,
   "metadata": {
    "collapsed": true
   },
   "outputs": [],
   "source": [
    "liste = [\n",
    "    [\"Berlin\", \"München\", \"Köln\"],\n",
    "    [\"Budapest\", \"Pécs\", \"Sopron\"]\n",
    "]"
   ]
  },
  {
   "cell_type": "code",
   "execution_count": 5,
   "metadata": {},
   "outputs": [
    {
     "data": {
      "text/plain": [
       "'Berlin'"
      ]
     },
     "execution_count": 5,
     "metadata": {},
     "output_type": "execute_result"
    }
   ],
   "source": [
    "liste[0][0]"
   ]
  },
  {
   "cell_type": "markdown",
   "metadata": {},
   "source": [
    "## Übung\n",
    "- Wem schreibt Max briefe?"
   ]
  },
  {
   "cell_type": "code",
   "execution_count": 5,
   "metadata": {},
   "outputs": [],
   "source": [
    "## Übung\n",
    "\n",
    "liste = [\n",
    "    [\"Max\", \"Susi\"],\n",
    "    [\"Susi\", \"Julia\"],\n",
    "    [\"Julia\", \"Franz\"],\n",
    "    [\"Max\", \"Franz\"],\n",
    "    [\"Franz\", \"Julia\"],\n",
    "]\n",
    "#for ... dein code"
   ]
  },
  {
   "cell_type": "markdown",
   "metadata": {},
   "source": [
    "## Listen sortieren\n",
    "\n",
    "Oft hast du das Problem, dass du z. B. eine Liste sortieren möchtest. Python stellt hier bereits eine fertige Funktion zur Verfügung, die wir aber korrekt ansteuern möchten.\n",
    "\n",
    "In dieser Lektion lernst du, wie du:\n",
    "\n",
    "- Daten in Python sortieren kannst\n",
    "- Und die Sortierung beeinflussen kannst."
   ]
  },
  {
   "cell_type": "code",
   "execution_count": 1,
   "metadata": {},
   "outputs": [
    {
     "name": "stdout",
     "output_type": "stream",
     "text": [
      "['Erik', 'Franziska', 'Max', 'Monika']\n"
     ]
    }
   ],
   "source": [
    "l = [\"Max\", \"Monika\", \"Erik\", \"Franziska\"]\n",
    "l.sort()\n",
    "print(l)"
   ]
  },
  {
   "cell_type": "code",
   "execution_count": 2,
   "metadata": {},
   "outputs": [
    {
     "name": "stdout",
     "output_type": "stream",
     "text": [
      "['Monika', 'Max', 'Franziska', 'Erik']\n"
     ]
    }
   ],
   "source": [
    "l = [\"Max\", \"Monika\", \"Erik\", \"Franziska\"]\n",
    "l.sort(reverse=True)\n",
    "print(l)"
   ]
  },
  {
   "cell_type": "markdown",
   "metadata": {},
   "source": [
    "#### Eine eigene Funktion übergeben"
   ]
  },
  {
   "cell_type": "code",
   "execution_count": 5,
   "metadata": {},
   "outputs": [
    {
     "name": "stdout",
     "output_type": "stream",
     "text": [
      "['Max', 'Erik', 'Monika', 'Franziska']\n"
     ]
    }
   ],
   "source": [
    "def get_length(item):\n",
    "    return len(item)\n",
    "l = [\"Max\", \"Monika\", \"Erik\", \"Franziska\"]\n",
    "l.sort(key=get_length)\n",
    "print(l)"
   ]
  },
  {
   "cell_type": "markdown",
   "metadata": {},
   "source": [
    "## Übung \n",
    "Sortiert die Namen so dass sie nicht nach Anfangsbuchstabe, sondern nach Endbuchstabe sortiert sind."
   ]
  },
  {
   "cell_type": "code",
   "execution_count": null,
   "metadata": {},
   "outputs": [],
   "source": [
    "l = [\"Max\", \"Monika\", \"Erik\", \"Franziska\"]\n",
    "def sort_by_last_letter(item):\n",
    "    # euer code hier\n",
    "l = [\"Max\", \"Monika\", \"Erik\", \"Franziska\"]\n",
    "l.sort(key=sort_by_last_letter)\n",
    "print(l)\n"
   ]
  }
 ],
 "metadata": {
  "kernelspec": {
   "display_name": "Python 3",
   "language": "python",
   "name": "python3"
  },
  "language_info": {
   "codemirror_mode": {
    "name": "ipython",
    "version": 3
   },
   "file_extension": ".py",
   "mimetype": "text/x-python",
   "name": "python",
   "nbconvert_exporter": "python",
   "pygments_lexer": "ipython3",
   "version": "3.6.5"
  }
 },
 "nbformat": 4,
 "nbformat_minor": 2
}
